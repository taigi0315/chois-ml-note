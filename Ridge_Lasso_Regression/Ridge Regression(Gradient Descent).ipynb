{
 "cells": [
  {
   "cell_type": "code",
   "execution_count": 2,
   "metadata": {
    "collapsed": true
   },
   "outputs": [],
   "source": [
    "# Importing libraries\n",
    "import numpy as np\n",
    "import pandas as pd\n",
    "import random\n",
    "import sys\n",
    "import matplotlib.pyplot as plt\n",
    "from sklearn.model_selection import train_test_split\n",
    "from sklearn import linear_model\n",
    "\n",
    "%matplotlib inline"
   ]
  },
  {
   "cell_type": "code",
   "execution_count": 4,
   "metadata": {},
   "outputs": [
    {
     "data": {
      "text/html": [
       "<div>\n",
       "<style>\n",
       "    .dataframe thead tr:only-child th {\n",
       "        text-align: right;\n",
       "    }\n",
       "\n",
       "    .dataframe thead th {\n",
       "        text-align: left;\n",
       "    }\n",
       "\n",
       "    .dataframe tbody tr th {\n",
       "        vertical-align: top;\n",
       "    }\n",
       "</style>\n",
       "<table border=\"1\" class=\"dataframe\">\n",
       "  <thead>\n",
       "    <tr style=\"text-align: right;\">\n",
       "      <th></th>\n",
       "      <th>id</th>\n",
       "      <th>date</th>\n",
       "      <th>price</th>\n",
       "      <th>bedrooms</th>\n",
       "      <th>bathrooms</th>\n",
       "      <th>sqft_living</th>\n",
       "      <th>sqft_lot</th>\n",
       "      <th>floors</th>\n",
       "      <th>waterfront</th>\n",
       "      <th>view</th>\n",
       "      <th>...</th>\n",
       "      <th>grade</th>\n",
       "      <th>sqft_above</th>\n",
       "      <th>sqft_basement</th>\n",
       "      <th>yr_built</th>\n",
       "      <th>yr_renovated</th>\n",
       "      <th>zipcode</th>\n",
       "      <th>lat</th>\n",
       "      <th>long</th>\n",
       "      <th>sqft_living15</th>\n",
       "      <th>sqft_lot15</th>\n",
       "    </tr>\n",
       "  </thead>\n",
       "  <tbody>\n",
       "    <tr>\n",
       "      <th>0</th>\n",
       "      <td>7129300520</td>\n",
       "      <td>20141013T000000</td>\n",
       "      <td>221900.0</td>\n",
       "      <td>3</td>\n",
       "      <td>1.00</td>\n",
       "      <td>1180</td>\n",
       "      <td>5650</td>\n",
       "      <td>1.0</td>\n",
       "      <td>0</td>\n",
       "      <td>0</td>\n",
       "      <td>...</td>\n",
       "      <td>7</td>\n",
       "      <td>1180</td>\n",
       "      <td>0</td>\n",
       "      <td>1955</td>\n",
       "      <td>0</td>\n",
       "      <td>98178</td>\n",
       "      <td>47.5112</td>\n",
       "      <td>-122.257</td>\n",
       "      <td>1340</td>\n",
       "      <td>5650</td>\n",
       "    </tr>\n",
       "    <tr>\n",
       "      <th>1</th>\n",
       "      <td>6414100192</td>\n",
       "      <td>20141209T000000</td>\n",
       "      <td>538000.0</td>\n",
       "      <td>3</td>\n",
       "      <td>2.25</td>\n",
       "      <td>2570</td>\n",
       "      <td>7242</td>\n",
       "      <td>2.0</td>\n",
       "      <td>0</td>\n",
       "      <td>0</td>\n",
       "      <td>...</td>\n",
       "      <td>7</td>\n",
       "      <td>2170</td>\n",
       "      <td>400</td>\n",
       "      <td>1951</td>\n",
       "      <td>1991</td>\n",
       "      <td>98125</td>\n",
       "      <td>47.7210</td>\n",
       "      <td>-122.319</td>\n",
       "      <td>1690</td>\n",
       "      <td>7639</td>\n",
       "    </tr>\n",
       "    <tr>\n",
       "      <th>2</th>\n",
       "      <td>5631500400</td>\n",
       "      <td>20150225T000000</td>\n",
       "      <td>180000.0</td>\n",
       "      <td>2</td>\n",
       "      <td>1.00</td>\n",
       "      <td>770</td>\n",
       "      <td>10000</td>\n",
       "      <td>1.0</td>\n",
       "      <td>0</td>\n",
       "      <td>0</td>\n",
       "      <td>...</td>\n",
       "      <td>6</td>\n",
       "      <td>770</td>\n",
       "      <td>0</td>\n",
       "      <td>1933</td>\n",
       "      <td>0</td>\n",
       "      <td>98028</td>\n",
       "      <td>47.7379</td>\n",
       "      <td>-122.233</td>\n",
       "      <td>2720</td>\n",
       "      <td>8062</td>\n",
       "    </tr>\n",
       "    <tr>\n",
       "      <th>3</th>\n",
       "      <td>2487200875</td>\n",
       "      <td>20141209T000000</td>\n",
       "      <td>604000.0</td>\n",
       "      <td>4</td>\n",
       "      <td>3.00</td>\n",
       "      <td>1960</td>\n",
       "      <td>5000</td>\n",
       "      <td>1.0</td>\n",
       "      <td>0</td>\n",
       "      <td>0</td>\n",
       "      <td>...</td>\n",
       "      <td>7</td>\n",
       "      <td>1050</td>\n",
       "      <td>910</td>\n",
       "      <td>1965</td>\n",
       "      <td>0</td>\n",
       "      <td>98136</td>\n",
       "      <td>47.5208</td>\n",
       "      <td>-122.393</td>\n",
       "      <td>1360</td>\n",
       "      <td>5000</td>\n",
       "    </tr>\n",
       "    <tr>\n",
       "      <th>4</th>\n",
       "      <td>1954400510</td>\n",
       "      <td>20150218T000000</td>\n",
       "      <td>510000.0</td>\n",
       "      <td>3</td>\n",
       "      <td>2.00</td>\n",
       "      <td>1680</td>\n",
       "      <td>8080</td>\n",
       "      <td>1.0</td>\n",
       "      <td>0</td>\n",
       "      <td>0</td>\n",
       "      <td>...</td>\n",
       "      <td>8</td>\n",
       "      <td>1680</td>\n",
       "      <td>0</td>\n",
       "      <td>1987</td>\n",
       "      <td>0</td>\n",
       "      <td>98074</td>\n",
       "      <td>47.6168</td>\n",
       "      <td>-122.045</td>\n",
       "      <td>1800</td>\n",
       "      <td>7503</td>\n",
       "    </tr>\n",
       "  </tbody>\n",
       "</table>\n",
       "<p>5 rows × 21 columns</p>\n",
       "</div>"
      ],
      "text/plain": [
       "           id             date     price  bedrooms  bathrooms  sqft_living  \\\n",
       "0  7129300520  20141013T000000  221900.0         3       1.00         1180   \n",
       "1  6414100192  20141209T000000  538000.0         3       2.25         2570   \n",
       "2  5631500400  20150225T000000  180000.0         2       1.00          770   \n",
       "3  2487200875  20141209T000000  604000.0         4       3.00         1960   \n",
       "4  1954400510  20150218T000000  510000.0         3       2.00         1680   \n",
       "\n",
       "   sqft_lot  floors  waterfront  view     ...      grade  sqft_above  \\\n",
       "0      5650     1.0           0     0     ...          7        1180   \n",
       "1      7242     2.0           0     0     ...          7        2170   \n",
       "2     10000     1.0           0     0     ...          6         770   \n",
       "3      5000     1.0           0     0     ...          7        1050   \n",
       "4      8080     1.0           0     0     ...          8        1680   \n",
       "\n",
       "   sqft_basement  yr_built  yr_renovated  zipcode      lat     long  \\\n",
       "0              0      1955             0    98178  47.5112 -122.257   \n",
       "1            400      1951          1991    98125  47.7210 -122.319   \n",
       "2              0      1933             0    98028  47.7379 -122.233   \n",
       "3            910      1965             0    98136  47.5208 -122.393   \n",
       "4              0      1987             0    98074  47.6168 -122.045   \n",
       "\n",
       "   sqft_living15  sqft_lot15  \n",
       "0           1340        5650  \n",
       "1           1690        7639  \n",
       "2           2720        8062  \n",
       "3           1360        5000  \n",
       "4           1800        7503  \n",
       "\n",
       "[5 rows x 21 columns]"
      ]
     },
     "execution_count": 4,
     "metadata": {},
     "output_type": "execute_result"
    },
    {
     "data": {
      "image/png": "[encoded data removed]",
      "text/plain": [
       "<matplotlib.figure.Figure at 0x10bb900f0>"
      ]
     },
     "metadata": {},
     "output_type": "display_data"
    }
   ],
   "source": [
    "# Load & Quick look the data\n",
    "house_price = pd.read_csv('kc_house_data.csv')\n",
    "plt.scatter(house_price['sqft_living'], house_price['price'])\n",
    "plt.xlabel('sqft_living', fontsize=12)\n",
    "plt.ylabel('price', fontsize=12)\n",
    "house_price.head()"
   ]
  },
  {
   "cell_type": "code",
   "execution_count": 5,
   "metadata": {
    "collapsed": true
   },
   "outputs": [],
   "source": [
    "# converting 'built' and 'renovated' data\n",
    "house_price['age'] = 2018 - house_price['yr_built']\n",
    "for index, row in house_price.iterrows():\n",
    "    if house_price['yr_renovated'][index] == 0:\n",
    "        house_price.loc[index, 'age_renovated'] = house_price.loc[index, 'age']\n",
    "    else:\n",
    "        house_price.loc[index, 'age_renovated'] = 2018 - house_price.loc[index, 'yr_renovated']"
   ]
  },
  {
   "cell_type": "code",
   "execution_count": 6,
   "metadata": {
    "collapsed": true
   },
   "outputs": [],
   "source": [
    "# Dropping the features we don't need\n",
    "drop_fields = ['id', 'date', 'long', 'sqft_living15', 'sqft_lot15', 'zipcode', 'lat', 'long', 'grade', 'view', 'yr_built', 'yr_renovated']\n",
    "house_price = house_price.drop(drop_fields, axis=1)"
   ]
  },
  {
   "cell_type": "code",
   "execution_count": 7,
   "metadata": {},
   "outputs": [
    {
     "name": "stdout",
     "output_type": "stream",
     "text": [
      "Shape of data:  (21613, 12)\n",
      "List of features: \n",
      "price\n",
      "bedrooms\n",
      "bathrooms\n",
      "sqft_living\n",
      "sqft_lot\n",
      "floors\n",
      "waterfront\n",
      "condition\n",
      "sqft_above\n",
      "sqft_basement\n",
      "age\n",
      "age_renovated\n"
     ]
    }
   ],
   "source": [
    "# Check features & data shape after processing.\n",
    "print ('Shape of data: ' , house_price.shape)\n",
    "print ('List of features: ', *house_price.columns.values, sep='\\n')"
   ]
  },
  {
   "cell_type": "code",
   "execution_count": 8,
   "metadata": {},
   "outputs": [
    {
     "name": "stdout",
     "output_type": "stream",
     "text": [
      "price            1.000000\n",
      "sqft_living      0.702035\n",
      "sqft_above       0.605567\n",
      "bathrooms        0.525138\n",
      "sqft_basement    0.323816\n",
      "bedrooms         0.308350\n",
      "waterfront       0.266369\n",
      "floors           0.256794\n",
      "sqft_lot         0.089661\n",
      "condition        0.036362\n",
      "age             -0.054012\n",
      "age_renovated   -0.105755\n",
      "Name: price, dtype: float64\n"
     ]
    }
   ],
   "source": [
    "# correlation with price feature\n",
    "print((house_price.corr()['price']).sort_values(ascending=False))"
   ]
  },
  {
   "cell_type": "code",
   "execution_count": 9,
   "metadata": {},
   "outputs": [
    {
     "name": "stdout",
     "output_type": "stream",
     "text": [
      "Train : (13832, 12) \n",
      "Valid:  (3458, 12) \n",
      "Test : (4323, 12)\n"
     ]
    }
   ],
   "source": [
    "# split the data set\n",
    "[train, test] = train_test_split(house_price, test_size= 0.2)\n",
    "[train, valid] = train_test_split(train, test_size= 0.2)\n",
    "print('Train :', train.shape, '\\nValid: ', valid.shape, '\\nTest :', test.shape)"
   ]
  },
  {
   "cell_type": "code",
   "execution_count": 10,
   "metadata": {},
   "outputs": [
    {
     "name": "stdout",
     "output_type": "stream",
     "text": [
      "X:  (13832, 11) \n",
      "y:  (13832,)\n"
     ]
    }
   ],
   "source": [
    "# Splitting data\n",
    "train_X = train.loc[:, train.columns != 'price']\n",
    "train_y = train['price']\n",
    "valid_X = valid.loc[:, valid.columns != 'price']\n",
    "valid_y = valid['price']\n",
    "test_X = test.loc[:, test.columns != 'price']\n",
    "test_y = test['price']\n",
    "print('X: ', train_X.shape, '\\ny: ', train_y.shape)"
   ]
  },
  {
   "cell_type": "markdown",
   "metadata": {
    "collapsed": true
   },
   "source": [
    "## Building Ridge Regression Model"
   ]
  },
  {
   "cell_type": "code",
   "execution_count": 12,
   "metadata": {
    "collapsed": true
   },
   "outputs": [],
   "source": [
    "class RidgeRegression(object):\n",
    "    def __init__(self, learning_rate=1e-5, l2_penalty=1e-1, verbose=False, iteration=1e3):\n",
    "        self.weights = None\n",
    "        self.l2_penalty = l2_penalty\n",
    "        self.learning_rate = learning_rate\n",
    "        self.iteration = iteration\n",
    "        self.cost_history = []\n",
    "        \n",
    "    def predict(self, X):\n",
    "        y_pred= np.dot(X, self.weights)\n",
    "        return(y_pred)\n",
    "\n",
    "    def calculate_cost(self, y, y_pred):\n",
    "        cost = np.sum((y - y_pred)**2) + self.l2_penalty*np.sum(self.weights ** 2)\n",
    "        return cost\n",
    "\n",
    "    def fit(self, X, y, learning_rate, l2_penalty, iteration, verbose):\n",
    "        self.learning_rate = learning_rate\n",
    "        self.l2_penalty = l2_penalty\n",
    "        self.iteration = iteration\n",
    "        # Case : 1 feature input data\n",
    "        if len(X.shape) == 1: \n",
    "            self.weights = 0\n",
    "        else: \n",
    "            self.weights = np.zeros(X.shape[1])\n",
    "        for iter in range(int(iteration)):\n",
    "            y_pred = self.predict(X)\n",
    "            error = y - y_pred\n",
    "            # store cost history for printing\n",
    "            cost = self.calculate_cost(y, y_pred)\n",
    "            self.cost_history.append(cost)\n",
    "            # weight update\n",
    "            self.weights += learning_rate*((np.dot(X.T, error) - l2_penalty*self.weights))\n",
    "            # print progressing\n",
    "            if verbose == True:\n",
    "                sys.stdout.write(\"\\rProgress: {:2.1f}\".format(100 * iter/float(iteration)) \\\n",
    "                                    + \"% ... Cost: \" + str(cost))\n",
    "                sys.stdout.flush()\n",
    "            \n",
    "    def l2_penalty_tuning(self, train_X, train_y, valid_X, valid_y, l2_penalty):\n",
    "        # uses self.iteration, self.learning.\n",
    "        lowest_cost = None\n",
    "        best_l2_penalty = None\n",
    "        print(\"Tuning Penalty...\")\n",
    "        for index, penalty in enumerate(l2_penalty_values):\n",
    "            # train the model with training data\n",
    "            self.fit(train_X, train_y, l2_penalty = penalty, learning_rate=self.learning_rate, iteration=self.iteration, verbose=False)\n",
    "            # calculate the cost with valid data \n",
    "            y_pred = self.predict(valid_X)\n",
    "            cost = np.sum((valid_y - y_pred)**2)\n",
    "            if (best_l2_penalty == None or cost < lowest_cost):\n",
    "                lowest_cost = cost\n",
    "                best_l2_penalty = penalty\n",
    "            print(\"[%d/%d] Penalty: %.5f    Cost: %.5e\" %(index, len(l2_penalty), penalty, cost))\n",
    "        print (\"----------------\")\n",
    "        return [lowest_cost, best_l2_penalty]\n",
    "    \n",
    "    def r2_score(self, X, y):\n",
    "        y_pred = self.predict(X)\n",
    "        SSE = np.sum((y - y_pred) ** 2)\n",
    "        SSTO = np.sum((y - y.mean()) ** 2)\n",
    "        return (1 - (SSE / float(SSTO)))"
   ]
  },
  {
   "cell_type": "code",
   "execution_count": 13,
   "metadata": {},
   "outputs": [
    {
     "name": "stdout",
     "output_type": "stream",
     "text": [
      "Progress: 99.9% ... Cost: 9.45856142325e+14"
     ]
    }
   ],
   "source": [
    "ridge_model = RidgeRegression()\n",
    "ridge_model.fit(train_X, train_y, learning_rate=3e-14, l2_penalty=10, iteration=1e3, verbose=True)"
   ]
  },
  {
   "cell_type": "code",
   "execution_count": 14,
   "metadata": {},
   "outputs": [
    {
     "name": "stdout",
     "output_type": "stream",
     "text": [
      "[  1.97537846e-01   1.38965059e-01   1.46934869e+02  -1.38621589e-01\n",
      "   8.98123656e-02   3.28284864e-03   2.00213733e-01   1.17651520e+02\n",
      "   2.92833489e+01   3.16686836e+00   2.85265616e+00]\n"
     ]
    }
   ],
   "source": [
    "print (ridge_model.weights)"
   ]
  },
  {
   "cell_type": "code",
   "execution_count": 15,
   "metadata": {},
   "outputs": [
    {
     "data": {
      "text/plain": [
       "<matplotlib.text.Text at 0x116b992b0>"
      ]
     },
     "execution_count": 15,
     "metadata": {},
     "output_type": "execute_result"
    },
    {
     "data": {
      "image/png": "[encoded data removed]",
      "text/plain": [
       "<matplotlib.figure.Figure at 0x1146d94e0>"
      ]
     },
     "metadata": {},
     "output_type": "display_data"
    }
   ],
   "source": [
    "plt.plot(ridge_model.cost_history, label=\"Training cost\")\n",
    "plt.xlabel('Iteration', fontsize=14)\n",
    "plt.ylabel('Cost', fontsize=14)"
   ]
  },
  {
   "cell_type": "code",
   "execution_count": 18,
   "metadata": {},
   "outputs": [
    {
     "name": "stdout",
     "output_type": "stream",
     "text": [
      "R2_score :  0.46699065492667735\n"
     ]
    },
    {
     "data": {
      "image/png": "[encoded data removed]",
      "text/plain": [
       "<matplotlib.figure.Figure at 0x11d5d9ac8>"
      ]
     },
     "metadata": {},
     "output_type": "display_data"
    }
   ],
   "source": [
    "plt.scatter(train_X['sqft_living'], train_y)\n",
    "plt.scatter(train_X['sqft_living'], ridge_model.predict(train_X))\n",
    "plt.xlabel('sqft_living', fontsize=12)\n",
    "plt.ylabel('price', fontsize=12)\n",
    "print (\"R2_score : \", ridge_model.r2_score(train_X, train_y))"
   ]
  },
  {
   "cell_type": "code",
   "execution_count": 19,
   "metadata": {},
   "outputs": [
    {
     "name": "stdout",
     "output_type": "stream",
     "text": [
      "Tuning Penalty...\n",
      "[0/5] Penalty: 0.00010    Cost: 2.62383e+14\n",
      "[1/5] Penalty: 0.01000    Cost: 2.62383e+14\n",
      "[2/5] Penalty: 1.00000    Cost: 2.62383e+14\n",
      "[3/5] Penalty: 100.00000    Cost: 2.62383e+14\n",
      "[4/5] Penalty: 10000.00000    Cost: 2.62383e+14\n",
      "----------------\n",
      "Best Penalty : 0.00010   Cost : 2.62383e+14 \n"
     ]
    }
   ],
   "source": [
    "l2_penalty_values = np.logspace(-4, 4, num=5)\n",
    "[lowest_cost, best_penalty] = ridge_model.l2_penalty_tuning(train_X, train_y, valid_X, valid_y, l2_penalty = l2_penalty_values)\n",
    "\n",
    "print(\"Best Penalty : %.5f   Cost : %.5e \" %(best_penalty, lowest_cost))"
   ]
  },
  {
   "cell_type": "markdown",
   "metadata": {},
   "source": [
    "## Model with best L2 penalty"
   ]
  },
  {
   "cell_type": "code",
   "execution_count": 20,
   "metadata": {},
   "outputs": [
    {
     "name": "stdout",
     "output_type": "stream",
     "text": [
      "Progress: 100.0% ... Cost: 9.17579502699e+14"
     ]
    }
   ],
   "source": [
    "best_model = RidgeRegression()\n",
    "best_model.fit(train_X, train_y, l2_penalty=best_penalty, learning_rate=3.5e-14, iteration=5e3, verbose=True)"
   ]
  },
  {
   "cell_type": "code",
   "execution_count": 22,
   "metadata": {},
   "outputs": [
    {
     "data": {
      "text/plain": [
       "0.497580674551224"
      ]
     },
     "execution_count": 22,
     "metadata": {},
     "output_type": "execute_result"
    },
    {
     "data": {
      "image/png": "[encoded data removed]",
      "text/plain": [
       "<matplotlib.figure.Figure at 0x11d8e0518>"
      ]
     },
     "metadata": {},
     "output_type": "display_data"
    }
   ],
   "source": [
    "plt.scatter(test_X['sqft_living'], test_y)\n",
    "plt.scatter(test_X['sqft_living'], best_model.predict(test_X))\n",
    "plt.xlabel('sqft_living', fontsize=12)\n",
    "plt.ylabel('price', fontsize=12)\n",
    "best_model.r2_score(test_X, test_y)"
   ]
  },
  {
   "cell_type": "markdown",
   "metadata": {},
   "source": [
    "# LASSO regression coordinate descent"
   ]
  },
  {
   "cell_type": "markdown",
   "metadata": {},
   "source": [
    "## Normalize features\n",
    "In the house dataset, features vary wildly in their relative magnitude: `sqft_living` is very large overall compared to `bedrooms`, for instance. As a result, weight for `sqft_living` would be much smaller than weight for `bedrooms`. This is problematic because \"small\" weights are dropped first as `l1_penalty` goes up. \n",
    "\n",
    "To give equal considerations for all features, we need to **normalize features**. we divide each feature by its 2-norm so that the transformed feature has norm 1."
   ]
  },
  {
   "cell_type": "code",
   "execution_count": 23,
   "metadata": {},
   "outputs": [
    {
     "name": "stdout",
     "output_type": "stream",
     "text": [
      "Train : (13832, 12) \n",
      "Valid:  (3458, 12) \n",
      "Test : (4323, 12)\n"
     ]
    }
   ],
   "source": [
    "# split the data set\n",
    "[train, test] = train_test_split(house_price, test_size= 0.2)\n",
    "[train, valid] = train_test_split(train, test_size= 0.2)\n",
    "print('Train :', train.shape, '\\nValid: ', valid.shape, '\\nTest :', test.shape)"
   ]
  },
  {
   "cell_type": "code",
   "execution_count": 24,
   "metadata": {},
   "outputs": [
    {
     "name": "stdout",
     "output_type": "stream",
     "text": [
      "X:  (13832, 11) \n",
      "y:  (13832,)\n"
     ]
    }
   ],
   "source": [
    "# Splitting data\n",
    "train_X = train.loc[:, train.columns != 'price']\n",
    "train_y = train['price']\n",
    "valid_X = valid.loc[:, valid.columns != 'price']\n",
    "valid_y = valid['price']\n",
    "test_X = test.loc[:, test.columns != 'price']\n",
    "test_y = test['price']\n",
    "print('X: ', train_X.shape, '\\ny: ', train_y.shape)"
   ]
  },
  {
   "cell_type": "code",
   "execution_count": 25,
   "metadata": {
    "collapsed": true
   },
   "outputs": [],
   "source": [
    "def normalize_features(feature_matrix):\n",
    "    norms = np.linalg.norm(feature_matrix, axis=0)\n",
    "    normalized_features = feature_matrix / norms\n",
    "    return(normalized_features, norms)"
   ]
  },
  {
   "cell_type": "code",
   "execution_count": 26,
   "metadata": {},
   "outputs": [
    {
     "name": "stdout",
     "output_type": "stream",
     "text": [
      "Norms : \n",
      "411.43650786\n",
      "264.471524932\n",
      "267565.96541\n",
      "5117564.97463\n",
      "186.512063953\n",
      "10.0995049384\n",
      "407.953428715\n",
      "232098.51959\n",
      "62263.6082957\n",
      "6528.1934714\n",
      "6260.28026529\n"
     ]
    },
    {
     "data": {
      "text/html": [
       "<div>\n",
       "<style>\n",
       "    .dataframe thead tr:only-child th {\n",
       "        text-align: right;\n",
       "    }\n",
       "\n",
       "    .dataframe thead th {\n",
       "        text-align: left;\n",
       "    }\n",
       "\n",
       "    .dataframe tbody tr th {\n",
       "        vertical-align: top;\n",
       "    }\n",
       "</style>\n",
       "<table border=\"1\" class=\"dataframe\">\n",
       "  <thead>\n",
       "    <tr style=\"text-align: right;\">\n",
       "      <th></th>\n",
       "      <th>bedrooms</th>\n",
       "      <th>bathrooms</th>\n",
       "      <th>sqft_living</th>\n",
       "      <th>sqft_lot</th>\n",
       "      <th>floors</th>\n",
       "      <th>waterfront</th>\n",
       "      <th>condition</th>\n",
       "      <th>sqft_above</th>\n",
       "      <th>sqft_basement</th>\n",
       "      <th>age</th>\n",
       "      <th>age_renovated</th>\n",
       "    </tr>\n",
       "  </thead>\n",
       "  <tbody>\n",
       "    <tr>\n",
       "      <th>10184</th>\n",
       "      <td>0.009722</td>\n",
       "      <td>0.009453</td>\n",
       "      <td>0.011362</td>\n",
       "      <td>0.006878</td>\n",
       "      <td>0.010723</td>\n",
       "      <td>0.0</td>\n",
       "      <td>0.009805</td>\n",
       "      <td>0.013098</td>\n",
       "      <td>0.000000</td>\n",
       "      <td>0.004749</td>\n",
       "      <td>0.004952</td>\n",
       "    </tr>\n",
       "    <tr>\n",
       "      <th>4741</th>\n",
       "      <td>0.007292</td>\n",
       "      <td>0.008508</td>\n",
       "      <td>0.010390</td>\n",
       "      <td>0.006157</td>\n",
       "      <td>0.010723</td>\n",
       "      <td>0.0</td>\n",
       "      <td>0.007354</td>\n",
       "      <td>0.011978</td>\n",
       "      <td>0.000000</td>\n",
       "      <td>0.005974</td>\n",
       "      <td>0.006230</td>\n",
       "    </tr>\n",
       "    <tr>\n",
       "      <th>14873</th>\n",
       "      <td>0.007292</td>\n",
       "      <td>0.008508</td>\n",
       "      <td>0.004821</td>\n",
       "      <td>0.000489</td>\n",
       "      <td>0.010723</td>\n",
       "      <td>0.0</td>\n",
       "      <td>0.009805</td>\n",
       "      <td>0.005558</td>\n",
       "      <td>0.000000</td>\n",
       "      <td>0.004749</td>\n",
       "      <td>0.004952</td>\n",
       "    </tr>\n",
       "    <tr>\n",
       "      <th>13030</th>\n",
       "      <td>0.007292</td>\n",
       "      <td>0.007562</td>\n",
       "      <td>0.004672</td>\n",
       "      <td>0.001688</td>\n",
       "      <td>0.005362</td>\n",
       "      <td>0.0</td>\n",
       "      <td>0.012256</td>\n",
       "      <td>0.005386</td>\n",
       "      <td>0.000000</td>\n",
       "      <td>0.007659</td>\n",
       "      <td>0.007987</td>\n",
       "    </tr>\n",
       "    <tr>\n",
       "      <th>7400</th>\n",
       "      <td>0.007292</td>\n",
       "      <td>0.003781</td>\n",
       "      <td>0.003887</td>\n",
       "      <td>0.001738</td>\n",
       "      <td>0.005362</td>\n",
       "      <td>0.0</td>\n",
       "      <td>0.009805</td>\n",
       "      <td>0.003447</td>\n",
       "      <td>0.003855</td>\n",
       "      <td>0.009191</td>\n",
       "      <td>0.009584</td>\n",
       "    </tr>\n",
       "  </tbody>\n",
       "</table>\n",
       "</div>"
      ],
      "text/plain": [
       "       bedrooms  bathrooms  sqft_living  sqft_lot    floors  waterfront  \\\n",
       "10184  0.009722   0.009453     0.011362  0.006878  0.010723         0.0   \n",
       "4741   0.007292   0.008508     0.010390  0.006157  0.010723         0.0   \n",
       "14873  0.007292   0.008508     0.004821  0.000489  0.010723         0.0   \n",
       "13030  0.007292   0.007562     0.004672  0.001688  0.005362         0.0   \n",
       "7400   0.007292   0.003781     0.003887  0.001738  0.005362         0.0   \n",
       "\n",
       "       condition  sqft_above  sqft_basement       age  age_renovated  \n",
       "10184   0.009805    0.013098       0.000000  0.004749       0.004952  \n",
       "4741    0.007354    0.011978       0.000000  0.005974       0.006230  \n",
       "14873   0.009805    0.005558       0.000000  0.004749       0.004952  \n",
       "13030   0.012256    0.005386       0.000000  0.007659       0.007987  \n",
       "7400    0.009805    0.003447       0.003855  0.009191       0.009584  "
      ]
     },
     "execution_count": 26,
     "metadata": {},
     "output_type": "execute_result"
    }
   ],
   "source": [
    "# normalize data\n",
    "[train_X, train_norms] = normalize_features(train_X)\n",
    "print('Norms : ', *train_norms, sep='\\n')\n",
    "train_X.head()"
   ]
  },
  {
   "cell_type": "markdown",
   "metadata": {},
   "source": [
    "# Implementing Coordinate Descent with normalized features\n",
    "We seek to obtain a sparse set of weights by minimizing the LASSO cost function\n",
    "```\n",
    "SUM[ (prediction - output)^2 ] + lambda*( |w[1]| + ... + |w[k]|).\n",
    "```\n",
    "(By convention, we do not include `w[0]` in the L1 penalty term. We never want to push the intercept to zero.)\n",
    "\n",
    "The absolute value sign makes the cost function non-differentiable, so simple gradient descent is not viable (you would need to implement a method called subgradient descent). Instead, we will use **coordinate descent**: at each iteration, we will fix all weights but weight `i` and find the value of weight `i` that minimizes the objective. That is, we look for\n",
    "```\n",
    "argmin_{w[i]} [ SUM[ (prediction - output)^2 ] + lambda*( |w[1]| + ... + |w[k]|) ]\n",
    "```\n",
    "where all weights other than `w[i]` are held to be constant. We will optimize one `w[i]` at a time, circling through the weights multiple times.  \n",
    "  1. Pick a coordinate `i`\n",
    "  2. Compute `w[i]` that minimizes the cost function `SUM[ (prediction - output)^2 ] + lambda*( |w[1]| + ... + |w[k]|)`\n",
    "  3. Repeat Steps 1 and 2 for all coordinates, multiple times\n",
    " "
   ]
  },
  {
   "cell_type": "code",
   "execution_count": 27,
   "metadata": {
    "collapsed": true
   },
   "outputs": [],
   "source": [
    "class LassoRegression():\n",
    "    def __init__(self):\n",
    "        self.weights = None\n",
    "        self.l1_penalty = None\n",
    "        self.iteration = None\n",
    "        self.tolerance = None\n",
    "\n",
    "    def predict(self, feature_matrix):\n",
    "        predictions = np.dot(feature_matrix, self.weights)\n",
    "        return(predictions)\n",
    "\n",
    "    def lasso_coordinate_descent_step(self, i, X, y):\n",
    "        # compute prediction\n",
    "        prediction = self.predict(X)\n",
    "        # compute ro[i] = SUM[ [feature_i]*(output - prediction + weight[i]*[feature_i]) ]\n",
    "        ro_i = (X.iloc[:,i] * (y - prediction + self.weights[i]*X.iloc[:,i]) ).sum()\n",
    "        if i == 0: # intercept -- do not regularize\n",
    "            new_weight_i = ro_i \n",
    "        elif ro_i < -self.l1_penalty/2.:\n",
    "            new_weight_i = ro_i + (self.l1_penalty/2)\n",
    "        elif ro_i > self.l1_penalty/2.:\n",
    "            new_weight_i = ro_i - (self.l1_penalty/2)\n",
    "        else:\n",
    "            new_weight_i = 0.\n",
    "\n",
    "        return new_weight_i\n",
    "\n",
    "    def fit(self, X, y, l1_penalty, tolerance=1e-1, verbose=False):\n",
    "        self.l1_penalty = l1_penalty\n",
    "        self.verbose = verbose\n",
    "        self.tolerance = tolerance\n",
    "        self.weights = np.zeros(X.shape[1])\n",
    "        \n",
    "        converge = True    \n",
    "        print_index = 0\n",
    "        iter = 0\n",
    "        while(converge):\n",
    "            max_change = 0\n",
    "            iter += 1\n",
    "            changes = []\n",
    "            for i in range(len(self.weights)):\n",
    "                old_weights_i = self.weights[i]\n",
    "                self.weights[i] = self.lasso_coordinate_descent_step(i, X, y)\n",
    "                #print \"new weight = %d\" %weights[i]\n",
    "                this_change = self.weights[i] - old_weights_i\n",
    "                changes.append(this_change)\n",
    "                max_change =  max(np.absolute(changes))\n",
    "                print_index += 1\n",
    "                if(verbose == True and print_index % 500 == 0):    \n",
    "                    print(\"max change : %.3f\" %(max_change) )\n",
    "                            \n",
    "            if (max_change < self.tolerance or iter > 1e3) :\n",
    "                converge = False\n",
    "            \n",
    "    def r2_score(self, X, y):\n",
    "        y_pred = self.predict(X)\n",
    "        SSE = np.sum((y - y_pred) ** 2)\n",
    "        SSTO = np.sum((y - y.mean()) ** 2)\n",
    "        return (1 - (SSE / float(SSTO)))\n",
    "    \n",
    "    def l1_penalty_tuning(self, train_X, train_y, valid_X, valid_y, l1_penalty, tolerance=10):\n",
    "        lowest_cost = None\n",
    "        best_l1_penalty = None\n",
    "        print(\"Tuning Penalty...\")\n",
    "        for index, penalty in enumerate(l1_penalty_values):\n",
    "            self.fit(train_X, train_y, l1_penalty = penalty, tolerance=tolerance, verbose=False)\n",
    "            cost = sum((valid_y-self.predict(valid_X))**2)\n",
    "            if (best_l1_penalty == None or cost < lowest_cost):\n",
    "                lowest_cost = cost\n",
    "                best_l1_penalty = penalty\n",
    "            print(\"[%d/%d] Penalty: %.5f    Cost: %.5e\" %(index, len(l1_penalty), penalty, cost))\n",
    "        print (\"----------------\")\n",
    "        return [lowest_cost, best_l1_penalty]"
   ]
  },
  {
   "cell_type": "code",
   "execution_count": 28,
   "metadata": {},
   "outputs": [
    {
     "name": "stdout",
     "output_type": "stream",
     "text": [
      "max change : 455442.772\n",
      "max change : 168035.924\n",
      "max change : 57189.214\n",
      "max change : 19382.170\n",
      "max change : 6373.036\n",
      "max change : 2142.902\n",
      "max change : 531.528\n",
      "max change : 236.191\n",
      "max change : 6.130\n",
      "max change : 26.068\n"
     ]
    }
   ],
   "source": [
    "lasso_model = LassoRegression()\n",
    "lasso_model.fit(train_X, train_y, l1_penalty=1, tolerance=10, verbose=True)"
   ]
  },
  {
   "cell_type": "code",
   "execution_count": 34,
   "metadata": {},
   "outputs": [
    {
     "data": {
      "text/plain": [
       "<matplotlib.text.Text at 0x114130898>"
      ]
     },
     "execution_count": 34,
     "metadata": {},
     "output_type": "execute_result"
    },
    {
     "data": {
      "image/png": "[encoded data removed]",
      "text/plain": [
       "<matplotlib.figure.Figure at 0x110da8400>"
      ]
     },
     "metadata": {},
     "output_type": "display_data"
    }
   ],
   "source": [
    "plt.scatter(train_X['sqft_living'], train_y)\n",
    "plt.scatter(train_X['sqft_living'], lasso_model.predict(train_X))\n",
    "plt.xlabel('sqft_living', fontsize=12)\n",
    "plt.ylabel('price', fontsize=12)"
   ]
  },
  {
   "cell_type": "code",
   "execution_count": 30,
   "metadata": {
    "collapsed": true
   },
   "outputs": [],
   "source": [
    "# since we normalized train data, we have to normalize test data as well.\n",
    "normalized_valid_X = valid_X / train_norms"
   ]
  },
  {
   "cell_type": "code",
   "execution_count": 31,
   "metadata": {},
   "outputs": [
    {
     "name": "stdout",
     "output_type": "stream",
     "text": [
      "Tuning Penalty...\n",
      "[0/5] Penalty: 10.00000    Cost: 2.08539e+14\n",
      "[1/5] Penalty: 100.00000    Cost: 2.08539e+14\n",
      "[2/5] Penalty: 1000.00000    Cost: 2.08538e+14\n",
      "[3/5] Penalty: 10000.00000    Cost: 2.08535e+14\n",
      "[4/5] Penalty: 100000.00000    Cost: 2.08560e+14\n",
      "----------------\n",
      "Best Penalty : 10000.000   Cost : 2.08535e+14 \n"
     ]
    }
   ],
   "source": [
    "# since train data is normalized, normalize the result weight to use it for test data set.\n",
    "l1_penalty_values = np.logspace(1, 5, num=5)\n",
    "[lowest_cost, best_penalty] = lasso_model.l1_penalty_tuning(train_X, train_y, normalized_valid_X, valid_y, l1_penalty = l1_penalty_values, tolerance=1e3)\n",
    "\n",
    "print(\"Best Penalty : %.3f   Cost : %.5e \" %(best_penalty, lowest_cost))"
   ]
  },
  {
   "cell_type": "code",
   "execution_count": 32,
   "metadata": {},
   "outputs": [
    {
     "name": "stdout",
     "output_type": "stream",
     "text": [
      "max change : 457412.689\n",
      "max change : 169163.286\n",
      "max change : 56956.610\n",
      "max change : 19608.141\n",
      "max change : 6816.760\n",
      "max change : 2659.781\n",
      "max change : 522.241\n",
      "max change : 786.343\n",
      "max change : 6.022\n",
      "max change : 579.898\n",
      "max change : 562.927\n",
      "max change : 557.157\n",
      "max change : 555.287\n",
      "max change : 554.651\n",
      "max change : 554.445\n",
      "max change : 554.375\n",
      "max change : 554.353\n",
      "max change : 0.003\n",
      "max change : 554.343\n",
      "max change : 0.000\n",
      "max change : 554.341\n",
      "max change : 554.341\n"
     ]
    }
   ],
   "source": [
    "best_lasso_model = LassoRegression()\n",
    "best_lasso_model.fit(train_X, train_y, l1_penalty=best_penalty, tolerance=10, verbose=True)"
   ]
  },
  {
   "cell_type": "code",
   "execution_count": 33,
   "metadata": {},
   "outputs": [
    {
     "data": {
      "text/plain": [
       "<matplotlib.text.Text at 0x114190400>"
      ]
     },
     "execution_count": 33,
     "metadata": {},
     "output_type": "execute_result"
    },
    {
     "data": {
      "image/png": "[encoded data removed]",
      "text/plain": [
       "<matplotlib.figure.Figure at 0x11d5e3e80>"
      ]
     },
     "metadata": {},
     "output_type": "display_data"
    }
   ],
   "source": [
    "plt.scatter(test_X['sqft_living'], test_y)\n",
    "plt.scatter(test_X['sqft_living'], best_lasso_model.predict(test_X/train_norms))\n",
    "plt.xlabel('sqft_living', fontsize=12)\n",
    "plt.ylabel('price', fontsize=12)"
   ]
  }
 ],
 "metadata": {
  "kernelspec": {
   "display_name": "Python 3",
   "language": "python",
   "name": "python3"
  },
  "language_info": {
   "codemirror_mode": {
    "name": "ipython",
    "version": 3
   },
   "file_extension": ".py",
   "mimetype": "text/x-python",
   "name": "python",
   "nbconvert_exporter": "python",
   "pygments_lexer": "ipython3",
   "version": "3.6.0"
  }
 },
 "nbformat": 4,
 "nbformat_minor": 2
}
