{
 "cells": [
  {
   "cell_type": "code",
   "execution_count": 326,
   "metadata": {
    "collapsed": true
   },
   "outputs": [],
   "source": [
    "# Importing libraries\n",
    "import numpy as np\n",
    "import pandas as pd\n",
    "import random\n",
    "import sys\n",
    "import matplotlib.pyplot as plt\n",
    "from sklearn.model_selection import train_test_split\n",
    "from sklearn import linear_model\n",
    "\n",
    "%matplotlib inline"
   ]
  },
  {
   "cell_type": "code",
   "execution_count": 327,
   "metadata": {},
   "outputs": [
    {
     "data": {
      "text/html": [
       "<div>\n",
       "<style>\n",
       "    .dataframe thead tr:only-child th {\n",
       "        text-align: right;\n",
       "    }\n",
       "\n",
       "    .dataframe thead th {\n",
       "        text-align: left;\n",
       "    }\n",
       "\n",
       "    .dataframe tbody tr th {\n",
       "        vertical-align: top;\n",
       "    }\n",
       "</style>\n",
       "<table border=\"1\" class=\"dataframe\">\n",
       "  <thead>\n",
       "    <tr style=\"text-align: right;\">\n",
       "      <th></th>\n",
       "      <th>id</th>\n",
       "      <th>date</th>\n",
       "      <th>price</th>\n",
       "      <th>bedrooms</th>\n",
       "      <th>bathrooms</th>\n",
       "      <th>sqft_living</th>\n",
       "      <th>sqft_lot</th>\n",
       "      <th>floors</th>\n",
       "      <th>waterfront</th>\n",
       "      <th>view</th>\n",
       "      <th>...</th>\n",
       "      <th>grade</th>\n",
       "      <th>sqft_above</th>\n",
       "      <th>sqft_basement</th>\n",
       "      <th>yr_built</th>\n",
       "      <th>yr_renovated</th>\n",
       "      <th>zipcode</th>\n",
       "      <th>lat</th>\n",
       "      <th>long</th>\n",
       "      <th>sqft_living15</th>\n",
       "      <th>sqft_lot15</th>\n",
       "    </tr>\n",
       "  </thead>\n",
       "  <tbody>\n",
       "    <tr>\n",
       "      <th>0</th>\n",
       "      <td>7129300520</td>\n",
       "      <td>20141013T000000</td>\n",
       "      <td>221900.0</td>\n",
       "      <td>3</td>\n",
       "      <td>1.00</td>\n",
       "      <td>1180</td>\n",
       "      <td>5650</td>\n",
       "      <td>1.0</td>\n",
       "      <td>0</td>\n",
       "      <td>0</td>\n",
       "      <td>...</td>\n",
       "      <td>7</td>\n",
       "      <td>1180</td>\n",
       "      <td>0</td>\n",
       "      <td>1955</td>\n",
       "      <td>0</td>\n",
       "      <td>98178</td>\n",
       "      <td>47.5112</td>\n",
       "      <td>-122.257</td>\n",
       "      <td>1340</td>\n",
       "      <td>5650</td>\n",
       "    </tr>\n",
       "    <tr>\n",
       "      <th>1</th>\n",
       "      <td>6414100192</td>\n",
       "      <td>20141209T000000</td>\n",
       "      <td>538000.0</td>\n",
       "      <td>3</td>\n",
       "      <td>2.25</td>\n",
       "      <td>2570</td>\n",
       "      <td>7242</td>\n",
       "      <td>2.0</td>\n",
       "      <td>0</td>\n",
       "      <td>0</td>\n",
       "      <td>...</td>\n",
       "      <td>7</td>\n",
       "      <td>2170</td>\n",
       "      <td>400</td>\n",
       "      <td>1951</td>\n",
       "      <td>1991</td>\n",
       "      <td>98125</td>\n",
       "      <td>47.7210</td>\n",
       "      <td>-122.319</td>\n",
       "      <td>1690</td>\n",
       "      <td>7639</td>\n",
       "    </tr>\n",
       "    <tr>\n",
       "      <th>2</th>\n",
       "      <td>5631500400</td>\n",
       "      <td>20150225T000000</td>\n",
       "      <td>180000.0</td>\n",
       "      <td>2</td>\n",
       "      <td>1.00</td>\n",
       "      <td>770</td>\n",
       "      <td>10000</td>\n",
       "      <td>1.0</td>\n",
       "      <td>0</td>\n",
       "      <td>0</td>\n",
       "      <td>...</td>\n",
       "      <td>6</td>\n",
       "      <td>770</td>\n",
       "      <td>0</td>\n",
       "      <td>1933</td>\n",
       "      <td>0</td>\n",
       "      <td>98028</td>\n",
       "      <td>47.7379</td>\n",
       "      <td>-122.233</td>\n",
       "      <td>2720</td>\n",
       "      <td>8062</td>\n",
       "    </tr>\n",
       "    <tr>\n",
       "      <th>3</th>\n",
       "      <td>2487200875</td>\n",
       "      <td>20141209T000000</td>\n",
       "      <td>604000.0</td>\n",
       "      <td>4</td>\n",
       "      <td>3.00</td>\n",
       "      <td>1960</td>\n",
       "      <td>5000</td>\n",
       "      <td>1.0</td>\n",
       "      <td>0</td>\n",
       "      <td>0</td>\n",
       "      <td>...</td>\n",
       "      <td>7</td>\n",
       "      <td>1050</td>\n",
       "      <td>910</td>\n",
       "      <td>1965</td>\n",
       "      <td>0</td>\n",
       "      <td>98136</td>\n",
       "      <td>47.5208</td>\n",
       "      <td>-122.393</td>\n",
       "      <td>1360</td>\n",
       "      <td>5000</td>\n",
       "    </tr>\n",
       "    <tr>\n",
       "      <th>4</th>\n",
       "      <td>1954400510</td>\n",
       "      <td>20150218T000000</td>\n",
       "      <td>510000.0</td>\n",
       "      <td>3</td>\n",
       "      <td>2.00</td>\n",
       "      <td>1680</td>\n",
       "      <td>8080</td>\n",
       "      <td>1.0</td>\n",
       "      <td>0</td>\n",
       "      <td>0</td>\n",
       "      <td>...</td>\n",
       "      <td>8</td>\n",
       "      <td>1680</td>\n",
       "      <td>0</td>\n",
       "      <td>1987</td>\n",
       "      <td>0</td>\n",
       "      <td>98074</td>\n",
       "      <td>47.6168</td>\n",
       "      <td>-122.045</td>\n",
       "      <td>1800</td>\n",
       "      <td>7503</td>\n",
       "    </tr>\n",
       "  </tbody>\n",
       "</table>\n",
       "<p>5 rows × 21 columns</p>\n",
       "</div>"
      ],
      "text/plain": [
       "           id             date     price  bedrooms  bathrooms  sqft_living  \\\n",
       "0  7129300520  20141013T000000  221900.0         3       1.00         1180   \n",
       "1  6414100192  20141209T000000  538000.0         3       2.25         2570   \n",
       "2  5631500400  20150225T000000  180000.0         2       1.00          770   \n",
       "3  2487200875  20141209T000000  604000.0         4       3.00         1960   \n",
       "4  1954400510  20150218T000000  510000.0         3       2.00         1680   \n",
       "\n",
       "   sqft_lot  floors  waterfront  view     ...      grade  sqft_above  \\\n",
       "0      5650     1.0           0     0     ...          7        1180   \n",
       "1      7242     2.0           0     0     ...          7        2170   \n",
       "2     10000     1.0           0     0     ...          6         770   \n",
       "3      5000     1.0           0     0     ...          7        1050   \n",
       "4      8080     1.0           0     0     ...          8        1680   \n",
       "\n",
       "   sqft_basement  yr_built  yr_renovated  zipcode      lat     long  \\\n",
       "0              0      1955             0    98178  47.5112 -122.257   \n",
       "1            400      1951          1991    98125  47.7210 -122.319   \n",
       "2              0      1933             0    98028  47.7379 -122.233   \n",
       "3            910      1965             0    98136  47.5208 -122.393   \n",
       "4              0      1987             0    98074  47.6168 -122.045   \n",
       "\n",
       "   sqft_living15  sqft_lot15  \n",
       "0           1340        5650  \n",
       "1           1690        7639  \n",
       "2           2720        8062  \n",
       "3           1360        5000  \n",
       "4           1800        7503  \n",
       "\n",
       "[5 rows x 21 columns]"
      ]
     },
     "execution_count": 327,
     "metadata": {},
     "output_type": "execute_result"
    },
    {
     "data": {
      "image/png": "[encoded data removed]",
      "text/plain": [
       "<matplotlib.figure.Figure at 0x11de61f98>"
      ]
     },
     "metadata": {},
     "output_type": "display_data"
    }
   ],
   "source": [
    "# Load & Quick look the data\n",
    "house_price = pd.read_csv('kc_house_data.csv')\n",
    "plt.scatter(house_price['sqft_living'], house_price['price'])\n",
    "house_price.head()"
   ]
  },
  {
   "cell_type": "code",
   "execution_count": 328,
   "metadata": {
    "collapsed": true
   },
   "outputs": [],
   "source": [
    "# converting 'built' and 'renovated' data\n",
    "house_price['age'] = 2018 - house_price['yr_built']\n",
    "for index, row in house_price.iterrows():\n",
    "    if house_price['yr_renovated'][index] == 0:\n",
    "        house_price.loc[index, 'age_renovated'] = house_price.loc[index, 'age']\n",
    "    else:\n",
    "        house_price.loc[index, 'age_renovated'] = 2018 - house_price.loc[index, 'yr_renovated']"
   ]
  },
  {
   "cell_type": "code",
   "execution_count": 329,
   "metadata": {
    "collapsed": true
   },
   "outputs": [],
   "source": [
    "# Dropping the features we don't need\n",
    "drop_fields = ['id', 'date', 'long', 'sqft_living15', 'sqft_lot15', 'zipcode', 'lat', 'long', 'grade', 'view', 'yr_built', 'yr_renovated']\n",
    "house_price = house_price.drop(drop_fields, axis=1)"
   ]
  },
  {
   "cell_type": "code",
   "execution_count": 330,
   "metadata": {},
   "outputs": [
    {
     "name": "stdout",
     "output_type": "stream",
     "text": [
      "Shape of data:  (21613, 12)\n",
      "List of features: \n",
      "price\n",
      "bedrooms\n",
      "bathrooms\n",
      "sqft_living\n",
      "sqft_lot\n",
      "floors\n",
      "waterfront\n",
      "condition\n",
      "sqft_above\n",
      "sqft_basement\n",
      "age\n",
      "age_renovated\n"
     ]
    }
   ],
   "source": [
    "# Check features & data shape after processing.\n",
    "print ('Shape of data: ' , house_price.shape)\n",
    "print ('List of features: ', *house_price.columns.values, sep='\\n')"
   ]
  },
  {
   "cell_type": "code",
   "execution_count": 331,
   "metadata": {},
   "outputs": [
    {
     "name": "stdout",
     "output_type": "stream",
     "text": [
      "price            1.000000\n",
      "sqft_living      0.702035\n",
      "sqft_above       0.605567\n",
      "bathrooms        0.525138\n",
      "sqft_basement    0.323816\n",
      "bedrooms         0.308350\n",
      "waterfront       0.266369\n",
      "floors           0.256794\n",
      "sqft_lot         0.089661\n",
      "condition        0.036362\n",
      "age             -0.054012\n",
      "age_renovated   -0.105755\n",
      "Name: price, dtype: float64\n"
     ]
    }
   ],
   "source": [
    "# correlation with price feature\n",
    "print((house_price.corr()['price']).sort_values(ascending=False))"
   ]
  },
  {
   "cell_type": "code",
   "execution_count": 499,
   "metadata": {},
   "outputs": [
    {
     "name": "stdout",
     "output_type": "stream",
     "text": [
      "Train : (17290, 12) \n",
      "Valid:  (3458, 12) \n",
      "Test : (4323, 12)\n"
     ]
    }
   ],
   "source": [
    "# split the data set\n",
    "[train, test] = train_test_split(house_price, test_size= 0.2)\n",
    "print('Train :', train.shape, '\\nValid: ', valid.shape, '\\nTest :', test.shape)"
   ]
  },
  {
   "cell_type": "code",
   "execution_count": 500,
   "metadata": {},
   "outputs": [
    {
     "name": "stdout",
     "output_type": "stream",
     "text": [
      "X:  (17290, 11) \n",
      "y:  (17290,)\n"
     ]
    }
   ],
   "source": [
    "# Splitting data\n",
    "train_X = train.loc[:, train.columns != 'price']\n",
    "train_y = train['price']\n",
    "test_X = test.loc[:, test.columns != 'price']\n",
    "test_y = test['price']\n",
    "print('X: ', train_X.shape, '\\ny: ', train_y.shape)"
   ]
  },
  {
   "cell_type": "markdown",
   "metadata": {
    "collapsed": true
   },
   "source": [
    "## Building Ridge Regression Model"
   ]
  },
  {
   "cell_type": "code",
   "execution_count": 413,
   "metadata": {
    "collapsed": true
   },
   "outputs": [],
   "source": [
    "class RidgeRegression(object):\n",
    "    def __init__(self, learning_rate=1e-5, l2_penalty=1e-1, verbose=False, iteration=1e3):\n",
    "        self.weights = None\n",
    "        self.l2_penalty = l2_penalty\n",
    "        self.learning_rate = learning_rate\n",
    "        self.iteration = iteration\n",
    "        self.cost_history = []\n",
    "        \n",
    "    def predict(self, X):\n",
    "        y_pred= np.dot(X, self.weights)\n",
    "        return(y_pred)\n",
    "\n",
    "    def calculate_cost(self, y, y_pred):\n",
    "        cost = np.sum((y - y_pred)**2) + self.l2_penalty*np.sum(self.weights ** 2)\n",
    "        return cost\n",
    "\n",
    "    def fit(self, X, y, learning_rate, l2_penalty, iteration, verbose):\n",
    "        self.learning_rate = learning_rate\n",
    "        self.l2_penalty = l2_penalty\n",
    "        self.iteration = iteration\n",
    "        # Case : 1 feature input data\n",
    "        if len(X.shape) == 1: \n",
    "            self.weights = 0\n",
    "        else: \n",
    "            self.weights = np.zeros(X.shape[1])\n",
    "        for iter in range(int(iteration)):\n",
    "            y_pred = self.predict(X)\n",
    "            error = y - y_pred\n",
    "            # store cost history for printing\n",
    "            cost = self.calculate_cost(y, y_pred)\n",
    "            self.cost_history.append(cost)\n",
    "            # weight update\n",
    "            self.weights += (2*learning_rate*(np.dot(X.T, error) + 2*learning_rate*l2_penalty*self.weights))\n",
    "            # print progressing\n",
    "            if verbose == True:\n",
    "                sys.stdout.write(\"\\rProgress: {:2.1f}\".format(100 * iter/float(iteration)) \\\n",
    "                                    + \"% ... Cost: \" + str(cost))\n",
    "                sys.stdout.flush()\n",
    "            \n",
    "    def l2_penalty_tuning(self, train_X, train_y, valid_X, valid_y, l2_penalty):\n",
    "        # uses self.iteration, self.learning.\n",
    "        lowest_cost = None\n",
    "        best_l2_penalty = None\n",
    "        print(\"Tuning Penalty...\")\n",
    "        for index, penalty in enumerate(l2_penalty_values):\n",
    "            self.cost_history = []\n",
    "            self.fit(X, y, l2_penalty = penalty, learning_rate=self.learning_rate, iteration=self.iteration, verbose=False)\n",
    "            if (best_l2_penalty == None or self.cost_history[-1] < lowest_cost):\n",
    "                lowest_cost = self.cost_history[-1]\n",
    "                best_l2_penalty = penalty\n",
    "            print(\"[%d/%d] Penalty: %.5f    Cost: %.5e\" %(index, len(l2_penalty), penalty, self.cost_history[-1]))\n",
    "        print (\"----------------\")\n",
    "        return [lowest_cost, best_l2_penalty]\n",
    "    \n",
    "    def r2_score(self, X, y):\n",
    "        y_pred = self.predict(X)\n",
    "        SSE = np.sum((y - y_pred) ** 2)\n",
    "        SSTO = np.sum((y - y.mean()) ** 2)\n",
    "        return (1 - (SSE / float(SSTO)))"
   ]
  },
  {
   "cell_type": "code",
   "execution_count": 402,
   "metadata": {},
   "outputs": [
    {
     "name": "stdout",
     "output_type": "stream",
     "text": [
      "Progress: 99.9% ... Cost: 9.67895743812e+14"
     ]
    }
   ],
   "source": [
    "model = RidgeRegression()\n",
    "model.fit(train_X, train_y, learning_rate=3.5e-14, l2_penalty=1, iteration=1e3, verbose=True)"
   ]
  },
  {
   "cell_type": "code",
   "execution_count": 403,
   "metadata": {},
   "outputs": [
    {
     "name": "stdout",
     "output_type": "stream",
     "text": [
      "[  1.79819591e-01   1.39823291e-01   1.57837820e+02  -2.60336687e-01\n",
      "   8.63806963e-02   7.71106010e-03   2.07820289e-01   1.17576082e+02\n",
      "   4.02617373e+01   4.15743446e+00   3.57712088e+00]\n"
     ]
    }
   ],
   "source": [
    "print (model.weights)"
   ]
  },
  {
   "cell_type": "code",
   "execution_count": 404,
   "metadata": {},
   "outputs": [
    {
     "data": {
      "text/plain": [
       "<matplotlib.text.Text at 0x1239c2400>"
      ]
     },
     "execution_count": 404,
     "metadata": {},
     "output_type": "execute_result"
    },
    {
     "data": {
      "image/png": "[encoded data removed]",
      "text/plain": [
       "<matplotlib.figure.Figure at 0x12398b748>"
      ]
     },
     "metadata": {},
     "output_type": "display_data"
    }
   ],
   "source": [
    "plt.plot(model.cost_history, label=\"Training cost\")\n",
    "plt.xlabel('Iteration', fontsize=14)\n",
    "plt.ylabel('Cost', fontsize=14)"
   ]
  },
  {
   "cell_type": "code",
   "execution_count": 405,
   "metadata": {},
   "outputs": [
    {
     "name": "stdout",
     "output_type": "stream",
     "text": [
      "R2_score :  0.48183248070878004\n"
     ]
    },
    {
     "data": {
      "image/png": "[encoded data removed]",
      "text/plain": [
       "<matplotlib.figure.Figure at 0x123ba9828>"
      ]
     },
     "metadata": {},
     "output_type": "display_data"
    }
   ],
   "source": [
    "plt.scatter(train_X['sqft_living'], train_y)\n",
    "plt.scatter(train_X['sqft_living'], model.predict(train_X))\n",
    "print (\"R2_score : \", model.r2_score(train_X, train_y))"
   ]
  },
  {
   "cell_type": "code",
   "execution_count": 406,
   "metadata": {},
   "outputs": [
    {
     "name": "stdout",
     "output_type": "stream",
     "text": [
      "Tuning Penalty...\n",
      "[0/5] Penalty: 0.10000    Cost: 3.05690e+14\n",
      "[1/5] Penalty: 56.23413    Cost: 3.05690e+14\n",
      "[2/5] Penalty: 31622.77660    Cost: 3.05691e+14\n",
      "[3/5] Penalty: 17782794.10039    Cost: 3.06258e+14\n",
      "[4/5] Penalty: 10000000000.00000    Cost: 6.25222e+14\n",
      "----------------\n",
      "Best Penalty : 0.100   Cost : 3.05690e+14 \n"
     ]
    }
   ],
   "source": [
    "l2_penalty_values = np.logspace(-1, 10, num=5)\n",
    "[lowest_cost, best_penalty] = model.l2_penalty_tuning(test_X, test_y, l2_penalty = l2_penalty_values)\n",
    "\n",
    "print(\"Best Penalty : %.3f   Cost : %.5e \" %(best_penalty, lowest_cost))"
   ]
  },
  {
   "cell_type": "code",
   "execution_count": 407,
   "metadata": {},
   "outputs": [
    {
     "data": {
      "text/plain": [
       "0.44691111094724734"
      ]
     },
     "execution_count": 407,
     "metadata": {},
     "output_type": "execute_result"
    },
    {
     "data": {
      "image/png": "[encoded data removed]",
      "text/plain": [
       "<matplotlib.figure.Figure at 0x123a39fd0>"
      ]
     },
     "metadata": {},
     "output_type": "display_data"
    }
   ],
   "source": [
    "plt.scatter(test_X['sqft_living'], test_y)\n",
    "plt.scatter(test_X['sqft_living'], model.predict(test_X))\n",
    "model.r2_score(test_X, test_y)"
   ]
  },
  {
   "cell_type": "markdown",
   "metadata": {},
   "source": [
    "# LASSO regression coordinate descent"
   ]
  },
  {
   "cell_type": "markdown",
   "metadata": {},
   "source": [
    "## Normalize features\n",
    "In the house dataset, features vary wildly in their relative magnitude: `sqft_living` is very large overall compared to `bedrooms`, for instance. As a result, weight for `sqft_living` would be much smaller than weight for `bedrooms`. This is problematic because \"small\" weights are dropped first as `l1_penalty` goes up. \n",
    "\n",
    "To give equal considerations for all features, we need to **normalize features**. we divide each feature by its 2-norm so that the transformed feature has norm 1."
   ]
  },
  {
   "cell_type": "code",
   "execution_count": 501,
   "metadata": {},
   "outputs": [
    {
     "name": "stdout",
     "output_type": "stream",
     "text": [
      "Train : (17290, 12) \n",
      "Valid:  (3458, 12) \n",
      "Test : (4323, 12)\n"
     ]
    }
   ],
   "source": [
    "# split the data set\n",
    "[train, test] = train_test_split(house_price, test_size= 0.2)\n",
    "print('Train :', train.shape, '\\nValid: ', valid.shape, '\\nTest :', test.shape)"
   ]
  },
  {
   "cell_type": "code",
   "execution_count": 541,
   "metadata": {},
   "outputs": [
    {
     "name": "stdout",
     "output_type": "stream",
     "text": [
      "X:  (17290, 11) \n",
      "y:  (17290,)\n"
     ]
    }
   ],
   "source": [
    "# Splitting data\n",
    "train_X = train.loc[:, train.columns != 'price']\n",
    "train_y = train['price']\n",
    "test_X = test.loc[:, test.columns != 'price']\n",
    "test_y = test['price']\n",
    "print('X: ', train_X.shape, '\\ny: ', train_y.shape)"
   ]
  },
  {
   "cell_type": "code",
   "execution_count": 542,
   "metadata": {
    "collapsed": true
   },
   "outputs": [],
   "source": [
    "def normalize_features(feature_matrix):\n",
    "    norms = np.linalg.norm(feature_matrix, axis=0)\n",
    "    normalized_features = feature_matrix / norms\n",
    "    return(normalized_features, norms)"
   ]
  },
  {
   "cell_type": "code",
   "execution_count": 543,
   "metadata": {},
   "outputs": [
    {
     "name": "stdout",
     "output_type": "stream",
     "text": [
      "Norms : \n",
      "460.487784854\n",
      "295.60784834\n",
      "298526.730667\n",
      "5881390.58798\n",
      "208.444237147\n",
      "11.5325625947\n",
      "456.053724905\n",
      "258479.051474\n",
      "69909.7744239\n",
      "7298.11352337\n",
      "6989.09235881\n"
     ]
    },
    {
     "data": {
      "text/html": [
       "<div>\n",
       "<style>\n",
       "    .dataframe thead tr:only-child th {\n",
       "        text-align: right;\n",
       "    }\n",
       "\n",
       "    .dataframe thead th {\n",
       "        text-align: left;\n",
       "    }\n",
       "\n",
       "    .dataframe tbody tr th {\n",
       "        vertical-align: top;\n",
       "    }\n",
       "</style>\n",
       "<table border=\"1\" class=\"dataframe\">\n",
       "  <thead>\n",
       "    <tr style=\"text-align: right;\">\n",
       "      <th></th>\n",
       "      <th>bedrooms</th>\n",
       "      <th>bathrooms</th>\n",
       "      <th>sqft_living</th>\n",
       "      <th>sqft_lot</th>\n",
       "      <th>floors</th>\n",
       "      <th>waterfront</th>\n",
       "      <th>condition</th>\n",
       "      <th>sqft_above</th>\n",
       "      <th>sqft_basement</th>\n",
       "      <th>age</th>\n",
       "      <th>age_renovated</th>\n",
       "    </tr>\n",
       "  </thead>\n",
       "  <tbody>\n",
       "    <tr>\n",
       "      <th>9923</th>\n",
       "      <td>0.006515</td>\n",
       "      <td>0.008457</td>\n",
       "      <td>0.011892</td>\n",
       "      <td>0.005578</td>\n",
       "      <td>0.009595</td>\n",
       "      <td>0.0</td>\n",
       "      <td>0.006578</td>\n",
       "      <td>0.013734</td>\n",
       "      <td>0.000000</td>\n",
       "      <td>0.003974</td>\n",
       "      <td>0.004149</td>\n",
       "    </tr>\n",
       "    <tr>\n",
       "      <th>2961</th>\n",
       "      <td>0.006515</td>\n",
       "      <td>0.003383</td>\n",
       "      <td>0.004422</td>\n",
       "      <td>0.000616</td>\n",
       "      <td>0.009595</td>\n",
       "      <td>0.0</td>\n",
       "      <td>0.006578</td>\n",
       "      <td>0.005107</td>\n",
       "      <td>0.000000</td>\n",
       "      <td>0.016169</td>\n",
       "      <td>0.016883</td>\n",
       "    </tr>\n",
       "    <tr>\n",
       "      <th>5534</th>\n",
       "      <td>0.008686</td>\n",
       "      <td>0.006766</td>\n",
       "      <td>0.005159</td>\n",
       "      <td>0.000636</td>\n",
       "      <td>0.004797</td>\n",
       "      <td>0.0</td>\n",
       "      <td>0.008771</td>\n",
       "      <td>0.002979</td>\n",
       "      <td>0.011014</td>\n",
       "      <td>0.009866</td>\n",
       "      <td>0.010302</td>\n",
       "    </tr>\n",
       "    <tr>\n",
       "      <th>5714</th>\n",
       "      <td>0.006515</td>\n",
       "      <td>0.010149</td>\n",
       "      <td>0.007068</td>\n",
       "      <td>0.000680</td>\n",
       "      <td>0.004797</td>\n",
       "      <td>0.0</td>\n",
       "      <td>0.008771</td>\n",
       "      <td>0.004294</td>\n",
       "      <td>0.014304</td>\n",
       "      <td>0.007262</td>\n",
       "      <td>0.007583</td>\n",
       "    </tr>\n",
       "    <tr>\n",
       "      <th>16510</th>\n",
       "      <td>0.004343</td>\n",
       "      <td>0.003383</td>\n",
       "      <td>0.004221</td>\n",
       "      <td>0.001328</td>\n",
       "      <td>0.009595</td>\n",
       "      <td>0.0</td>\n",
       "      <td>0.006578</td>\n",
       "      <td>0.004875</td>\n",
       "      <td>0.000000</td>\n",
       "      <td>0.010003</td>\n",
       "      <td>0.010445</td>\n",
       "    </tr>\n",
       "  </tbody>\n",
       "</table>\n",
       "</div>"
      ],
      "text/plain": [
       "       bedrooms  bathrooms  sqft_living  sqft_lot    floors  waterfront  \\\n",
       "9923   0.006515   0.008457     0.011892  0.005578  0.009595         0.0   \n",
       "2961   0.006515   0.003383     0.004422  0.000616  0.009595         0.0   \n",
       "5534   0.008686   0.006766     0.005159  0.000636  0.004797         0.0   \n",
       "5714   0.006515   0.010149     0.007068  0.000680  0.004797         0.0   \n",
       "16510  0.004343   0.003383     0.004221  0.001328  0.009595         0.0   \n",
       "\n",
       "       condition  sqft_above  sqft_basement       age  age_renovated  \n",
       "9923    0.006578    0.013734       0.000000  0.003974       0.004149  \n",
       "2961    0.006578    0.005107       0.000000  0.016169       0.016883  \n",
       "5534    0.008771    0.002979       0.011014  0.009866       0.010302  \n",
       "5714    0.008771    0.004294       0.014304  0.007262       0.007583  \n",
       "16510   0.006578    0.004875       0.000000  0.010003       0.010445  "
      ]
     },
     "execution_count": 543,
     "metadata": {},
     "output_type": "execute_result"
    }
   ],
   "source": [
    "# normalize data\n",
    "[train_X, train_norms] = normalize_features(train_X)\n",
    "print('Norms : ', *train_norms, sep='\\n')\n",
    "train_X.head()"
   ]
  },
  {
   "cell_type": "markdown",
   "metadata": {},
   "source": [
    "# Implementing Coordinate Descent with normalized features\n",
    "We seek to obtain a sparse set of weights by minimizing the LASSO cost function\n",
    "```\n",
    "SUM[ (prediction - output)^2 ] + lambda*( |w[1]| + ... + |w[k]|).\n",
    "```\n",
    "(By convention, we do not include `w[0]` in the L1 penalty term. We never want to push the intercept to zero.)\n",
    "\n",
    "The absolute value sign makes the cost function non-differentiable, so simple gradient descent is not viable (you would need to implement a method called subgradient descent). Instead, we will use **coordinate descent**: at each iteration, we will fix all weights but weight `i` and find the value of weight `i` that minimizes the objective. That is, we look for\n",
    "```\n",
    "argmin_{w[i]} [ SUM[ (prediction - output)^2 ] + lambda*( |w[1]| + ... + |w[k]|) ]\n",
    "```\n",
    "where all weights other than `w[i]` are held to be constant. We will optimize one `w[i]` at a time, circling through the weights multiple times.  \n",
    "  1. Pick a coordinate `i`\n",
    "  2. Compute `w[i]` that minimizes the cost function `SUM[ (prediction - output)^2 ] + lambda*( |w[1]| + ... + |w[k]|)`\n",
    "  3. Repeat Steps 1 and 2 for all coordinates, multiple times\n",
    " "
   ]
  },
  {
   "cell_type": "code",
   "execution_count": 579,
   "metadata": {
    "collapsed": true
   },
   "outputs": [],
   "source": [
    "class LassoRegression():\n",
    "    def __init__(self):\n",
    "        self.weights = None\n",
    "        self.l1_penalty = None\n",
    "        self.learning_rate = None\n",
    "        self.iteration = None\n",
    "        self.tolerance = None\n",
    "\n",
    "    def predict(self, feature_matrix):\n",
    "        predictions = np.dot(feature_matrix, self.weights)\n",
    "        return(predictions)\n",
    "\n",
    "    def lasso_coordinate_descent_step(self, i, X, y):\n",
    "        # compute prediction\n",
    "        prediction = self.predict(X)\n",
    "        # compute ro[i] = SUM[ [feature_i]*(output - prediction + weight[i]*[feature_i]) ]\n",
    "        ro_i = (X.iloc[:,i] * (y - prediction + self.weights[i]*X.iloc[:,i]) ).sum()\n",
    "        if i == 0: # intercept -- do not regularize\n",
    "            new_weight_i = ro_i \n",
    "        elif ro_i < -self.l1_penalty/2.:\n",
    "            new_weight_i = ro_i + (self.l1_penalty/2)\n",
    "        elif ro_i > self.l1_penalty/2.:\n",
    "            new_weight_i = ro_i - (self.l1_penalty/2)\n",
    "        else:\n",
    "            new_weight_i = 0.\n",
    "\n",
    "        return new_weight_i\n",
    "\n",
    "    def fit(self, X, y, learning_rate=1e-3, l1_penalty=1e-1, tolerance=1e-1, verbose=False):\n",
    "        self.learning_rate = learning_rate\n",
    "        self.l1_penalty = l1_penalty\n",
    "        self.verbose = verbose\n",
    "        self.tolerance = tolerance\n",
    "        self.weights = np.zeros(X.shape[1])\n",
    "        \n",
    "        converge = True    \n",
    "        print_index = 0\n",
    "        while(converge):\n",
    "            max_change = 0\n",
    "            changes = []\n",
    "            for i in range(len(self.weights)):\n",
    "                old_weights_i = self.weights[i]\n",
    "                self.weights[i] = self.lasso_coordinate_descent_step(i, X, y)\n",
    "                #print \"new weight = %d\" %weights[i]\n",
    "                this_change = self.weights[i] - old_weights_i\n",
    "                changes.append(this_change)\n",
    "                max_change =  max(np.absolute(changes))\n",
    "                print_index += 1\n",
    "                if(verbose == True and print_index % 300 == 0):    \n",
    "                    print(\"max chagne : %.3f\" %(max_change) )\n",
    "                            \n",
    "            if (max_change < self.tolerance) :\n",
    "                converge = False\n",
    "            \n",
    "    def r2_score(self, X, y):\n",
    "        y_pred = self.predict(X)\n",
    "        SSE = np.sum((y - y_pred) ** 2)\n",
    "        SSTO = np.sum((y - y.mean()) ** 2)\n",
    "        return (1 - (SSE / float(SSTO)))\n",
    "    \n",
    "    def l1_penalty_tuning(self, X, y, l1_penalty, tolerance=10):\n",
    "        # uses self.iteration, self.learning.\n",
    "        lowest_cost = None\n",
    "        best_l1_penalty = None\n",
    "        print(\"Tuning Penalty...\")\n",
    "        for index, penalty in enumerate(l1_penalty_values):\n",
    "            self.fit(X, y, l1_penalty = penalty, learning_rate=self.learning_rate, tolerance=tolerance, verbose=False)\n",
    "            cost = sum((y-self.predict(X))**2)\n",
    "            if (best_l1_penalty == None or cost < lowest_cost):\n",
    "                lowest_cost = cost\n",
    "                best_l1_penalty = penalty\n",
    "            print(\"[%d/%d] Penalty: %.5f    Cost: %.5e\" %(index, len(l1_penalty), penalty, cost))\n",
    "        print (\"----------------\")\n",
    "        return [lowest_cost, best_l1_penalty]"
   ]
  },
  {
   "cell_type": "code",
   "execution_count": 574,
   "metadata": {
    "collapsed": true
   },
   "outputs": [],
   "source": [
    "model = LassoRegression()\n",
    "#model.fit(train_X, train_y, learning_rate=1e-13, l1_penalty=1, verbose=True)"
   ]
  },
  {
   "cell_type": "code",
   "execution_count": 570,
   "metadata": {},
   "outputs": [
    {
     "data": {
      "text/plain": [
       "<matplotlib.collections.PathCollection at 0x123b1e2e8>"
      ]
     },
     "execution_count": 570,
     "metadata": {},
     "output_type": "execute_result"
    },
    {
     "data": {
      "image/png": "[encoded data removed]",
      "text/plain": [
       "<matplotlib.figure.Figure at 0x123b1ecc0>"
      ]
     },
     "metadata": {},
     "output_type": "display_data"
    }
   ],
   "source": [
    "pred_y = model.predict(train_X)\n",
    "plt.scatter(train_X['sqft_living'], train_y)\n",
    "plt.scatter(train_X['sqft_living'], pred_y)"
   ]
  },
  {
   "cell_type": "code",
   "execution_count": 571,
   "metadata": {
    "collapsed": true
   },
   "outputs": [],
   "source": [
    "# since we normalized train data, we have to normalize test data as well.\n",
    "test_X = test_X / train_norms"
   ]
  },
  {
   "cell_type": "code",
   "execution_count": 578,
   "metadata": {},
   "outputs": [
    {
     "name": "stdout",
     "output_type": "stream",
     "text": [
      "Tuning Penalty...\n",
      "max chagne : 951997.902\n",
      "max chagne : 435418.282\n",
      "max chagne : 239851.730\n",
      "max chagne : 10462.694\n",
      "max chagne : 65638.503\n",
      "max chagne : 34061.482\n",
      "max chagne : 17615.143\n",
      "max chagne : 6694.126\n",
      "max chagne : 4580.074\n",
      "max chagne : 2362.603\n",
      "max chagne : 1218.640\n",
      "[0/5] Penalty: 10.00000    Cost: 9.80513e+14\n",
      "max chagne : 951994.875\n",
      "max chagne : 435434.414\n",
      "max chagne : 239853.900\n",
      "max chagne : 10463.088\n",
      "max chagne : 65640.516\n",
      "max chagne : 34064.870\n",
      "max chagne : 17619.295\n",
      "max chagne : 6693.808\n",
      "max chagne : 4584.844\n",
      "max chagne : 2367.479\n",
      "max chagne : 1223.570\n",
      "[1/5] Penalty: 100.00000    Cost: 9.80513e+14\n",
      "max chagne : 951964.608\n",
      "max chagne : 435595.736\n",
      "max chagne : 239875.606\n",
      "max chagne : 10467.022\n",
      "max chagne : 65660.641\n",
      "max chagne : 34098.749\n",
      "max chagne : 17660.818\n",
      "max chagne : 6690.634\n",
      "max chagne : 4632.543\n",
      "max chagne : 2416.237\n",
      "max chagne : 1272.877\n",
      "[2/5] Penalty: 1000.00000    Cost: 9.80513e+14\n",
      "max chagne : 951659.924\n",
      "max chagne : 437209.009\n",
      "max chagne : 240092.762\n",
      "max chagne : 10506.384\n",
      "max chagne : 65861.914\n",
      "max chagne : 34437.552\n",
      "max chagne : 18076.045\n",
      "max chagne : 6658.891\n",
      "max chagne : 5109.535\n",
      "max chagne : 2903.824\n",
      "max chagne : 1765.939\n",
      "max chagne : 1163.948\n",
      "[3/5] Penalty: 10000.00000    Cost: 9.80516e+14\n",
      "max chagne : 948608.268\n",
      "max chagne : 462277.547\n",
      "max chagne : 239764.858\n",
      "max chagne : 8597.853\n",
      "max chagne : 67538.937\n",
      "max chagne : 37841.368\n",
      "max chagne : 22276.070\n",
      "max chagne : 6357.951\n",
      "max chagne : 9898.568\n",
      "max chagne : 7790.102\n",
      "max chagne : 6702.077\n",
      "max chagne : 6126.382\n",
      "max chagne : 5843.974\n",
      "max chagne : 5698.351\n",
      "max chagne : 5.988\n",
      "max chagne : 5583.550\n",
      "max chagne : 5564.072\n",
      "max chagne : 5554.030\n",
      "max chagne : 4.063\n",
      "max chagne : 5546.113\n",
      "max chagne : 5544.770\n",
      "max chagne : 5544.077\n",
      "max chagne : 4190.349\n",
      "max chagne : 2601.564\n",
      "max chagne : 1413.629\n",
      "[4/5] Penalty: 100000.00000    Cost: 9.80807e+14\n",
      "----------------\n",
      "Best Penalty : 100.000   Cost : 9.80513e+14 \n"
     ]
    }
   ],
   "source": [
    "# since train data is normalized, normalize the result weight to use it for test data set.\n",
    "l1_penalty_values = np.logspace(1, 5, num=5)\n",
    "[lowest_cost, best_penalty] = model.l1_penalty_tuning(train_X, train_y, l1_penalty = l1_penalty_values, tolerance=1e3)\n",
    "\n",
    "print(\"Best Penalty : %.3f   Cost : %.5e \" %(best_penalty, lowest_cost))"
   ]
  },
  {
   "cell_type": "code",
   "execution_count": 529,
   "metadata": {},
   "outputs": [
    {
     "data": {
      "text/plain": [
       "<matplotlib.collections.PathCollection at 0x120a9e2b0>"
      ]
     },
     "execution_count": 529,
     "metadata": {},
     "output_type": "execute_result"
    },
    {
     "data": {
      "image/png": "[encoded data removed]",
      "text/plain": [
       "<matplotlib.figure.Figure at 0x120a9e9e8>"
      ]
     },
     "metadata": {},
     "output_type": "display_data"
    }
   ],
   "source": [
    "plt.scatter(test_X['sqft_living'], test_y)\n",
    "plt.scatter(test_X['sqft_living'], np.dot(test_X, (model.weights / train_norms)))"
   ]
  },
  {
   "cell_type": "code",
   "execution_count": 532,
   "metadata": {},
   "outputs": [
    {
     "data": {
      "text/plain": [
       "array([ -7.38895697e+04,   4.51925171e+04,   2.81710916e+02,\n",
       "        -3.22704257e-01,   1.40022044e+04,   6.98409514e+05,\n",
       "        -2.04299722e+04,   2.05647939e+01,   1.40429747e+01,\n",
       "         2.94199558e+03,  -4.28290938e+02])"
      ]
     },
     "execution_count": 532,
     "metadata": {},
     "output_type": "execute_result"
    }
   ],
   "source": [
    "model.weights"
   ]
  },
  {
   "cell_type": "code",
   "execution_count": null,
   "metadata": {
    "collapsed": true
   },
   "outputs": [],
   "source": []
  }
 ],
 "metadata": {
  "kernelspec": {
   "display_name": "Python 3",
   "language": "python",
   "name": "python3"
  },
  "language_info": {
   "codemirror_mode": {
    "name": "ipython",
    "version": 3
   },
   "file_extension": ".py",
   "mimetype": "text/x-python",
   "name": "python",
   "nbconvert_exporter": "python",
   "pygments_lexer": "ipython3",
   "version": "3.6.0"
  }
 },
 "nbformat": 4,
 "nbformat_minor": 2
}
