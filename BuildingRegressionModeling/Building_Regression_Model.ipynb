{
 "cells": [
  {
   "cell_type": "markdown",
   "metadata": {},
   "source": [
    "## Ready to code? Let's begin"
   ]
  },
  {
   "cell_type": "code",
   "execution_count": 1,
   "metadata": {
    "collapsed": true
   },
   "outputs": [],
   "source": [
    "# Importing libraries we need\n",
    "%matplotlib inline\n",
    "\n",
    "#from __future__ import print_function\n",
    "import numpy as np\n",
    "import pandas as pd\n",
    "import matplotlib.pyplot as plt"
   ]
  },
  {
   "cell_type": "markdown",
   "metadata": {},
   "source": [
    "## Create Linear Regression class.\n",
    "To make it look cool, I am going to build a “Class” of Linear Regression,<br>\n",
    "so we can use our code like we do with tensorflow/scikit-learn library 🙂"
   ]
  },
  {
   "cell_type": "code",
   "execution_count": 55,
   "metadata": {
    "collapsed": true
   },
   "outputs": [],
   "source": [
    "class LinearRegression(object):\n",
    "    def __init__(self):\n",
    "        self.m = None\n",
    "        self.b = None\n",
    "        self.loss_history = []\n",
    "    def predict(self, X):\n",
    "        y_pred = np.zeros(X.shape[0])\n",
    "        y_pred = np.dot(X, self.m) + self.b\n",
    "        return y_pred\n",
    "    def loss(self, X, y):\n",
    "        y_pred = self.predict(X)\n",
    "        loss = sum(y - y_pred)/len(y)\n",
    "        return loss\n",
    "    def gradient(self, X, y):\n",
    "        # This part is bit tricky to understand, \n",
    "        # try to understand matrix dot product!\n",
    "        y_pred = self.predict(X)\n",
    "        b_grad = sum((y_pred - y)) / len(y)\n",
    "        m_grad = np.dot(X.T, (y_pred - y)) / len(y)\n",
    "        return b_grad, m_grad\n",
    "    def train(self, X, y, learning_rate=1e-3, num_iters=100, verbose=False):\n",
    "        # set a default value of learning rate, and number of iteration\n",
    "        [num_train, dim] = X.shape\n",
    "        if self.m is None:\n",
    "            self.m = 0.001 * np.random.randn(dim, 1)\n",
    "        if self.b is None:\n",
    "            self.b = 0.001 * np.random.randn(1)\n",
    "        for it in range(num_iters):\n",
    "            # store the loss for each iteration for plot \n",
    "            this_loss = self.loss(X, y)\n",
    "            self.loss_history.append(this_loss)\n",
    "            # calculates gradient and updates\n",
    "            [b_gred, m_gred] = self.gradient(X, y)\n",
    "            self.b -= learning_rate * b_gred\n",
    "            self.m -= learning_rate * m_gred\n",
    "            if verbose and it % 10 ==0:\n",
    "                print('iteration %d / %d: loss %f' %(it, num_iters, this_loss))"
   ]
  },
  {
   "cell_type": "markdown",
   "metadata": {},
   "source": [
    "## Create Sample Data for testing\n",
    "Before we test our model with real data, it is always good idea to test it with sample code."
   ]
  },
  {
   "cell_type": "code",
   "execution_count": 56,
   "metadata": {},
   "outputs": [
    {
     "data": {
      "image/png": "[encoded data removed]",
      "text/plain": [
       "<matplotlib.figure.Figure at 0x11c560780>"
      ]
     },
     "metadata": {},
     "output_type": "display_data"
    }
   ],
   "source": [
    "# We are expecting the result model with similar weight & bias with this\n",
    "m = 2.5\n",
    "b = 5\n",
    "X = np.arange(30).reshape(30,1)\n",
    "error = np.random.uniform(-30, 30, size=30).reshape(30,1)\n",
    "y = (np.dot(m,X) + b) + error\n",
    "# Let's check how our sample data look like\n",
    "plt.scatter(X, y)\n",
    "plt.xlabel('X', fontsize=12)\n",
    "plt.ylabel('y', fontsize=12)\n",
    "\n",
    "plt.show()"
   ]
  },
  {
   "cell_type": "markdown",
   "metadata": {},
   "source": [
    "## Create Linear Regression model, and train model with data set."
   ]
  },
  {
   "cell_type": "code",
   "execution_count": 57,
   "metadata": {},
   "outputs": [
    {
     "name": "stdout",
     "output_type": "stream",
     "text": [
      "iteration 0 / 100: loss 37.954977\n",
      "iteration 10 / 100: loss 2.723276\n",
      "iteration 20 / 100: loss 1.504798\n",
      "iteration 30 / 100: loss 1.459093\n",
      "iteration 40 / 100: loss 1.453834\n",
      "iteration 50 / 100: loss 1.449980\n",
      "iteration 60 / 100: loss 1.446183\n",
      "iteration 70 / 100: loss 1.442398\n",
      "iteration 80 / 100: loss 1.438623\n",
      "iteration 90 / 100: loss 1.434857\n"
     ]
    }
   ],
   "source": [
    "model = LinearRegression()\n",
    "model.train(X, y, num_iters= 100, verbose=True)"
   ]
  },
  {
   "cell_type": "markdown",
   "metadata": {},
   "source": [
    "## Check the result!"
   ]
  },
  {
   "cell_type": "code",
   "execution_count": 58,
   "metadata": {},
   "outputs": [
    {
     "data": {
      "text/plain": [
       "<matplotlib.text.Text at 0x11c338cc0>"
      ]
     },
     "execution_count": 58,
     "metadata": {},
     "output_type": "execute_result"
    },
    {
     "data": {
      "image/png": "[encoded data removed]",
      "text/plain": [
       "<matplotlib.figure.Figure at 0x11c397c88>"
      ]
     },
     "metadata": {},
     "output_type": "display_data"
    }
   ],
   "source": [
    "plt.plot(model.loss_history)\n",
    "plt.xlabel('Iteration', fontsize=12)\n",
    "plt.ylabel('Error', fontsize=12)"
   ]
  },
  {
   "cell_type": "code",
   "execution_count": 59,
   "metadata": {},
   "outputs": [
    {
     "data": {
      "image/png": "[encoded data removed]",
      "text/plain": [
       "<matplotlib.figure.Figure at 0x11c32e668>"
      ]
     },
     "metadata": {},
     "output_type": "display_data"
    }
   ],
   "source": [
    "# Let's plot our prediction line\n",
    "y_pred = np.dot(X, model.m) + model.b\n",
    "plt.plot(X, y_pred, color='red', label='predict')\n",
    "plt.scatter(X, y, label='Y')\n",
    "plt.legend()\n",
    "plt.show()"
   ]
  },
  {
   "cell_type": "code",
   "execution_count": null,
   "metadata": {
    "collapsed": true
   },
   "outputs": [],
   "source": []
  },
  {
   "cell_type": "code",
   "execution_count": null,
   "metadata": {
    "collapsed": true
   },
   "outputs": [],
   "source": []
  }
 ],
 "metadata": {
  "kernelspec": {
   "display_name": "Python 3",
   "language": "python",
   "name": "python3"
  },
  "language_info": {
   "codemirror_mode": {
    "name": "ipython",
    "version": 3
   },
   "file_extension": ".py",
   "mimetype": "text/x-python",
   "name": "python",
   "nbconvert_exporter": "python",
   "pygments_lexer": "ipython3",
   "version": "3.6.0"
  }
 },
 "nbformat": 4,
 "nbformat_minor": 2
}
