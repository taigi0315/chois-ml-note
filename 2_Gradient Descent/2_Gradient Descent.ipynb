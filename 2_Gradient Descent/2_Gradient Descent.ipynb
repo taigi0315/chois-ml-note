{
 "cells": [
  {
   "cell_type": "markdown",
   "metadata": {},
   "source": [
    "## 최선의 'Weight' 를 찾아내는 방법? Gradient Descent !\n",
    "이번 페이지에서는 머신러닝에서 모델이 최선의 'Weight'를 찾아나가는 방법, Gradient Descent에 대해서 알아보겠습니다.\n",
    "## How to find the best 'Weight'? Gradient Descent !\n",
    "I will cover how does machien learining model find the best 'Weight'.\n",
    "***"
   ]
  },
  {
   "cell_type": "markdown",
   "metadata": {},
   "source": [
    "<img src=\"assets/cost_graph.png\", width=350, height=350, align=left> \n",
    "저번 페이지에서 설명해드렸다시피 머신러닝에서 <b>'트레이닝을 한다'</b>라는 의미는 'Weight'값을 랜덤을 시작으로 조금씩 조금씩 움직여 <b>최소한의 'Error'를 갖는 'Weight'를 찾는 과정</b>을 의미합니다. 옆에 보이는 것처럼 우리가 그래프를 이용해 각각의 'Weight'에 해당하는 'Error'값을 그려볼 수 있다면, 최적의 'Weight'를 찾는 것이 그렇게 어렵지 많은 않아보이는데요, 문제는 'Weight'가 하나([Weights,Error] = 2차원 그래프), 두개([Weights,Error] = 3차원 그래프)가 아닌 그 이상일 경우에 발생합니다. 'Weight'가 3가지 이상 될 경우 'Weight-Error'그래프는 4차원 이상으로 넘어가기 때문에 시각화가 불가능합니다.\n",
    "***\n",
    "As I explined on previous note page, <b>'Training'</b> in machine learning means <b>process of moving 'Weight' till it finds minimum 'Error'.</b> We might be able to draw a graph and find the best 'Weight' If we are handling one or two weights only, but we can not visualize [Weights, Error] if we are handling more than three different weights(which is very common case).\n",
    "***"
   ]
  },
  {
   "cell_type": "markdown",
   "metadata": {},
   "source": [
    "<img src=\"assets/going_down.png\", width=350, height=150, align=left> Gradient Descent의 핵심 원리는 사실 아주 간단합니다. '그 시작점이 어디든지, <b>미분을 통해 방향을 정하고 'Weight'를 옮기면 'Error'는 항상 작아진다.</b>' 라는 것이죠.\n",
    "***\n",
    "The principle of Gradient Descent is pretty simple, 'Wherever it starts, moving the 'Weight' to where its derivative points will make its error smaller'"
   ]
  },
  {
   "cell_type": "code",
   "execution_count": null,
   "metadata": {
    "collapsed": true
   },
   "outputs": [],
   "source": []
  }
 ],
 "metadata": {
  "kernelspec": {
   "display_name": "Python 3",
   "language": "python",
   "name": "python3"
  },
  "language_info": {
   "codemirror_mode": {
    "name": "ipython",
    "version": 3
   },
   "file_extension": ".py",
   "mimetype": "text/x-python",
   "name": "python",
   "nbconvert_exporter": "python",
   "pygments_lexer": "ipython3",
   "version": "3.6.1"
  }
 },
 "nbformat": 4,
 "nbformat_minor": 2
}
