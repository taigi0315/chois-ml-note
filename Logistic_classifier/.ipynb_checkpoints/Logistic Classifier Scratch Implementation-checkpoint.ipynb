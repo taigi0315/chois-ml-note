{
 "cells": [
  {
   "cell_type": "markdown",
   "metadata": {},
   "source": [
    "# Implementing Logistic Classifier & Test the model on Amazon Product Review data set"
   ]
  },
  {
   "cell_type": "code",
   "execution_count": 1,
   "metadata": {
    "collapsed": true
   },
   "outputs": [],
   "source": [
    "from sklearn.model_selection import train_test_split\n",
    "import numpy as np\n",
    "import pandas as pd\n",
    "from math import sqrt\n",
    "import json\n",
    "import matplotlib.pyplot as plt\n",
    "\n",
    "%matplotlib inline"
   ]
  },
  {
   "cell_type": "code",
   "execution_count": 2,
   "metadata": {},
   "outputs": [
    {
     "name": "stdout",
     "output_type": "stream",
     "text": [
      "Shape :  (53072, 4)\n"
     ]
    }
   ],
   "source": [
    "# pd.read_csv intelligently converts input to python datatypes.\n",
    "products = pd.read_csv(\"amazon_baby_subset.csv\")\n",
    "products = products.astype(str)\n",
    "print ('Shape : ', products.shape)"
   ]
  },
  {
   "cell_type": "code",
   "execution_count": 3,
   "metadata": {
    "collapsed": true
   },
   "outputs": [],
   "source": [
    "# Change format of feature\n",
    "products['rating'] = products['rating'].astype(int)\n",
    "products['sentiment'] = products['sentiment'].astype(int)\n",
    "# fill in N/A's in the review column\n",
    "products = products.fillna({'reveiw':''}) "
   ]
  },
  {
   "cell_type": "code",
   "execution_count": 4,
   "metadata": {},
   "outputs": [
    {
     "data": {
      "text/html": [
       "<div>\n",
       "<style>\n",
       "    .dataframe thead tr:only-child th {\n",
       "        text-align: right;\n",
       "    }\n",
       "\n",
       "    .dataframe thead th {\n",
       "        text-align: left;\n",
       "    }\n",
       "\n",
       "    .dataframe tbody tr th {\n",
       "        vertical-align: top;\n",
       "    }\n",
       "</style>\n",
       "<table border=\"1\" class=\"dataframe\">\n",
       "  <thead>\n",
       "    <tr style=\"text-align: right;\">\n",
       "      <th></th>\n",
       "      <th>name</th>\n",
       "      <th>review</th>\n",
       "      <th>rating</th>\n",
       "      <th>sentiment</th>\n",
       "      <th>review_clean</th>\n",
       "    </tr>\n",
       "  </thead>\n",
       "  <tbody>\n",
       "    <tr>\n",
       "      <th>0</th>\n",
       "      <td>Stop Pacifier Sucking without tears with Thumb...</td>\n",
       "      <td>All of my kids have cried non-stop when I trie...</td>\n",
       "      <td>5</td>\n",
       "      <td>1</td>\n",
       "      <td>All of my kids have cried non-stop when I trie...</td>\n",
       "    </tr>\n",
       "    <tr>\n",
       "      <th>1</th>\n",
       "      <td>Nature's Lullabies Second Year Sticker Calendar</td>\n",
       "      <td>We wanted to get something to keep track of ou...</td>\n",
       "      <td>5</td>\n",
       "      <td>1</td>\n",
       "      <td>We wanted to get something to keep track of ou...</td>\n",
       "    </tr>\n",
       "    <tr>\n",
       "      <th>2</th>\n",
       "      <td>Nature's Lullabies Second Year Sticker Calendar</td>\n",
       "      <td>My daughter had her 1st baby over a year ago. ...</td>\n",
       "      <td>5</td>\n",
       "      <td>1</td>\n",
       "      <td>My daughter had her 1st baby over a year ago. ...</td>\n",
       "    </tr>\n",
       "    <tr>\n",
       "      <th>3</th>\n",
       "      <td>Lamaze Peekaboo, I Love You</td>\n",
       "      <td>One of baby's first and favorite books, and it...</td>\n",
       "      <td>4</td>\n",
       "      <td>1</td>\n",
       "      <td>One of baby's first and favorite books, and it...</td>\n",
       "    </tr>\n",
       "    <tr>\n",
       "      <th>4</th>\n",
       "      <td>SoftPlay Peek-A-Boo Where's Elmo A Children's ...</td>\n",
       "      <td>Very cute interactive book! My son loves this ...</td>\n",
       "      <td>5</td>\n",
       "      <td>1</td>\n",
       "      <td>Very cute interactive book! My son loves this ...</td>\n",
       "    </tr>\n",
       "  </tbody>\n",
       "</table>\n",
       "</div>"
      ],
      "text/plain": [
       "                                                name  \\\n",
       "0  Stop Pacifier Sucking without tears with Thumb...   \n",
       "1    Nature's Lullabies Second Year Sticker Calendar   \n",
       "2    Nature's Lullabies Second Year Sticker Calendar   \n",
       "3                        Lamaze Peekaboo, I Love You   \n",
       "4  SoftPlay Peek-A-Boo Where's Elmo A Children's ...   \n",
       "\n",
       "                                              review  rating  sentiment  \\\n",
       "0  All of my kids have cried non-stop when I trie...       5          1   \n",
       "1  We wanted to get something to keep track of ou...       5          1   \n",
       "2  My daughter had her 1st baby over a year ago. ...       5          1   \n",
       "3  One of baby's first and favorite books, and it...       4          1   \n",
       "4  Very cute interactive book! My son loves this ...       5          1   \n",
       "\n",
       "                                        review_clean  \n",
       "0  All of my kids have cried non-stop when I trie...  \n",
       "1  We wanted to get something to keep track of ou...  \n",
       "2  My daughter had her 1st baby over a year ago. ...  \n",
       "3  One of baby's first and favorite books, and it...  \n",
       "4  Very cute interactive book! My son loves this ...  "
      ]
     },
     "execution_count": 4,
     "metadata": {},
     "output_type": "execute_result"
    }
   ],
   "source": [
    "# Write a function remove_punctuation that takes a line of text and removes all punctuation from that text\n",
    "def remove_punctuation(text):\n",
    "    import string\n",
    "    return text.translate(string.punctuation)\n",
    "\n",
    "products['review_clean'] = products['review'].apply(remove_punctuation)\n",
    "products.head()"
   ]
  },
  {
   "cell_type": "code",
   "execution_count": 5,
   "metadata": {},
   "outputs": [
    {
     "name": "stdout",
     "output_type": "stream",
     "text": [
      "Number of importatnt words :  193\n"
     ]
    }
   ],
   "source": [
    "# read \"important_words.json\" file\n",
    "with open('important_words.json') as data_file:\n",
    "    important_words = json.load(data_file)\n",
    "\n",
    "print('Number of importatnt words : ', len(important_words))"
   ]
  },
  {
   "cell_type": "code",
   "execution_count": 6,
   "metadata": {},
   "outputs": [],
   "source": [
    "# now we proceed with the second item. For each word in important_words, \n",
    "# we compute a count for the number of times the word occurs in the review.\n",
    "for word in important_words:\n",
    "    products[word] = products['review_clean'].apply(lambda s: s.split().count(word))"
   ]
  },
  {
   "cell_type": "code",
   "execution_count": 7,
   "metadata": {
    "collapsed": true
   },
   "outputs": [],
   "source": [
    "# Split train/valid data set\n",
    "train_data = products.sample(frac=0.8)\n",
    "validation_data = products.drop(train_data.index)"
   ]
  },
  {
   "cell_type": "code",
   "execution_count": 8,
   "metadata": {
    "collapsed": true
   },
   "outputs": [],
   "source": [
    "def get_numpy_data(dataframe, features, label):\n",
    "    dataframe['constant'] = 1\n",
    "    features = ['constant'] + features\n",
    "    features_frame = dataframe[features]\n",
    "    features_matrix = features_frame.as_matrix()\n",
    "    label_sarray = dataframe[label]\n",
    "    label_array = label_sarray.as_matrix()\n",
    "    return(features_matrix, label_array)"
   ]
  },
  {
   "cell_type": "code",
   "execution_count": 9,
   "metadata": {},
   "outputs": [
    {
     "name": "stdout",
     "output_type": "stream",
     "text": [
      "Input feature(X) :  (42458, 194) Output(y) :  (42458,)\n"
     ]
    }
   ],
   "source": [
    "feature_matrix_train, sentiment_train = get_numpy_data(train_data, important_words, 'sentiment')\n",
    "feature_matrix_valid, sentiment_valid = get_numpy_data(validation_data, important_words, 'sentiment')\n",
    "\n",
    "print ('Input feature(X) : ', feature_matrix_train.shape, 'Output(y) : ', sentiment_train.shape)"
   ]
  },
  {
   "cell_type": "markdown",
   "metadata": {},
   "source": [
    "## Building a Logistic Classifier Model\n",
    "\n",
    "$$\\ell\\ell(\\mathbf{w}) = \\sum_{i=1}^N \\Big( (\\mathbf{1}[y_i = +1] - 1)\\mathbf{w}^T h(\\mathbf{x}_i) - \\ln\\left(1 + \\exp(-\\mathbf{w}^T h(\\mathbf{x}_i))\\right) \\Big) \\color{red}{-\\lambda\\|\\mathbf{w}\\|_2^2} $$"
   ]
  },
  {
   "cell_type": "code",
   "execution_count": 10,
   "metadata": {
    "collapsed": true
   },
   "outputs": [],
   "source": [
    "class logistic_classifier():\n",
    "    def __init__(self):\n",
    "        self.coefficients = np.zeros(1)\n",
    "        self.l2_penalty = 0;\n",
    "        self.iteration = 501\n",
    "        self.learning_rate = 0\n",
    "    \n",
    "    def predict_probability(self, feature_matrix):\n",
    "        #Take dot product of feature_matrix and coefficients\n",
    "        score = np.dot(feature_matrix, self.coefficients)\n",
    "        #Compute P(y_i = +1|x_i, w) using the link function\n",
    "        predictions = 1.0/(1 + np.exp(-score))\n",
    "        return predictions\n",
    "    \n",
    "    #Compute derivative of log likelihood with respect to a single coefficient\n",
    "    def feature_derivative_with_L2(self, errors, feature, coefficient, feature_is_constant):\n",
    "        #Compute the dot product of errors and feature(without L2 penalty)\n",
    "        derivative = np.dot(errors, feature)\n",
    "        \n",
    "        #add L2 penalty term for any feature that isn't the intercept\n",
    "        if not feature_is_constant:\n",
    "            derivative -= 2 * self.l2_penalty * coefficient\n",
    "        return derivative\n",
    "    \n",
    "    def compute_log_likelihood_with_L2(self, feature_matrix, sentiment):\n",
    "        indicator = (sentiment == +1)\n",
    "        scores = np.dot(feature_matrix, self.coefficients)\n",
    "        lp = np.sum((indicator-1) * scores - np.log(1. + np.exp(-scores))) - self.l2_penalty*np.sum(self.coefficients[1:]**2)\n",
    "        return lp\n",
    "    \n",
    "    def fit(self, feature_matrix, sentiment, learning_rate, l2_penalty, iteration):\n",
    "        self.learning_rate = learning_rate\n",
    "        self.l2_penalty = l2_penalty\n",
    "        self.iteration = iteration\n",
    "        self.coefficients = np.zeros(feature_matrix.shape[1])\n",
    "        print (self.l2_penalty, self.iteration, self.learning_rate)\n",
    "        for itr in range(iteration):\n",
    "            #Predict P(y_i = +1|x_1,w) using your predict_probability() function\n",
    "            predictions = self.predict_probability(feature_matrix)\n",
    "\n",
    "            #compute indicator value for (y_i = +1)\n",
    "            indicator = (sentiment==+1)\n",
    "\n",
    "            #Compute the errors as indicator - predictions\n",
    "            errors = indicator - predictions\n",
    "        \n",
    "            for j in range(len(self.coefficients)): #loop over each coefficient\n",
    "                is_intercept = (j==0)\n",
    "                #Recall that feature_matrix[:,j] is the feature column associated with coefficients[j]\n",
    "                #compute the derivative for coefficients[j]. Save it in a variable called derivative\n",
    "                derivative = self.feature_derivative_with_L2(errors, feature_matrix[:,j], self.coefficients[j], is_intercept)\n",
    "                #add step size times the derivative to the current coefficient(l2_penalty is already added)\n",
    "                self.coefficients[j] += learning_rate * derivative\n",
    "\n",
    "            #Checking whether log likelihood is increasing\n",
    "            if (itr <= 100 and itr %10 ==0) or \\\n",
    "                (itr <= 1000 and itr %100 ==0) or (itr <= 10000 and itr %1000 ==0) or itr % 10000 ==0:\n",
    "                    lp = self.compute_log_likelihood_with_L2(feature_matrix, sentiment)\n",
    "                    print ('iteration %*d : log likelihood of observed labels = %.8f' % \\\n",
    "                    (int(np.ceil(np.log10(iteration ))), itr, lp))\n",
    "       \n",
    "    def get_accuracy(self, feature_matrix, sentiment):\n",
    "        #compute scores using feature_matrix, coefficients\n",
    "        scores = np.dot(feature_matrix, self.coefficients)\n",
    "        #threshold scores by 0\n",
    "        positive = scores > 0\n",
    "        negative = scores <= 0\n",
    "        scores[positive] = 1\n",
    "        scores[negative] = -1\n",
    "\n",
    "        correct = float((scores == sentiment).sum())\n",
    "        total = float(len(sentiment))\n",
    "        accuracy = float(correct / total)\n",
    "        return accuracy"
   ]
  },
  {
   "cell_type": "code",
   "execution_count": 11,
   "metadata": {
    "collapsed": true
   },
   "outputs": [],
   "source": [
    "learning_rate = 5e-6\n",
    "iteration = 501"
   ]
  },
  {
   "cell_type": "code",
   "execution_count": 12,
   "metadata": {},
   "outputs": [
    {
     "name": "stdout",
     "output_type": "stream",
     "text": [
      "0 501 5e-06\n",
      "iteration   0 : log likelihood of observed labels = -29285.81858112\n",
      "iteration  10 : log likelihood of observed labels = -28080.97525573\n",
      "iteration  20 : log likelihood of observed labels = -27166.78266349\n",
      "iteration  30 : log likelihood of observed labels = -26446.80354887\n",
      "iteration  40 : log likelihood of observed labels = -25864.03157757\n",
      "iteration  50 : log likelihood of observed labels = -25381.53400935\n",
      "iteration  60 : log likelihood of observed labels = -24974.54769449\n",
      "iteration  70 : log likelihood of observed labels = -24625.91505221\n",
      "iteration  80 : log likelihood of observed labels = -24323.38617617\n",
      "iteration  90 : log likelihood of observed labels = -24057.97892510\n",
      "iteration 100 : log likelihood of observed labels = -23822.95109833\n",
      "iteration 200 : log likelihood of observed labels = -22396.11470688\n",
      "iteration 300 : log likelihood of observed labels = -21703.52663790\n",
      "iteration 400 : log likelihood of observed labels = -21287.34588578\n",
      "iteration 500 : log likelihood of observed labels = -21008.20079900\n"
     ]
    }
   ],
   "source": [
    "l2_penalty = 0\n",
    "model_0_penalty = logistic_classifier()\n",
    "model_0_penalty.fit(feature_matrix_train, sentiment_train, learning_rate, l2_penalty, iteration)"
   ]
  },
  {
   "cell_type": "code",
   "execution_count": 13,
   "metadata": {},
   "outputs": [
    {
     "name": "stdout",
     "output_type": "stream",
     "text": [
      "5 501 5e-06\n",
      "iteration   0 : log likelihood of observed labels = -29285.82221230\n",
      "iteration  10 : log likelihood of observed labels = -28081.65128806\n",
      "iteration  20 : log likelihood of observed labels = -27168.90179711\n",
      "iteration  30 : log likelihood of observed labels = -26450.80057875\n",
      "iteration  40 : log likelihood of observed labels = -25870.15723019\n",
      "iteration  50 : log likelihood of observed labels = -25389.93326703\n",
      "iteration  60 : log likelihood of observed labels = -24985.30188410\n",
      "iteration  70 : log likelihood of observed labels = -24639.06564554\n",
      "iteration  80 : log likelihood of observed labels = -24338.94890382\n",
      "iteration  90 : log likelihood of observed labels = -24075.95250119\n",
      "iteration 100 : log likelihood of observed labels = -23843.32280950\n",
      "iteration 200 : log likelihood of observed labels = -22438.87115969\n",
      "iteration 300 : log likelihood of observed labels = -21765.45838523\n",
      "iteration 400 : log likelihood of observed labels = -21365.80392894\n",
      "iteration 500 : log likelihood of observed labels = -21101.09703273\n"
     ]
    }
   ],
   "source": [
    "l2_penalty = 5\n",
    "model_5_penalty = logistic_classifier()\n",
    "model_5_penalty.fit(feature_matrix_train, sentiment_train, learning_rate, l2_penalty, iteration)"
   ]
  },
  {
   "cell_type": "code",
   "execution_count": 14,
   "metadata": {},
   "outputs": [
    {
     "name": "stdout",
     "output_type": "stream",
     "text": [
      "10 501 5e-06\n",
      "iteration   0 : log likelihood of observed labels = -29285.82584348\n",
      "iteration  10 : log likelihood of observed labels = -28082.32687618\n",
      "iteration  20 : log likelihood of observed labels = -27171.01819921\n",
      "iteration  30 : log likelihood of observed labels = -26454.78999693\n",
      "iteration  40 : log likelihood of observed labels = -25876.26751800\n",
      "iteration  50 : log likelihood of observed labels = -25398.30645453\n",
      "iteration  60 : log likelihood of observed labels = -24996.01635852\n",
      "iteration  70 : log likelihood of observed labels = -24652.15999611\n",
      "iteration  80 : log likelihood of observed labels = -24354.43605735\n",
      "iteration  90 : log likelihood of observed labels = -24093.82845717\n",
      "iteration 100 : log likelihood of observed labels = -23863.57223308\n",
      "iteration 200 : log likelihood of observed labels = -22481.13389814\n",
      "iteration 300 : log likelihood of observed labels = -21826.34801524\n",
      "iteration 400 : log likelihood of observed labels = -21442.54546071\n",
      "iteration 500 : log likelihood of observed labels = -21191.51062622\n"
     ]
    }
   ],
   "source": [
    "l2_penalty = 10\n",
    "model_10_penalty = logistic_classifier()\n",
    "model_10_penalty.fit(feature_matrix_train, sentiment_train, learning_rate, l2_penalty, iteration)"
   ]
  },
  {
   "cell_type": "code",
   "execution_count": 15,
   "metadata": {},
   "outputs": [
    {
     "name": "stdout",
     "output_type": "stream",
     "text": [
      "100.0 501 5e-06\n",
      "iteration   0 : log likelihood of observed labels = -29285.89120473\n",
      "iteration  10 : log likelihood of observed labels = -28094.41185984\n",
      "iteration  20 : log likelihood of observed labels = -27208.65082589\n",
      "iteration  30 : log likelihood of observed labels = -26525.31666231\n",
      "iteration  40 : log likelihood of observed labels = -25983.67570644\n",
      "iteration  50 : log likelihood of observed labels = -25544.67258300\n",
      "iteration  60 : log likelihood of observed labels = -25182.28054461\n",
      "iteration  70 : log likelihood of observed labels = -24878.56251986\n",
      "iteration  80 : log likelihood of observed labels = -24620.77514263\n",
      "iteration  90 : log likelihood of observed labels = -24399.61885697\n",
      "iteration 100 : log likelihood of observed labels = -24208.14620146\n",
      "iteration 200 : log likelihood of observed labels = -23165.30666604\n",
      "iteration 300 : log likelihood of observed labels = -22768.32025229\n",
      "iteration 400 : log likelihood of observed labels = -22581.60671026\n",
      "iteration 500 : log likelihood of observed labels = -22483.70730446\n"
     ]
    }
   ],
   "source": [
    "l2_penalty = 1e2\n",
    "model_1e2_penalty = logistic_classifier()\n",
    "model_1e2_penalty.fit(feature_matrix_train, sentiment_train, learning_rate, l2_penalty, iteration)"
   ]
  },
  {
   "cell_type": "code",
   "execution_count": 16,
   "metadata": {},
   "outputs": [
    {
     "name": "stdout",
     "output_type": "stream",
     "text": [
      "1000.0 501 5e-06\n",
      "iteration   0 : log likelihood of observed labels = -29286.54481726\n",
      "iteration  10 : log likelihood of observed labels = -28207.74244233\n",
      "iteration  20 : log likelihood of observed labels = -27541.07895090\n",
      "iteration  30 : log likelihood of observed labels = -27114.25505568\n",
      "iteration  40 : log likelihood of observed labels = -26834.16487061\n",
      "iteration  50 : log likelihood of observed labels = -26646.66551516\n",
      "iteration  60 : log likelihood of observed labels = -26519.09206952\n",
      "iteration  70 : log likelihood of observed labels = -26431.11755232\n",
      "iteration  80 : log likelihood of observed labels = -26369.76214077\n",
      "iteration  90 : log likelihood of observed labels = -26326.55811852\n",
      "iteration 100 : log likelihood of observed labels = -26295.88171307\n",
      "iteration 200 : log likelihood of observed labels = -26218.93679001\n",
      "iteration 300 : log likelihood of observed labels = -26215.09090526\n",
      "iteration 400 : log likelihood of observed labels = -26214.84127150\n",
      "iteration 500 : log likelihood of observed labels = -26214.82258876\n"
     ]
    }
   ],
   "source": [
    "l2_penalty = 1e3\n",
    "model_1e3_penalty = logistic_classifier()\n",
    "model_1e3_penalty.fit(feature_matrix_train, sentiment_train, learning_rate, l2_penalty, iteration)"
   ]
  },
  {
   "cell_type": "code",
   "execution_count": 17,
   "metadata": {},
   "outputs": [
    {
     "name": "stdout",
     "output_type": "stream",
     "text": [
      "100000.0 501 5e-06\n",
      "iteration   0 : log likelihood of observed labels = -29358.44219549\n",
      "iteration  10 : log likelihood of observed labels = -29358.35978606\n",
      "iteration  20 : log likelihood of observed labels = -29358.35566935\n",
      "iteration  30 : log likelihood of observed labels = -29358.35417612\n",
      "iteration  40 : log likelihood of observed labels = -29358.35363450\n",
      "iteration  50 : log likelihood of observed labels = -29358.35343804\n",
      "iteration  60 : log likelihood of observed labels = -29358.35336678\n",
      "iteration  70 : log likelihood of observed labels = -29358.35334093\n",
      "iteration  80 : log likelihood of observed labels = -29358.35333156\n",
      "iteration  90 : log likelihood of observed labels = -29358.35332816\n",
      "iteration 100 : log likelihood of observed labels = -29358.35332693\n",
      "iteration 200 : log likelihood of observed labels = -29358.35332622\n",
      "iteration 300 : log likelihood of observed labels = -29358.35332622\n",
      "iteration 400 : log likelihood of observed labels = -29358.35332622\n",
      "iteration 500 : log likelihood of observed labels = -29358.35332622\n"
     ]
    }
   ],
   "source": [
    "l2_penalty = 1e5\n",
    "model_1e5_penalty = logistic_classifier()\n",
    "model_1e5_penalty.fit(feature_matrix_train, sentiment_train, learning_rate, l2_penalty, iteration)"
   ]
  },
  {
   "cell_type": "markdown",
   "metadata": {},
   "source": [
    "# Visualize the result"
   ]
  },
  {
   "cell_type": "code",
   "execution_count": 18,
   "metadata": {
    "collapsed": true
   },
   "outputs": [],
   "source": [
    "#but we gonna use this DataFrame\n",
    "table = pd.DataFrame({'word': important_words, \n",
    "                      'l2_penalty_0': model_0_penalty.coefficients[1:],\n",
    "                      'l2_penalty_5': model_5_penalty.coefficients[1:],\n",
    "                      'l2_penalty_10': model_10_penalty.coefficients[1:],\n",
    "                      'l2_penalty_1e2': model_1e2_penalty.coefficients[1:],\n",
    "                      'l2_penalty_1e3': model_1e3_penalty.coefficients[1:],\n",
    "                      'l2_penalty_1e5': model_1e5_penalty.coefficients[1:]})"
   ]
  },
  {
   "cell_type": "code",
   "execution_count": 19,
   "metadata": {},
   "outputs": [
    {
     "name": "stdout",
     "output_type": "stream",
     "text": [
      "Positive words : \n",
      " 3        love\n",
      "7        easy\n",
      "2       great\n",
      "33    perfect\n",
      "8      little\n",
      "Name: word, dtype: object\n",
      "Negative words : \n",
      " 99          thought\n",
      "168        returned\n",
      "96            money\n",
      "105    disappointed\n",
      "113          return\n",
      "Name: word, dtype: object\n"
     ]
    }
   ],
   "source": [
    "table = table.sort_values(['l2_penalty_0'], ascending=[0])\n",
    "table = table[['word', 'l2_penalty_0', 'l2_penalty_5', 'l2_penalty_10', 'l2_penalty_1e2', 'l2_penalty_1e3', 'l2_penalty_1e5']]\n",
    "positive_words = table[1:6]['word']\n",
    "negative_words = table[-6:-1]['word']\n",
    "print ('Positive words : \\n', positive_words)\n",
    "print ('Negative words : \\n', negative_words)"
   ]
  },
  {
   "cell_type": "code",
   "execution_count": 20,
   "metadata": {},
   "outputs": [
    {
     "data": {
      "text/html": [
       "<div>\n",
       "<style>\n",
       "    .dataframe thead tr:only-child th {\n",
       "        text-align: right;\n",
       "    }\n",
       "\n",
       "    .dataframe thead th {\n",
       "        text-align: left;\n",
       "    }\n",
       "\n",
       "    .dataframe tbody tr th {\n",
       "        vertical-align: top;\n",
       "    }\n",
       "</style>\n",
       "<table border=\"1\" class=\"dataframe\">\n",
       "  <thead>\n",
       "    <tr style=\"text-align: right;\">\n",
       "      <th></th>\n",
       "      <th>word</th>\n",
       "      <th>l2_penalty_0</th>\n",
       "      <th>l2_penalty_5</th>\n",
       "      <th>l2_penalty_10</th>\n",
       "      <th>l2_penalty_1e2</th>\n",
       "      <th>l2_penalty_1e3</th>\n",
       "      <th>l2_penalty_1e5</th>\n",
       "    </tr>\n",
       "  </thead>\n",
       "  <tbody>\n",
       "    <tr>\n",
       "      <th>22</th>\n",
       "      <td>loves</td>\n",
       "      <td>1.109108</td>\n",
       "      <td>1.097863</td>\n",
       "      <td>1.086821</td>\n",
       "      <td>0.917918</td>\n",
       "      <td>0.360573</td>\n",
       "      <td>0.006118</td>\n",
       "    </tr>\n",
       "    <tr>\n",
       "      <th>3</th>\n",
       "      <td>love</td>\n",
       "      <td>1.095556</td>\n",
       "      <td>1.085786</td>\n",
       "      <td>1.076199</td>\n",
       "      <td>0.930326</td>\n",
       "      <td>0.433704</td>\n",
       "      <td>0.009027</td>\n",
       "    </tr>\n",
       "    <tr>\n",
       "      <th>7</th>\n",
       "      <td>easy</td>\n",
       "      <td>1.003390</td>\n",
       "      <td>0.994685</td>\n",
       "      <td>0.986143</td>\n",
       "      <td>0.856038</td>\n",
       "      <td>0.407102</td>\n",
       "      <td>0.008468</td>\n",
       "    </tr>\n",
       "    <tr>\n",
       "      <th>2</th>\n",
       "      <td>great</td>\n",
       "      <td>0.779377</td>\n",
       "      <td>0.773183</td>\n",
       "      <td>0.767100</td>\n",
       "      <td>0.673842</td>\n",
       "      <td>0.335499</td>\n",
       "      <td>0.006996</td>\n",
       "    </tr>\n",
       "    <tr>\n",
       "      <th>33</th>\n",
       "      <td>perfect</td>\n",
       "      <td>0.708485</td>\n",
       "      <td>0.700817</td>\n",
       "      <td>0.693282</td>\n",
       "      <td>0.577465</td>\n",
       "      <td>0.200807</td>\n",
       "      <td>0.002981</td>\n",
       "    </tr>\n",
       "  </tbody>\n",
       "</table>\n",
       "</div>"
      ],
      "text/plain": [
       "       word  l2_penalty_0  l2_penalty_5  l2_penalty_10  l2_penalty_1e2  \\\n",
       "22    loves      1.109108      1.097863       1.086821        0.917918   \n",
       "3      love      1.095556      1.085786       1.076199        0.930326   \n",
       "7      easy      1.003390      0.994685       0.986143        0.856038   \n",
       "2     great      0.779377      0.773183       0.767100        0.673842   \n",
       "33  perfect      0.708485      0.700817       0.693282        0.577465   \n",
       "\n",
       "    l2_penalty_1e3  l2_penalty_1e5  \n",
       "22        0.360573        0.006118  \n",
       "3         0.433704        0.009027  \n",
       "7         0.407102        0.008468  \n",
       "2         0.335499        0.006996  \n",
       "33        0.200807        0.002981  "
      ]
     },
     "execution_count": 20,
     "metadata": {},
     "output_type": "execute_result"
    }
   ],
   "source": [
    "table.head()"
   ]
  },
  {
   "cell_type": "code",
   "execution_count": 21,
   "metadata": {},
   "outputs": [
    {
     "data": {
      "image/png": "[encoded data removed]",
      "text/plain": [
       "<matplotlib.figure.Figure at 0x113eda940>"
      ]
     },
     "metadata": {},
     "output_type": "display_data"
    }
   ],
   "source": [
    "plt.rcParams['figure.figsize'] = 10, 6\n",
    "\n",
    "def make_coefficient_plot(table, positive_words, negative_words, l2_penalty_list):\n",
    "    cmap_positive = plt.get_cmap('Reds')\n",
    "    cmap_negative = plt.get_cmap('Blues')\n",
    "    \n",
    "    xx = l2_penalty_list\n",
    "    plt.plot(xx, [0.]*len(xx), '--', lw=1, color='k')\n",
    "    \n",
    "    table_positive_words = table[table['word'].isin(positive_words)]\n",
    "    table_negative_words = table[table['word'].isin(negative_words)]\n",
    "    del table_positive_words['word']\n",
    "    del table_negative_words['word']\n",
    "    \n",
    "    for i in range(len(positive_words)):\n",
    "        color = cmap_positive(0.8*((i+1)/(len(positive_words)*1.2)+0.15))\n",
    "        plt.plot(xx, table_positive_words[i:i+1].as_matrix().flatten(),\n",
    "                 '-', label=positive_words.iloc[i], linewidth=4.0, color=color)\n",
    "        \n",
    "    for i in range(len(negative_words)):\n",
    "        color = cmap_negative(0.8*((i+1)/(len(negative_words)*1.2)+0.15))\n",
    "        plt.plot(xx, table_negative_words[i:i+1].as_matrix().flatten(),\n",
    "                 '-', label=negative_words.iloc[i], linewidth=4.0, color=color)\n",
    "        \n",
    "    plt.legend(loc='best', ncol=3, prop={'size':16}, columnspacing=0.5)\n",
    "    plt.axis([1, 1e5, -1, 2])\n",
    "    plt.title('Coefficient path')\n",
    "    plt.xlabel('L2 penalty ($\\lambda$)')\n",
    "    plt.ylabel('Coefficient value')\n",
    "    plt.xscale('log')\n",
    "    plt.rcParams.update({'font.size': 18})\n",
    "    plt.tight_layout()\n",
    "\n",
    "\n",
    "make_coefficient_plot(table, positive_words, negative_words, l2_penalty_list=[0, 5, 10, 1e2, 1e3, 1e5])"
   ]
  },
  {
   "cell_type": "code",
   "execution_count": 23,
   "metadata": {},
   "outputs": [
    {
     "name": "stdout",
     "output_type": "stream",
     "text": [
      "{0: 0.7688303735456216, 5: 0.7687361627961751, 10: 0.7686419520467286, 100.0: 0.7677469499269867, 1000.0: 0.7568656083659145, 100000.0: 0.7286494889066842}\n"
     ]
    }
   ],
   "source": [
    "train_accuracy = {}\n",
    "train_accuracy[0] = model_0_penalty.get_accuracy(feature_matrix_train, sentiment_train)\n",
    "train_accuracy[5] = model_5_penalty.get_accuracy(feature_matrix_train, sentiment_train)\n",
    "train_accuracy[10] = model_10_penalty.get_accuracy(feature_matrix_train, sentiment_train)\n",
    "train_accuracy[1e2] = model_1e2_penalty.get_accuracy(feature_matrix_train, sentiment_train)\n",
    "train_accuracy[1e3] = model_1e3_penalty.get_accuracy(feature_matrix_train, sentiment_train)\n",
    "train_accuracy[1e5] = model_1e5_penalty.get_accuracy(feature_matrix_train, sentiment_train)\n",
    "print (train_accuracy)"
   ]
  },
  {
   "cell_type": "code",
   "execution_count": 24,
   "metadata": {},
   "outputs": [
    {
     "name": "stdout",
     "output_type": "stream",
     "text": [
      "{0: 0.7652157527793481, 5: 0.7656868287167892, 10: 0.7654983983418127, 100.0: 0.7648388920293951, 1000.0: 0.7547578669681553, 100000.0: 0.7302619182212172}\n"
     ]
    }
   ],
   "source": [
    "validation_accuracy = {}\n",
    "validation_accuracy[0] = model_0_penalty.get_accuracy(feature_matrix_valid, sentiment_valid)\n",
    "validation_accuracy[5] = model_5_penalty.get_accuracy(feature_matrix_valid, sentiment_valid)\n",
    "validation_accuracy[10] = model_10_penalty.get_accuracy(feature_matrix_valid, sentiment_valid)\n",
    "validation_accuracy[1e2] = model_1e2_penalty.get_accuracy(feature_matrix_valid, sentiment_valid)\n",
    "validation_accuracy[1e3] = model_1e3_penalty.get_accuracy(feature_matrix_valid, sentiment_valid)\n",
    "validation_accuracy[1e5] = model_1e5_penalty.get_accuracy(feature_matrix_valid, sentiment_valid)\n",
    "print (validation_accuracy)"
   ]
  },
  {
   "cell_type": "code",
   "execution_count": 25,
   "metadata": {},
   "outputs": [
    {
     "data": {
      "text/plain": [
       "<function matplotlib.pyplot.tight_layout>"
      ]
     },
     "execution_count": 25,
     "metadata": {},
     "output_type": "execute_result"
    },
    {
     "data": {
      "image/png": "[encoded data removed]",
      "text/plain": [
       "<matplotlib.figure.Figure at 0x115b5e4a8>"
      ]
     },
     "metadata": {},
     "output_type": "display_data"
    }
   ],
   "source": [
    "#Plot accuracy on training and validation sets over choice of L2 penalty.\n",
    "plt.rcParams['figure.figsize'] = 10, 6\n",
    "\n",
    "sorted_list = sorted(train_accuracy.items(), key=lambda x:x[0])\n",
    "plt.plot([p[0] for p in sorted_list], [p[1] for p in sorted_list], 'bo-', linewidth=4, label='Training accuracy')\n",
    "sorted_list = sorted(validation_accuracy.items(), key=lambda x:x[0])\n",
    "plt.plot([p[0] for p in sorted_list], [p[1] for p in sorted_list], 'ro-', linewidth=4, label='Validation accuracy')\n",
    "plt.xscale('symlog')\n",
    "plt.axis([0, 1e5, 0.70, 0.78])\n",
    "plt.legend(loc='lower left')\n",
    "plt.rcParams.update({'font.size': 18})\n",
    "plt.tight_layout"
   ]
  }
 ],
 "metadata": {
  "kernelspec": {
   "display_name": "Python 3",
   "language": "python",
   "name": "python3"
  },
  "language_info": {
   "codemirror_mode": {
    "name": "ipython",
    "version": 3
   },
   "file_extension": ".py",
   "mimetype": "text/x-python",
   "name": "python",
   "nbconvert_exporter": "python",
   "pygments_lexer": "ipython3",
   "version": "3.6.0"
  }
 },
 "nbformat": 4,
 "nbformat_minor": 1
}
