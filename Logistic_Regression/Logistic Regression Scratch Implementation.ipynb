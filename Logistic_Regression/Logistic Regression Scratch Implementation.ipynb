{
 "cells": [
  {
   "cell_type": "markdown",
   "metadata": {},
   "source": [
    "# Implementing Logistic Classifier & Test the model on Amazon Product Review data set"
   ]
  },
  {
   "cell_type": "code",
   "execution_count": 1,
   "metadata": {
    "collapsed": true
   },
   "outputs": [],
   "source": [
    "from sklearn.model_selection import train_test_split\n",
    "import numpy as np\n",
    "import pandas as pd\n",
    "from math import sqrt\n",
    "import json\n",
    "import matplotlib.pyplot as plt\n",
    "\n",
    "%matplotlib inline"
   ]
  },
  {
   "cell_type": "code",
   "execution_count": 2,
   "metadata": {},
   "outputs": [
    {
     "name": "stdout",
     "output_type": "stream",
     "text": [
      "Shape :  (53072, 4)\n"
     ]
    },
    {
     "data": {
      "text/html": [
       "<div>\n",
       "<style>\n",
       "    .dataframe thead tr:only-child th {\n",
       "        text-align: right;\n",
       "    }\n",
       "\n",
       "    .dataframe thead th {\n",
       "        text-align: left;\n",
       "    }\n",
       "\n",
       "    .dataframe tbody tr th {\n",
       "        vertical-align: top;\n",
       "    }\n",
       "</style>\n",
       "<table border=\"1\" class=\"dataframe\">\n",
       "  <thead>\n",
       "    <tr style=\"text-align: right;\">\n",
       "      <th></th>\n",
       "      <th>name</th>\n",
       "      <th>review</th>\n",
       "      <th>rating</th>\n",
       "      <th>sentiment</th>\n",
       "    </tr>\n",
       "  </thead>\n",
       "  <tbody>\n",
       "    <tr>\n",
       "      <th>0</th>\n",
       "      <td>Stop Pacifier Sucking without tears with Thumb...</td>\n",
       "      <td>All of my kids have cried non-stop when I trie...</td>\n",
       "      <td>5</td>\n",
       "      <td>1</td>\n",
       "    </tr>\n",
       "    <tr>\n",
       "      <th>1</th>\n",
       "      <td>Nature's Lullabies Second Year Sticker Calendar</td>\n",
       "      <td>We wanted to get something to keep track of ou...</td>\n",
       "      <td>5</td>\n",
       "      <td>1</td>\n",
       "    </tr>\n",
       "    <tr>\n",
       "      <th>2</th>\n",
       "      <td>Nature's Lullabies Second Year Sticker Calendar</td>\n",
       "      <td>My daughter had her 1st baby over a year ago. ...</td>\n",
       "      <td>5</td>\n",
       "      <td>1</td>\n",
       "    </tr>\n",
       "    <tr>\n",
       "      <th>3</th>\n",
       "      <td>Lamaze Peekaboo, I Love You</td>\n",
       "      <td>One of baby's first and favorite books, and it...</td>\n",
       "      <td>4</td>\n",
       "      <td>1</td>\n",
       "    </tr>\n",
       "    <tr>\n",
       "      <th>4</th>\n",
       "      <td>SoftPlay Peek-A-Boo Where's Elmo A Children's ...</td>\n",
       "      <td>Very cute interactive book! My son loves this ...</td>\n",
       "      <td>5</td>\n",
       "      <td>1</td>\n",
       "    </tr>\n",
       "  </tbody>\n",
       "</table>\n",
       "</div>"
      ],
      "text/plain": [
       "                                                name  \\\n",
       "0  Stop Pacifier Sucking without tears with Thumb...   \n",
       "1    Nature's Lullabies Second Year Sticker Calendar   \n",
       "2    Nature's Lullabies Second Year Sticker Calendar   \n",
       "3                        Lamaze Peekaboo, I Love You   \n",
       "4  SoftPlay Peek-A-Boo Where's Elmo A Children's ...   \n",
       "\n",
       "                                              review rating sentiment  \n",
       "0  All of my kids have cried non-stop when I trie...      5         1  \n",
       "1  We wanted to get something to keep track of ou...      5         1  \n",
       "2  My daughter had her 1st baby over a year ago. ...      5         1  \n",
       "3  One of baby's first and favorite books, and it...      4         1  \n",
       "4  Very cute interactive book! My son loves this ...      5         1  "
      ]
     },
     "execution_count": 2,
     "metadata": {},
     "output_type": "execute_result"
    }
   ],
   "source": [
    "# pd.read_csv intelligently converts input to python datatypes.\n",
    "products = pd.read_csv(\"amazon_baby_subset.csv\")\n",
    "products = products.astype(str)\n",
    "print ('Shape : ', products.shape)\n",
    "products.head()"
   ]
  },
  {
   "cell_type": "code",
   "execution_count": 3,
   "metadata": {
    "collapsed": true
   },
   "outputs": [],
   "source": [
    "# Change format of feature\n",
    "products['rating'] = products['rating'].astype(int)\n",
    "products['sentiment'] = products['sentiment'].astype(int)\n",
    "#fill in N/A's in the review column\n",
    "products = products.fillna({'reveiw':''}) "
   ]
  },
  {
   "cell_type": "code",
   "execution_count": 4,
   "metadata": {
    "collapsed": true
   },
   "outputs": [],
   "source": [
    "#Write a function remove_punctuation that takes a line of text and removes all punctuation from that text\n",
    "def remove_punctuation(text):\n",
    "    import string\n",
    "    return text.translate(string.punctuation)\n",
    "\n",
    "products['review_clean'] = products['review'].apply(remove_punctuation)"
   ]
  },
  {
   "cell_type": "code",
   "execution_count": 5,
   "metadata": {},
   "outputs": [
    {
     "name": "stdout",
     "output_type": "stream",
     "text": [
      "Number of importatnt words :  193\n"
     ]
    }
   ],
   "source": [
    "#read \"important_words.json\" file\n",
    "with open('important_words.json') as data_file:\n",
    "    important_words = json.load(data_file)\n",
    "\n",
    "print('Number of importatnt words : ', len(important_words))"
   ]
  },
  {
   "cell_type": "code",
   "execution_count": 6,
   "metadata": {
    "collapsed": true
   },
   "outputs": [],
   "source": [
    "#now we proceed with the second item. For each word in important_words, \n",
    "#we compute a count for the number of times the word occurs in the review.\n",
    "for word in important_words:\n",
    "    products[word] = products['review_clean'].apply(lambda s: s.split().count(word))"
   ]
  },
  {
   "cell_type": "code",
   "execution_count": 7,
   "metadata": {
    "collapsed": true
   },
   "outputs": [],
   "source": [
    "train_data = products.sample(frac=0.8,random_state=1)\n",
    "validation_data = products.drop(train_data.index)"
   ]
  },
  {
   "cell_type": "code",
   "execution_count": 8,
   "metadata": {
    "collapsed": true
   },
   "outputs": [],
   "source": [
    "def get_numpy_data(dataframe, features, label):\n",
    "    dataframe['constant'] = 1\n",
    "    features = ['constant'] + features\n",
    "    features_frame = dataframe[features]\n",
    "    features_matrix = features_frame.as_matrix()\n",
    "    label_sarray = dataframe[label]\n",
    "    label_array = label_sarray.as_matrix()\n",
    "    return(features_matrix, label_array)"
   ]
  },
  {
   "cell_type": "code",
   "execution_count": 9,
   "metadata": {},
   "outputs": [
    {
     "name": "stdout",
     "output_type": "stream",
     "text": [
      "Input feature(X) :  (42458, 194) Output(y) :  (42458,)\n"
     ]
    }
   ],
   "source": [
    "feature_matrix_train, sentiment_train = get_numpy_data(train_data, important_words, 'sentiment')\n",
    "feature_matrix_valid, sentiment_valid = get_numpy_data(validation_data, important_words, 'sentiment')\n",
    "\n",
    "print ('Input feature(X) : ', feature_matrix_train.shape, 'Output(y) : ', sentiment_train.shape)"
   ]
  },
  {
   "cell_type": "markdown",
   "metadata": {},
   "source": [
    "## Building a logistic regression\n",
    "\n",
    "$$\\ell\\ell(\\mathbf{w}) = \\sum_{i=1}^N \\Big( (\\mathbf{1}[y_i = +1] - 1)\\mathbf{w}^T h(\\mathbf{x}_i) - \\ln\\left(1 + \\exp(-\\mathbf{w}^T h(\\mathbf{x}_i))\\right) \\Big) \\color{red}{-\\lambda\\|\\mathbf{w}\\|_2^2} $$"
   ]
  },
  {
   "cell_type": "code",
   "execution_count": 133,
   "metadata": {
    "collapsed": true
   },
   "outputs": [],
   "source": [
    "class logistic_classifier():\n",
    "    def __init__(self):\n",
    "        self.coefficients = np.zeros(1)\n",
    "        self.l2_penalty = 0;\n",
    "        self.iteration = 1000\n",
    "        self.learning_rate = 1e-2\n",
    "    \n",
    "    def predict_probability(self, feature_matrix):\n",
    "        #Take dot product of feature_matrix and coefficients\n",
    "        score = np.dot(feature_matrix, self.coefficients)\n",
    "        #Compute P(y_i = +1|x_i, w) using the link function\n",
    "        predictions = 1/(1+np.exp(-score))\n",
    "        return predictions\n",
    "    \n",
    "    #Compute derivative of log likelihood with respect to a single coefficient\n",
    "    def feature_derivative_with_L2(self, errors, feature, coefficient, feature_is_constant):\n",
    "        #Compute the dot product of errors and feature(without L2 penalty)\n",
    "        derivative = np.dot(errors, feature)\n",
    "\n",
    "        #add L2 penalty term for any feature that isn't the intercept\n",
    "        if not feature_is_constant:\n",
    "            derivative = derivative - (2*self.l2_penalty*coefficient)\n",
    "        return derivative\n",
    "    \n",
    "    def compute_log_likelihood_with_L2(self, feature_matrix, sentiment):\n",
    "        indicator = (sentiment == +1)\n",
    "        scores = np.dot(feature_matrix, self.coefficients)\n",
    "        lp = np.sum((indicator-1) * scores - np.log(1. + np.exp(-scores))) - self.l2_penalty*np.sum(self.coefficients[1:]**2)\n",
    "        return lp\n",
    "    \n",
    "    def fit(self, feature_matrix, sentiment, learning_rate, l2_penalty, iteration):\n",
    "        self.learning_rate = learning_rate\n",
    "        self.l2_penalty = l2_penalty\n",
    "        self.iteration = iteration\n",
    "        self.coefficients = np.zeros(feature_matrix.shape[1])\n",
    "        \n",
    "        for itr in range(iteration):\n",
    "            #Predict P(y_i = +1|x_1,w) using your predict_probability() function\n",
    "            predictions = self.predict_probability(feature_matrix)\n",
    "\n",
    "            #compute indicator value for (y_i = +1)\n",
    "            indicator = (sentiment == +1)\n",
    "\n",
    "            #Compute the errors as indicator - predictions\n",
    "            errors = indicator - predictions\n",
    "        \n",
    "            for j in range(len(self.coefficients)): #loop over each coefficient\n",
    "                is_intercept = (j==0)\n",
    "                #Recall that feature_matrix[:,j] is the feature column associated with coefficients[j]\n",
    "                #compute the derivative for coefficients[j]. Save it in a variable called derivative\n",
    "                derivative = self.feature_derivative_with_L2(errors, feature_matrix[:,j], self.coefficients[j], is_intercept)\n",
    "                #add step size times the derivative to the current coefficient(l2_penalty is already added)\n",
    "                self.coefficients[j] = self.coefficients[j] + (learning_rate * derivative)\n",
    "\n",
    "            #Checking whether log likelihood is increasing\n",
    "            if (itr <= 100 and itr %10 ==0) or \\\n",
    "                (itr <= 1000 and itr %100 ==0) or (itr <= 10000 and itr %1000 ==0) or itr % 10000 ==0:\n",
    "                    lp = self.compute_log_likelihood_with_L2(feature_matrix, sentiment)\n",
    "                    print ('iteration %*d : log likelihood of observed labels = %.8f' % \\\n",
    "                    (int(np.ceil(np.log10(iteration ))), itr, lp))\n",
    "       \n",
    "    def get_accuracy(self, feature_matrix, sentiment):\n",
    "        #compute scores using feature_matrix, coefficients\n",
    "        scores = np.dot(feature_matrix, self.coefficients)\n",
    "        #threshold scores by 0\n",
    "        positive = scores > 0\n",
    "        negative = scores <= 0\n",
    "        scores[positive] = 1\n",
    "        scores[negative] = -1\n",
    "\n",
    "        correct = float((scores == sentiment).sum())\n",
    "        total = float(len(sentiment))\n",
    "        accuracy = float(correct / total)\n",
    "        return accuracy"
   ]
  },
  {
   "cell_type": "code",
   "execution_count": 134,
   "metadata": {},
   "outputs": [
    {
     "name": "stdout",
     "output_type": "stream",
     "text": [
      "iteration   0 : log likelihood of observed labels = -29288.58070881\n",
      "iteration  10 : log likelihood of observed labels = -28100.36448893\n",
      "iteration  20 : log likelihood of observed labels = -27195.76986436\n",
      "iteration  30 : log likelihood of observed labels = -26482.20092869\n",
      "iteration  40 : log likelihood of observed labels = -25903.87524714\n",
      "iteration  50 : log likelihood of observed labels = -25424.50160040\n",
      "iteration  60 : log likelihood of observed labels = -25019.69333753\n",
      "iteration  70 : log likelihood of observed labels = -24672.53647000\n",
      "iteration  80 : log likelihood of observed labels = -24370.95069989\n",
      "iteration  90 : log likelihood of observed labels = -24106.07783302\n",
      "iteration 100 : log likelihood of observed labels = -23871.26902710\n",
      "iteration 200 : log likelihood of observed labels = -22439.45278252\n",
      "iteration 300 : log likelihood of observed labels = -21740.13826224\n",
      "iteration 400 : log likelihood of observed labels = -21318.91399836\n",
      "iteration 500 : log likelihood of observed labels = -21036.28201174\n"
     ]
    }
   ],
   "source": [
    "learning_rate = 5e-6\n",
    "iteration = 501\n",
    "\n",
    "l2_penalty = 0\n",
    "model_0_penalty = logistic_classifier()\n",
    "model_0_penalty.fit(feature_matrix_train, sentiment_train, learning_rate, l2_penalty, iteration)"
   ]
  },
  {
   "cell_type": "code",
   "execution_count": 135,
   "metadata": {},
   "outputs": [
    {
     "name": "stdout",
     "output_type": "stream",
     "text": [
      "iteration   0 : log likelihood of observed labels = -29288.58355612\n",
      "iteration  10 : log likelihood of observed labels = -28100.89790069\n",
      "iteration  20 : log likelihood of observed labels = -27197.44526920\n",
      "iteration  30 : log likelihood of observed labels = -26485.36508272\n",
      "iteration  40 : log likelihood of observed labels = -25908.72932787\n",
      "iteration  50 : log likelihood of observed labels = -25431.16298233\n",
      "iteration  60 : log likelihood of observed labels = -25028.22888633\n",
      "iteration  70 : log likelihood of observed labels = -24682.98137776\n",
      "iteration  80 : log likelihood of observed labels = -24383.31964787\n",
      "iteration  90 : log likelihood of observed labels = -24120.37188823\n",
      "iteration 100 : log likelihood of observed labels = -23887.48005994\n",
      "iteration 200 : log likelihood of observed labels = -22473.64467944\n",
      "iteration 300 : log likelihood of observed labels = -21789.83285554\n",
      "iteration 400 : log likelihood of observed labels = -21382.01826921\n",
      "iteration 500 : log likelihood of observed labels = -21111.12469379\n"
     ]
    }
   ],
   "source": [
    "l2_penalty = 4\n",
    "model_4_penalty = logistic_classifier()\n",
    "model_4_penalty.fit(feature_matrix_train, sentiment_train, learning_rate, l2_penalty, iteration)"
   ]
  },
  {
   "cell_type": "code",
   "execution_count": 136,
   "metadata": {},
   "outputs": [
    {
     "name": "stdout",
     "output_type": "stream",
     "text": [
      "iteration   0 : log likelihood of observed labels = -29288.58782709\n",
      "iteration  10 : log likelihood of observed labels = -28101.69749248\n",
      "iteration  20 : log likelihood of observed labels = -27199.95513612\n",
      "iteration  30 : log likelihood of observed labels = -26490.10227223\n",
      "iteration  40 : log likelihood of observed labels = -25915.99217920\n",
      "iteration  50 : log likelihood of observed labels = -25441.12402898\n",
      "iteration  60 : log likelihood of observed labels = -25040.98490709\n",
      "iteration  70 : log likelihood of observed labels = -24698.58170274\n",
      "iteration  80 : log likelihood of observed labels = -24401.78292929\n",
      "iteration  90 : log likelihood of observed labels = -24141.69645799\n",
      "iteration 100 : log likelihood of observed labels = -23911.65056165\n",
      "iteration 200 : log likelihood of observed labels = -22524.33977212\n",
      "iteration 300 : log likelihood of observed labels = -21863.11893035\n",
      "iteration 400 : log likelihood of observed labels = -21474.60080803\n",
      "iteration 500 : log likelihood of observed labels = -21220.38376719\n"
     ]
    }
   ],
   "source": [
    "l2_penalty = 10\n",
    "model_10_penalty = logistic_classifier()\n",
    "model_10_penalty.fit(feature_matrix_train, sentiment_train, learning_rate, l2_penalty, iteration)"
   ]
  },
  {
   "cell_type": "code",
   "execution_count": 137,
   "metadata": {},
   "outputs": [
    {
     "name": "stdout",
     "output_type": "stream",
     "text": [
      "iteration   0 : log likelihood of observed labels = -29288.65189165\n",
      "iteration  10 : log likelihood of observed labels = -28113.61600449\n",
      "iteration  20 : log likelihood of observed labels = -27237.14100784\n",
      "iteration  30 : log likelihood of observed labels = -26559.87687636\n",
      "iteration  40 : log likelihood of observed labels = -26022.35455298\n",
      "iteration  50 : log likelihood of observed labels = -25586.17892031\n",
      "iteration  60 : log likelihood of observed labels = -25225.70914514\n",
      "iteration  70 : log likelihood of observed labels = -24923.25613858\n",
      "iteration  80 : log likelihood of observed labels = -24666.24743739\n",
      "iteration  90 : log likelihood of observed labels = -24445.50675878\n",
      "iteration 100 : log likelihood of observed labels = -24254.17809676\n",
      "iteration 200 : log likelihood of observed labels = -23207.36014212\n",
      "iteration 300 : log likelihood of observed labels = -22806.07339426\n",
      "iteration 400 : log likelihood of observed labels = -22616.79550950\n",
      "iteration 500 : log likelihood of observed labels = -22517.50241332\n"
     ]
    }
   ],
   "source": [
    "l2_penalty = 1e2\n",
    "model_1e2_penalty = logistic_classifier()\n",
    "model_1e2_penalty.fit(feature_matrix_train, sentiment_train, learning_rate, l2_penalty, iteration)"
   ]
  },
  {
   "cell_type": "code",
   "execution_count": 138,
   "metadata": {},
   "outputs": [
    {
     "name": "stdout",
     "output_type": "stream",
     "text": [
      "iteration   0 : log likelihood of observed labels = -29289.29253721\n",
      "iteration  10 : log likelihood of observed labels = -28225.38392135\n",
      "iteration  20 : log likelihood of observed labels = -27565.60803642\n",
      "iteration  30 : log likelihood of observed labels = -27142.48892406\n",
      "iteration  40 : log likelihood of observed labels = -26864.46318305\n",
      "iteration  50 : log likelihood of observed labels = -26678.12176353\n",
      "iteration  60 : log likelihood of observed labels = -26551.18435741\n",
      "iteration  70 : log likelihood of observed labels = -26463.53995367\n",
      "iteration  80 : log likelihood of observed labels = -26402.33551112\n",
      "iteration  90 : log likelihood of observed labels = -26359.17953482\n",
      "iteration 100 : log likelihood of observed labels = -26328.49445411\n",
      "iteration 200 : log likelihood of observed labels = -26251.17254324\n",
      "iteration 300 : log likelihood of observed labels = -26247.26212255\n",
      "iteration 400 : log likelihood of observed labels = -26247.00705893\n",
      "iteration 500 : log likelihood of observed labels = -26246.98796576\n"
     ]
    }
   ],
   "source": [
    "l2_penalty = 1e3\n",
    "model_1e3_penalty = logistic_classifier()\n",
    "model_1e3_penalty.fit(feature_matrix_train, sentiment_train, learning_rate, l2_penalty, iteration)"
   ]
  },
  {
   "cell_type": "code",
   "execution_count": 139,
   "metadata": {},
   "outputs": [
    {
     "name": "stdout",
     "output_type": "stream",
     "text": [
      "iteration   0 : log likelihood of observed labels = -29359.76354881\n",
      "iteration  10 : log likelihood of observed labels = -29359.43842752\n",
      "iteration  20 : log likelihood of observed labels = -29359.34281077\n",
      "iteration  30 : log likelihood of observed labels = -29359.30813393\n",
      "iteration  40 : log likelihood of observed labels = -29359.29555782\n",
      "iteration  50 : log likelihood of observed labels = -29359.29099689\n",
      "iteration  60 : log likelihood of observed labels = -29359.28934279\n",
      "iteration  70 : log likelihood of observed labels = -29359.28874290\n",
      "iteration  80 : log likelihood of observed labels = -29359.28852534\n",
      "iteration  90 : log likelihood of observed labels = -29359.28844644\n",
      "iteration 100 : log likelihood of observed labels = -29359.28841783\n",
      "iteration 200 : log likelihood of observed labels = -29359.28840154\n",
      "iteration 300 : log likelihood of observed labels = -29359.28840154\n",
      "iteration 400 : log likelihood of observed labels = -29359.28840154\n",
      "iteration 500 : log likelihood of observed labels = -29359.28840154\n"
     ]
    }
   ],
   "source": [
    "l2_penalty = 1e5\n",
    "model_1e5_penalty = logistic_classifier()\n",
    "model_1e5_penalty.fit(feature_matrix_train, sentiment_train, learning_rate, l2_penalty, iteration)"
   ]
  },
  {
   "cell_type": "markdown",
   "metadata": {},
   "source": [
    "# Visualize the result"
   ]
  },
  {
   "cell_type": "code",
   "execution_count": 140,
   "metadata": {},
   "outputs": [],
   "source": [
    "#but we gonna use this DataFrame\n",
    "table = pd.DataFrame({'word': important_words, 'l2_penalty_0': model_0_penalty.coefficients[1:],\n",
    "                  'l2_penalty_4': model_4_penalty.coefficients[1:], 'l2_penalty_10': model_10_penalty.coefficients[1:],\n",
    "                  'l2_penalty_1e2': model_1e2_penalty.coefficients[1:], 'l2_penalty_1e3': model_1e3_penalty.coefficients[1:], 'l2_penalty_1e5': model_1e5_penalty.coefficients[1:]})"
   ]
  },
  {
   "cell_type": "code",
   "execution_count": 141,
   "metadata": {},
   "outputs": [
    {
     "name": "stdout",
     "output_type": "stream",
     "text": [
      "Positive words : \n",
      " 22      loves\n",
      "7        easy\n",
      "2       great\n",
      "33    perfect\n",
      "82      happy\n",
      "Name: word, dtype: object\n",
      "Negative words : \n",
      " 99          thought\n",
      "168        returned\n",
      "96            money\n",
      "113          return\n",
      "105    disappointed\n",
      "Name: word, dtype: object\n"
     ]
    }
   ],
   "source": [
    "table = table.sort_values(['l2_penalty_0'], ascending=[0])\n",
    "positive_words = table[1:6]['word']\n",
    "negative_words = table[-6:-1]['word']\n",
    "print ('Positive words : \\n', positive_words)\n",
    "print ('Negative words : \\n', negative_words)"
   ]
  },
  {
   "cell_type": "code",
   "execution_count": 142,
   "metadata": {},
   "outputs": [
    {
     "data": {
      "image/png": "[encoded data removed]",
      "text/plain": [
       "<matplotlib.figure.Figure at 0x11fb922e8>"
      ]
     },
     "metadata": {},
     "output_type": "display_data"
    }
   ],
   "source": [
    "plt.rcParams['figure.figsize'] = 10, 6\n",
    "\n",
    "def make_coefficient_plot(table, positive_words, negative_words, l2_penalty_list):\n",
    "    cmap_positive = plt.get_cmap('Reds')\n",
    "    cmap_negative = plt.get_cmap('Blues')\n",
    "    \n",
    "    xx = l2_penalty_list\n",
    "    plt.plot(xx, [0.]*len(xx), '--', lw=1, color='k')\n",
    "    \n",
    "    table_positive_words = table[table['word'].isin(positive_words)]\n",
    "    table_negative_words = table[table['word'].isin(negative_words)]\n",
    "    del table_positive_words['word']\n",
    "    del table_negative_words['word']\n",
    "    \n",
    "    for i in range(len(positive_words)):\n",
    "        color = cmap_positive(0.8*((i+1)/(len(positive_words)*1.2)+0.15))\n",
    "        plt.plot(xx, table_positive_words[i:i+1].as_matrix().flatten(),\n",
    "                 '-', label=positive_words.iloc[i], linewidth=4.0, color=color)\n",
    "        \n",
    "    for i in range(len(negative_words)):\n",
    "        color = cmap_negative(0.8*((i+1)/(len(negative_words)*1.2)+0.15))\n",
    "        plt.plot(xx, table_negative_words[i:i+1].as_matrix().flatten(),\n",
    "                 '-', label=negative_words.iloc[i], linewidth=4.0, color=color)\n",
    "        \n",
    "    plt.legend(loc='best', ncol=3, prop={'size':16}, columnspacing=0.5)\n",
    "    plt.axis([1, 1e5, -1, 2])\n",
    "    plt.title('Coefficient path')\n",
    "    plt.xlabel('L2 penalty ($\\lambda$)')\n",
    "    plt.ylabel('Coefficient value')\n",
    "    plt.xscale('log')\n",
    "    plt.rcParams.update({'font.size': 18})\n",
    "    plt.tight_layout()\n",
    "\n",
    "\n",
    "make_coefficient_plot(table, positive_words, negative_words, l2_penalty_list=[0, 4, 10, 1e2, 1e3, 1e5])"
   ]
  },
  {
   "cell_type": "code",
   "execution_count": 143,
   "metadata": {
    "collapsed": true
   },
   "outputs": [],
   "source": [
    "def get_accuracy(feature_matrix, coefficients, sentiment):\n",
    "    #compute scores using feature_matrix, coefficients\n",
    "    scores = np.dot(feature_matrix, coefficients)\n",
    "    #threshold scores by 0\n",
    "    positive = scores > 0\n",
    "    negative = scores <= 0\n",
    "    scores[positive] = 1\n",
    "    scores[negative] = -1\n",
    "\n",
    "    correct = float((scores == sentiment).sum())\n",
    "    total = float(len(sentiment))\n",
    "    accuracy = float(correct / total)\n",
    "    return accuracy"
   ]
  },
  {
   "cell_type": "code",
   "execution_count": 144,
   "metadata": {},
   "outputs": [],
   "source": [
    "accuracy_0_penalty = model_0_penalty.get_accuracy(feature_matrix_train, sentiment_train)\n",
    "accuracy_4_penalty = model_4_penalty.get_accuracy(feature_matrix_train, sentiment_train)\n",
    "accuracy_10_penalty = model_10_penalty.get_accuracy(feature_matrix_train, sentiment_train)\n",
    "accuracy_1e2_penalty = model_1e2_penalty.get_accuracy(feature_matrix_train, sentiment_train)\n",
    "accuracy_1e3_penalty = model_1e3_penalty.get_accuracy(feature_matrix_train, sentiment_train)\n",
    "accuracy_1e5_penalty = model_1e5_penalty.get_accuracy(feature_matrix_train, sentiment_train)"
   ]
  },
  {
   "cell_type": "code",
   "execution_count": 145,
   "metadata": {},
   "outputs": [
    {
     "name": "stdout",
     "output_type": "stream",
     "text": [
      "0.7687126101088134\n",
      "0.7685712939846436\n",
      "0.7685241886099204\n",
      "0.7680531348626878\n",
      "0.7574308728625936\n",
      "0.6627490696688492\n"
     ]
    }
   ],
   "source": [
    "print (accuracy_0_penalty, accuracy_4_penalty, accuracy_10_penalty, accuracy_1e2_penalty, accuracy_1e3_penalty, accuracy_1e5_penalty, sep='\\n')"
   ]
  },
  {
   "cell_type": "code",
   "execution_count": 146,
   "metadata": {},
   "outputs": [],
   "source": [
    "accuracy_0_penalty_valid = model_0_penalty.get_accuracy(feature_matrix_valid, sentiment_valid)\n",
    "accuracy_4_penalty_valid = model_4_penalty.get_accuracy(feature_matrix_valid, sentiment_valid)\n",
    "accuracy_10_penalty_valid = model_10_penalty.get_accuracy(feature_matrix_valid, sentiment_valid)\n",
    "accuracy_1e2_penalty_valid = model_1e2_penalty.get_accuracy(feature_matrix_valid, sentiment_valid)\n",
    "accuracy_1e3_penalty_valid = model_1e3_penalty.get_accuracy(feature_matrix_valid, sentiment_valid)\n",
    "accuracy_1e5_penalty_valid = model_1e5_penalty.get_accuracy(feature_matrix_valid, sentiment_valid)"
   ]
  },
  {
   "cell_type": "code",
   "execution_count": 147,
   "metadata": {},
   "outputs": [
    {
     "name": "stdout",
     "output_type": "stream",
     "text": [
      "0.7697380817787828\n",
      "0.7699265121537592\n",
      "0.7702091577162239\n",
      "0.7695496514038063\n",
      "0.7581496137177313\n",
      "0.6643112869794611\n"
     ]
    }
   ],
   "source": [
    "print (accuracy_0_penalty_valid, accuracy_4_penalty_valid, accuracy_10_penalty_valid, accuracy_1e2_penalty_valid, accuracy_1e3_penalty_valid, accuracy_1e5_penalty_valid, sep='\\n')"
   ]
  }
 ],
 "metadata": {
  "kernelspec": {
   "display_name": "Python 3",
   "language": "python",
   "name": "python3"
  },
  "language_info": {
   "codemirror_mode": {
    "name": "ipython",
    "version": 3
   },
   "file_extension": ".py",
   "mimetype": "text/x-python",
   "name": "python",
   "nbconvert_exporter": "python",
   "pygments_lexer": "ipython3",
   "version": "3.6.0"
  }
 },
 "nbformat": 4,
 "nbformat_minor": 1
}
