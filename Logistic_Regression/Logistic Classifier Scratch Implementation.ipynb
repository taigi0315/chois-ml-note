{
 "cells": [
  {
   "cell_type": "markdown",
   "metadata": {},
   "source": [
    "# Implementing Logistic Classifier & Test the model on Amazon Product Review data set"
   ]
  },
  {
   "cell_type": "code",
   "execution_count": 136,
   "metadata": {
    "collapsed": true
   },
   "outputs": [],
   "source": [
    "from sklearn.model_selection import train_test_split\n",
    "import numpy as np\n",
    "import pandas as pd\n",
    "from math import sqrt\n",
    "import json\n",
    "import matplotlib.pyplot as plt\n",
    "\n",
    "%matplotlib inline"
   ]
  },
  {
   "cell_type": "code",
   "execution_count": 137,
   "metadata": {},
   "outputs": [
    {
     "name": "stdout",
     "output_type": "stream",
     "text": [
      "Shape :  (53072, 4)\n"
     ]
    }
   ],
   "source": [
    "# pd.read_csv intelligently converts input to python datatypes.\n",
    "products = pd.read_csv(\"amazon_baby_subset.csv\")\n",
    "products = products.astype(str)\n",
    "print ('Shape : ', products.shape)"
   ]
  },
  {
   "cell_type": "code",
   "execution_count": 138,
   "metadata": {},
   "outputs": [],
   "source": [
    "# Change format of feature\n",
    "products['rating'] = products['rating'].astype(int)\n",
    "products['sentiment'] = products['sentiment'].astype(int)\n",
    "# fill in N/A's in the review column\n",
    "products = products.fillna({'reveiw':''}) "
   ]
  },
  {
   "cell_type": "code",
   "execution_count": 139,
   "metadata": {},
   "outputs": [
    {
     "data": {
      "text/html": [
       "<div>\n",
       "<style>\n",
       "    .dataframe thead tr:only-child th {\n",
       "        text-align: right;\n",
       "    }\n",
       "\n",
       "    .dataframe thead th {\n",
       "        text-align: left;\n",
       "    }\n",
       "\n",
       "    .dataframe tbody tr th {\n",
       "        vertical-align: top;\n",
       "    }\n",
       "</style>\n",
       "<table border=\"1\" class=\"dataframe\">\n",
       "  <thead>\n",
       "    <tr style=\"text-align: right;\">\n",
       "      <th></th>\n",
       "      <th>name</th>\n",
       "      <th>review</th>\n",
       "      <th>rating</th>\n",
       "      <th>sentiment</th>\n",
       "      <th>review_clean</th>\n",
       "    </tr>\n",
       "  </thead>\n",
       "  <tbody>\n",
       "    <tr>\n",
       "      <th>0</th>\n",
       "      <td>Stop Pacifier Sucking without tears with Thumb...</td>\n",
       "      <td>All of my kids have cried non-stop when I trie...</td>\n",
       "      <td>5</td>\n",
       "      <td>1</td>\n",
       "      <td>All of my kids have cried non-stop when I trie...</td>\n",
       "    </tr>\n",
       "    <tr>\n",
       "      <th>1</th>\n",
       "      <td>Nature's Lullabies Second Year Sticker Calendar</td>\n",
       "      <td>We wanted to get something to keep track of ou...</td>\n",
       "      <td>5</td>\n",
       "      <td>1</td>\n",
       "      <td>We wanted to get something to keep track of ou...</td>\n",
       "    </tr>\n",
       "    <tr>\n",
       "      <th>2</th>\n",
       "      <td>Nature's Lullabies Second Year Sticker Calendar</td>\n",
       "      <td>My daughter had her 1st baby over a year ago. ...</td>\n",
       "      <td>5</td>\n",
       "      <td>1</td>\n",
       "      <td>My daughter had her 1st baby over a year ago. ...</td>\n",
       "    </tr>\n",
       "    <tr>\n",
       "      <th>3</th>\n",
       "      <td>Lamaze Peekaboo, I Love You</td>\n",
       "      <td>One of baby's first and favorite books, and it...</td>\n",
       "      <td>4</td>\n",
       "      <td>1</td>\n",
       "      <td>One of baby's first and favorite books, and it...</td>\n",
       "    </tr>\n",
       "    <tr>\n",
       "      <th>4</th>\n",
       "      <td>SoftPlay Peek-A-Boo Where's Elmo A Children's ...</td>\n",
       "      <td>Very cute interactive book! My son loves this ...</td>\n",
       "      <td>5</td>\n",
       "      <td>1</td>\n",
       "      <td>Very cute interactive book! My son loves this ...</td>\n",
       "    </tr>\n",
       "  </tbody>\n",
       "</table>\n",
       "</div>"
      ],
      "text/plain": [
       "                                                name  \\\n",
       "0  Stop Pacifier Sucking without tears with Thumb...   \n",
       "1    Nature's Lullabies Second Year Sticker Calendar   \n",
       "2    Nature's Lullabies Second Year Sticker Calendar   \n",
       "3                        Lamaze Peekaboo, I Love You   \n",
       "4  SoftPlay Peek-A-Boo Where's Elmo A Children's ...   \n",
       "\n",
       "                                              review  rating  sentiment  \\\n",
       "0  All of my kids have cried non-stop when I trie...       5          1   \n",
       "1  We wanted to get something to keep track of ou...       5          1   \n",
       "2  My daughter had her 1st baby over a year ago. ...       5          1   \n",
       "3  One of baby's first and favorite books, and it...       4          1   \n",
       "4  Very cute interactive book! My son loves this ...       5          1   \n",
       "\n",
       "                                        review_clean  \n",
       "0  All of my kids have cried non-stop when I trie...  \n",
       "1  We wanted to get something to keep track of ou...  \n",
       "2  My daughter had her 1st baby over a year ago. ...  \n",
       "3  One of baby's first and favorite books, and it...  \n",
       "4  Very cute interactive book! My son loves this ...  "
      ]
     },
     "execution_count": 139,
     "metadata": {},
     "output_type": "execute_result"
    }
   ],
   "source": [
    "# Write a function remove_punctuation that takes a line of text and removes all punctuation from that text\n",
    "def remove_punctuation(text):\n",
    "    import string\n",
    "    return text.translate(string.punctuation)\n",
    "\n",
    "products['review_clean'] = products['review'].apply(remove_punctuation)\n",
    "products.head()"
   ]
  },
  {
   "cell_type": "code",
   "execution_count": 140,
   "metadata": {},
   "outputs": [
    {
     "name": "stdout",
     "output_type": "stream",
     "text": [
      "Number of importatnt words :  193\n"
     ]
    }
   ],
   "source": [
    "# read \"important_words.json\" file\n",
    "with open('important_words.json') as data_file:\n",
    "    important_words = json.load(data_file)\n",
    "\n",
    "print('Number of importatnt words : ', len(important_words))"
   ]
  },
  {
   "cell_type": "code",
   "execution_count": 141,
   "metadata": {},
   "outputs": [
    {
     "ename": "KeyboardInterrupt",
     "evalue": "",
     "output_type": "error",
     "traceback": [
      "\u001b[0;31m---------------------------------------------------------------------------\u001b[0m",
      "\u001b[0;31mKeyboardInterrupt\u001b[0m                         Traceback (most recent call last)",
      "\u001b[0;32m<ipython-input-141-45ce50868005>\u001b[0m in \u001b[0;36m<module>\u001b[0;34m()\u001b[0m\n\u001b[1;32m      2\u001b[0m \u001b[0;31m# we compute a count for the number of times the word occurs in the review.\u001b[0m\u001b[0;34m\u001b[0m\u001b[0;34m\u001b[0m\u001b[0m\n\u001b[1;32m      3\u001b[0m \u001b[0;32mfor\u001b[0m \u001b[0mword\u001b[0m \u001b[0;32min\u001b[0m \u001b[0mimportant_words\u001b[0m\u001b[0;34m:\u001b[0m\u001b[0;34m\u001b[0m\u001b[0m\n\u001b[0;32m----> 4\u001b[0;31m     \u001b[0mproducts\u001b[0m\u001b[0;34m[\u001b[0m\u001b[0mword\u001b[0m\u001b[0;34m]\u001b[0m \u001b[0;34m=\u001b[0m \u001b[0mproducts\u001b[0m\u001b[0;34m[\u001b[0m\u001b[0;34m'review_clean'\u001b[0m\u001b[0;34m]\u001b[0m\u001b[0;34m.\u001b[0m\u001b[0mapply\u001b[0m\u001b[0;34m(\u001b[0m\u001b[0;32mlambda\u001b[0m \u001b[0ms\u001b[0m\u001b[0;34m:\u001b[0m \u001b[0ms\u001b[0m\u001b[0;34m.\u001b[0m\u001b[0msplit\u001b[0m\u001b[0;34m(\u001b[0m\u001b[0;34m)\u001b[0m\u001b[0;34m.\u001b[0m\u001b[0mcount\u001b[0m\u001b[0;34m(\u001b[0m\u001b[0mword\u001b[0m\u001b[0;34m)\u001b[0m\u001b[0;34m)\u001b[0m\u001b[0;34m\u001b[0m\u001b[0m\n\u001b[0m",
      "\u001b[0;32m/anaconda/lib/python3.6/site-packages/pandas/core/series.py\u001b[0m in \u001b[0;36mapply\u001b[0;34m(self, func, convert_dtype, args, **kwds)\u001b[0m\n\u001b[1;32m   2353\u001b[0m             \u001b[0;32melse\u001b[0m\u001b[0;34m:\u001b[0m\u001b[0;34m\u001b[0m\u001b[0m\n\u001b[1;32m   2354\u001b[0m                 \u001b[0mvalues\u001b[0m \u001b[0;34m=\u001b[0m \u001b[0mself\u001b[0m\u001b[0;34m.\u001b[0m\u001b[0masobject\u001b[0m\u001b[0;34m\u001b[0m\u001b[0m\n\u001b[0;32m-> 2355\u001b[0;31m                 \u001b[0mmapped\u001b[0m \u001b[0;34m=\u001b[0m \u001b[0mlib\u001b[0m\u001b[0;34m.\u001b[0m\u001b[0mmap_infer\u001b[0m\u001b[0;34m(\u001b[0m\u001b[0mvalues\u001b[0m\u001b[0;34m,\u001b[0m \u001b[0mf\u001b[0m\u001b[0;34m,\u001b[0m \u001b[0mconvert\u001b[0m\u001b[0;34m=\u001b[0m\u001b[0mconvert_dtype\u001b[0m\u001b[0;34m)\u001b[0m\u001b[0;34m\u001b[0m\u001b[0m\n\u001b[0m\u001b[1;32m   2356\u001b[0m \u001b[0;34m\u001b[0m\u001b[0m\n\u001b[1;32m   2357\u001b[0m         \u001b[0;32mif\u001b[0m \u001b[0mlen\u001b[0m\u001b[0;34m(\u001b[0m\u001b[0mmapped\u001b[0m\u001b[0;34m)\u001b[0m \u001b[0;32mand\u001b[0m \u001b[0misinstance\u001b[0m\u001b[0;34m(\u001b[0m\u001b[0mmapped\u001b[0m\u001b[0;34m[\u001b[0m\u001b[0;36m0\u001b[0m\u001b[0;34m]\u001b[0m\u001b[0;34m,\u001b[0m \u001b[0mSeries\u001b[0m\u001b[0;34m)\u001b[0m\u001b[0;34m:\u001b[0m\u001b[0;34m\u001b[0m\u001b[0m\n",
      "\u001b[0;32mpandas/_libs/src/inference.pyx\u001b[0m in \u001b[0;36mpandas._libs.lib.map_infer (pandas/_libs/lib.c:66440)\u001b[0;34m()\u001b[0m\n",
      "\u001b[0;32m<ipython-input-141-45ce50868005>\u001b[0m in \u001b[0;36m<lambda>\u001b[0;34m(s)\u001b[0m\n\u001b[1;32m      2\u001b[0m \u001b[0;31m# we compute a count for the number of times the word occurs in the review.\u001b[0m\u001b[0;34m\u001b[0m\u001b[0;34m\u001b[0m\u001b[0m\n\u001b[1;32m      3\u001b[0m \u001b[0;32mfor\u001b[0m \u001b[0mword\u001b[0m \u001b[0;32min\u001b[0m \u001b[0mimportant_words\u001b[0m\u001b[0;34m:\u001b[0m\u001b[0;34m\u001b[0m\u001b[0m\n\u001b[0;32m----> 4\u001b[0;31m     \u001b[0mproducts\u001b[0m\u001b[0;34m[\u001b[0m\u001b[0mword\u001b[0m\u001b[0;34m]\u001b[0m \u001b[0;34m=\u001b[0m \u001b[0mproducts\u001b[0m\u001b[0;34m[\u001b[0m\u001b[0;34m'review_clean'\u001b[0m\u001b[0;34m]\u001b[0m\u001b[0;34m.\u001b[0m\u001b[0mapply\u001b[0m\u001b[0;34m(\u001b[0m\u001b[0;32mlambda\u001b[0m \u001b[0ms\u001b[0m\u001b[0;34m:\u001b[0m \u001b[0ms\u001b[0m\u001b[0;34m.\u001b[0m\u001b[0msplit\u001b[0m\u001b[0;34m(\u001b[0m\u001b[0;34m)\u001b[0m\u001b[0;34m.\u001b[0m\u001b[0mcount\u001b[0m\u001b[0;34m(\u001b[0m\u001b[0mword\u001b[0m\u001b[0;34m)\u001b[0m\u001b[0;34m)\u001b[0m\u001b[0;34m\u001b[0m\u001b[0m\n\u001b[0m",
      "\u001b[0;31mKeyboardInterrupt\u001b[0m: "
     ]
    }
   ],
   "source": [
    "# now we proceed with the second item. For each word in important_words, \n",
    "# we compute a count for the number of times the word occurs in the review.\n",
    "for word in important_words:\n",
    "    products[word] = products['review_clean'].apply(lambda s: s.split().count(word))"
   ]
  },
  {
   "cell_type": "code",
   "execution_count": null,
   "metadata": {},
   "outputs": [],
   "source": [
    "# Split train/valid data set\n",
    "train_data = products.sample(frac=0.8)\n",
    "validation_data = products.drop(train_data.index)"
   ]
  },
  {
   "cell_type": "code",
   "execution_count": null,
   "metadata": {
    "collapsed": true
   },
   "outputs": [],
   "source": [
    "def get_numpy_data(dataframe, features, label):\n",
    "    dataframe['constant'] = 1\n",
    "    features = ['constant'] + features\n",
    "    features_frame = dataframe[features]\n",
    "    features_matrix = features_frame.as_matrix()\n",
    "    label_sarray = dataframe[label]\n",
    "    label_array = label_sarray.as_matrix()\n",
    "    return(features_matrix, label_array)"
   ]
  },
  {
   "cell_type": "code",
   "execution_count": null,
   "metadata": {},
   "outputs": [],
   "source": [
    "feature_matrix_train, sentiment_train = get_numpy_data(train_data, important_words, 'sentiment')\n",
    "feature_matrix_valid, sentiment_valid = get_numpy_data(validation_data, important_words, 'sentiment')\n",
    "\n",
    "print ('Input feature(X) : ', feature_matrix_train.shape, 'Output(y) : ', sentiment_train.shape)"
   ]
  },
  {
   "cell_type": "markdown",
   "metadata": {},
   "source": [
    "## Building a logistic regression\n",
    "\n",
    "$$\\ell\\ell(\\mathbf{w}) = \\sum_{i=1}^N \\Big( (\\mathbf{1}[y_i = +1] - 1)\\mathbf{w}^T h(\\mathbf{x}_i) - \\ln\\left(1 + \\exp(-\\mathbf{w}^T h(\\mathbf{x}_i))\\right) \\Big) \\color{red}{-\\lambda\\|\\mathbf{w}\\|_2^2} $$"
   ]
  },
  {
   "cell_type": "code",
   "execution_count": 221,
   "metadata": {
    "collapsed": true
   },
   "outputs": [],
   "source": [
    "class logistic_classifier():\n",
    "    def __init__(self):\n",
    "        self.coefficients = np.zeros(1)\n",
    "        self.l2_penalty = 0;\n",
    "        self.iteration = 501\n",
    "        self.learning_rate = 0\n",
    "    \n",
    "    def predict_probability(self, feature_matrix):\n",
    "        #Take dot product of feature_matrix and coefficients\n",
    "        score = np.dot(feature_matrix, self.coefficients)\n",
    "        #Compute P(y_i = +1|x_i, w) using the link function\n",
    "        predictions = 1.0/(1 + np.exp(-score))\n",
    "        return predictions\n",
    "    \n",
    "    #Compute derivative of log likelihood with respect to a single coefficient\n",
    "    def feature_derivative_with_L2(self, errors, feature, coefficient, feature_is_constant):\n",
    "        #Compute the dot product of errors and feature(without L2 penalty)\n",
    "        derivative = np.dot(errors, feature)\n",
    "        \n",
    "        #add L2 penalty term for any feature that isn't the intercept\n",
    "        if not feature_is_constant:\n",
    "            derivative -= 2 * self.l2_penalty * coefficient\n",
    "        return derivative\n",
    "    \n",
    "    def compute_log_likelihood_with_L2(self, feature_matrix, sentiment):\n",
    "        indicator = (sentiment == +1)\n",
    "        scores = np.dot(feature_matrix, self.coefficients)\n",
    "        lp = np.sum((indicator-1) * scores - np.log(1. + np.exp(-scores))) - self.l2_penalty*np.sum(self.coefficients[1:]**2)\n",
    "        return lp\n",
    "    \n",
    "    def fit(self, feature_matrix, sentiment, learning_rate, l2_penalty, iteration):\n",
    "        self.learning_rate = learning_rate\n",
    "        self.l2_penalty = l2_penalty\n",
    "        self.iteration = iteration\n",
    "        self.coefficients = np.zeros(feature_matrix.shape[1])\n",
    "        print (self.l2_penalty, self.iteration, self.learning_rate)\n",
    "        for itr in range(iteration):\n",
    "            #Predict P(y_i = +1|x_1,w) using your predict_probability() function\n",
    "            predictions = self.predict_probability(feature_matrix)\n",
    "\n",
    "            #compute indicator value for (y_i = +1)\n",
    "            indicator = (sentiment==+1)\n",
    "\n",
    "            #Compute the errors as indicator - predictions\n",
    "            errors = indicator - predictions\n",
    "        \n",
    "            for j in range(len(self.coefficients)): #loop over each coefficient\n",
    "                is_intercept = (j==0)\n",
    "                #Recall that feature_matrix[:,j] is the feature column associated with coefficients[j]\n",
    "                #compute the derivative for coefficients[j]. Save it in a variable called derivative\n",
    "                derivative = self.feature_derivative_with_L2(errors, feature_matrix[:,j], self.coefficients[j], is_intercept)\n",
    "                #add step size times the derivative to the current coefficient(l2_penalty is already added)\n",
    "                self.coefficients[j] += learning_rate * derivative\n",
    "\n",
    "            #Checking whether log likelihood is increasing\n",
    "            if (itr <= 100 and itr %10 ==0) or \\\n",
    "                (itr <= 1000 and itr %100 ==0) or (itr <= 10000 and itr %1000 ==0) or itr % 10000 ==0:\n",
    "                    lp = self.compute_log_likelihood_with_L2(feature_matrix, sentiment)\n",
    "                    print ('iteration %*d : log likelihood of observed labels = %.8f' % \\\n",
    "                    (int(np.ceil(np.log10(iteration ))), itr, lp))\n",
    "       \n",
    "    def get_accuracy(self, feature_matrix, sentiment):\n",
    "        #compute scores using feature_matrix, coefficients\n",
    "        scores = np.dot(feature_matrix, self.coefficients)\n",
    "        #threshold scores by 0\n",
    "        positive = scores > 0\n",
    "        negative = scores <= 0\n",
    "        scores[positive] = 1\n",
    "        scores[negative] = -1\n",
    "\n",
    "        correct = float((scores == sentiment).sum())\n",
    "        total = float(len(sentiment))\n",
    "        accuracy = float(correct / total)\n",
    "        return accuracy"
   ]
  },
  {
   "cell_type": "code",
   "execution_count": 190,
   "metadata": {},
   "outputs": [],
   "source": [
    "learning_rate = 5e-6\n",
    "iteration = 501"
   ]
  },
  {
   "cell_type": "code",
   "execution_count": 191,
   "metadata": {},
   "outputs": [
    {
     "name": "stdout",
     "output_type": "stream",
     "text": [
      "0 501 5e-06\n",
      "iteration   0 : log likelihood of observed labels = -29287.06390223\n",
      "iteration  10 : log likelihood of observed labels = -28088.62554003\n",
      "iteration  20 : log likelihood of observed labels = -27175.78290343\n",
      "iteration  30 : log likelihood of observed labels = -26455.27140737\n",
      "iteration  40 : log likelihood of observed labels = -25871.23452654\n",
      "iteration  50 : log likelihood of observed labels = -25387.20269141\n",
      "iteration  60 : log likelihood of observed labels = -24978.60537531\n",
      "iteration  70 : log likelihood of observed labels = -24628.36640453\n",
      "iteration  80 : log likelihood of observed labels = -24324.27001726\n",
      "iteration  90 : log likelihood of observed labels = -24057.34770536\n",
      "iteration 100 : log likelihood of observed labels = -23820.86191965\n",
      "iteration 200 : log likelihood of observed labels = -22382.35498633\n",
      "iteration 300 : log likelihood of observed labels = -21682.05668708\n",
      "iteration 400 : log likelihood of observed labels = -21260.57132828\n",
      "iteration 500 : log likelihood of observed labels = -20977.57766506\n"
     ]
    }
   ],
   "source": [
    "l2_penalty = 0\n",
    "model_0_penalty = logistic_classifier()\n",
    "model_0_penalty.fit(feature_matrix_train, sentiment_train, learning_rate, l2_penalty, iteration)"
   ]
  },
  {
   "cell_type": "code",
   "execution_count": 192,
   "metadata": {},
   "outputs": [
    {
     "name": "stdout",
     "output_type": "stream",
     "text": [
      "5 501 5e-06\n",
      "iteration   0 : log likelihood of observed labels = -29287.06750120\n",
      "iteration  10 : log likelihood of observed labels = -28089.29823451\n",
      "iteration  20 : log likelihood of observed labels = -27177.89617647\n",
      "iteration  30 : log likelihood of observed labels = -26459.26322164\n",
      "iteration  40 : log likelihood of observed labels = -25877.35871857\n",
      "iteration  50 : log likelihood of observed labels = -25395.60689297\n",
      "iteration  60 : log likelihood of observed labels = -24989.37313102\n",
      "iteration  70 : log likelihood of observed labels = -24641.54106185\n",
      "iteration  80 : log likelihood of observed labels = -24339.86891477\n",
      "iteration  90 : log likelihood of observed labels = -24075.37094973\n",
      "iteration 100 : log likelihood of observed labels = -23841.29801028\n",
      "iteration 200 : log likelihood of observed labels = -22425.36293482\n",
      "iteration 300 : log likelihood of observed labels = -21744.45142306\n",
      "iteration 400 : log likelihood of observed labels = -21339.69862901\n",
      "iteration 500 : log likelihood of observed labels = -21071.33711005\n"
     ]
    }
   ],
   "source": [
    "l2_penalty = 5\n",
    "model_5_penalty = logistic_classifier()\n",
    "model_5_penalty.fit(feature_matrix_train, sentiment_train, learning_rate, l2_penalty, iteration)"
   ]
  },
  {
   "cell_type": "code",
   "execution_count": 193,
   "metadata": {},
   "outputs": [
    {
     "name": "stdout",
     "output_type": "stream",
     "text": [
      "10 501 5e-06\n",
      "iteration   0 : log likelihood of observed labels = -29287.07110017\n",
      "iteration  10 : log likelihood of observed labels = -28089.97048689\n",
      "iteration  20 : log likelihood of observed labels = -27180.00672470\n",
      "iteration  30 : log likelihood of observed labels = -26463.24743113\n",
      "iteration  40 : log likelihood of observed labels = -25883.46754228\n",
      "iteration  50 : log likelihood of observed labels = -25403.98499487\n",
      "iteration  60 : log likelihood of observed labels = -25000.10109681\n",
      "iteration  70 : log likelihood of observed labels = -24654.65933405\n",
      "iteration  80 : log likelihood of observed labels = -24355.39200347\n",
      "iteration  90 : log likelihood of observed labels = -24093.29622028\n",
      "iteration 100 : log likelihood of observed labels = -23861.61131254\n",
      "iteration 200 : log likelihood of observed labels = -22467.87354180\n",
      "iteration 300 : log likelihood of observed labels = -21805.79445236\n",
      "iteration 400 : log likelihood of observed labels = -21417.09158280\n",
      "iteration 500 : log likelihood of observed labels = -21162.58603493\n"
     ]
    }
   ],
   "source": [
    "l2_penalty = 10\n",
    "model_10_penalty = logistic_classifier()\n",
    "model_10_penalty.fit(feature_matrix_train, sentiment_train, learning_rate, l2_penalty, iteration)"
   ]
  },
  {
   "cell_type": "code",
   "execution_count": 194,
   "metadata": {},
   "outputs": [
    {
     "name": "stdout",
     "output_type": "stream",
     "text": [
      "100.0 501 5e-06\n",
      "iteration   0 : log likelihood of observed labels = -29287.13588163\n",
      "iteration  10 : log likelihood of observed labels = -28101.99578803\n",
      "iteration  20 : log likelihood of observed labels = -27217.53511752\n",
      "iteration  30 : log likelihood of observed labels = -26533.68150895\n",
      "iteration  40 : log likelihood of observed labels = -25990.84878768\n",
      "iteration  50 : log likelihood of observed labels = -25550.43466554\n",
      "iteration  60 : log likelihood of observed labels = -25186.59572719\n",
      "iteration  70 : log likelihood of observed labels = -24881.46896198\n",
      "iteration  80 : log likelihood of observed labels = -24622.33941284\n",
      "iteration  90 : log likelihood of observed labels = -24399.91656670\n",
      "iteration 100 : log likelihood of observed labels = -24207.25382419\n",
      "iteration 200 : log likelihood of observed labels = -23155.94945284\n",
      "iteration 300 : log likelihood of observed labels = -22754.52380386\n",
      "iteration 400 : log likelihood of observed labels = -22565.38937010\n",
      "iteration 500 : log likelihood of observed labels = -22466.10134321\n"
     ]
    }
   ],
   "source": [
    "l2_penalty = 1e2\n",
    "model_1e2_penalty = logistic_classifier()\n",
    "model_1e2_penalty.fit(feature_matrix_train, sentiment_train, learning_rate, l2_penalty, iteration)"
   ]
  },
  {
   "cell_type": "code",
   "execution_count": 195,
   "metadata": {},
   "outputs": [
    {
     "name": "stdout",
     "output_type": "stream",
     "text": [
      "1000.0 501 5e-06\n",
      "iteration   0 : log likelihood of observed labels = -29287.78369630\n",
      "iteration  10 : log likelihood of observed labels = -28214.76539715\n",
      "iteration  20 : log likelihood of observed labels = -27549.02849720\n",
      "iteration  30 : log likelihood of observed labels = -27121.79958803\n",
      "iteration  40 : log likelihood of observed labels = -26841.01785063\n",
      "iteration  50 : log likelihood of observed labels = -26652.85945965\n",
      "iteration  60 : log likelihood of observed labels = -26524.74054687\n",
      "iteration  70 : log likelihood of observed labels = -26436.33838450\n",
      "iteration  80 : log likelihood of observed labels = -26374.65551489\n",
      "iteration  90 : log likelihood of observed labels = -26331.20326486\n",
      "iteration 100 : log likelihood of observed labels = -26300.33933756\n",
      "iteration 200 : log likelihood of observed labels = -26222.84056862\n",
      "iteration 300 : log likelihood of observed labels = -26218.95373328\n",
      "iteration 400 : log likelihood of observed labels = -26218.70054593\n",
      "iteration 500 : log likelihood of observed labels = -26218.68153956\n"
     ]
    }
   ],
   "source": [
    "l2_penalty = 1e3\n",
    "model_1e3_penalty = logistic_classifier()\n",
    "model_1e3_penalty.fit(feature_matrix_train, sentiment_train, learning_rate, l2_penalty, iteration)"
   ]
  },
  {
   "cell_type": "code",
   "execution_count": 222,
   "metadata": {},
   "outputs": [
    {
     "name": "stdout",
     "output_type": "stream",
     "text": [
      "100000.0 501 5e-06\n",
      "iteration   0 : log likelihood of observed labels = -29359.04330973\n",
      "iteration  10 : log likelihood of observed labels = -29358.94869675\n",
      "iteration  20 : log likelihood of observed labels = -29358.93904964\n",
      "iteration  30 : log likelihood of observed labels = -29358.93555134\n",
      "iteration  40 : log likelihood of observed labels = -29358.93428275\n",
      "iteration  50 : log likelihood of observed labels = -29358.93382273\n",
      "iteration  60 : log likelihood of observed labels = -29358.93365591\n",
      "iteration  70 : log likelihood of observed labels = -29358.93359542\n",
      "iteration  80 : log likelihood of observed labels = -29358.93357348\n",
      "iteration  90 : log likelihood of observed labels = -29358.93356553\n",
      "iteration 100 : log likelihood of observed labels = -29358.93356264\n",
      "iteration 200 : log likelihood of observed labels = -29358.93356100\n",
      "iteration 300 : log likelihood of observed labels = -29358.93356100\n",
      "iteration 400 : log likelihood of observed labels = -29358.93356100\n",
      "iteration 500 : log likelihood of observed labels = -29358.93356100\n"
     ]
    }
   ],
   "source": [
    "l2_penalty = 1e5\n",
    "model_1e5_penalty = logistic_classifier()\n",
    "model_1e5_penalty.fit(feature_matrix_train, sentiment_train, learning_rate, l2_penalty, iteration)"
   ]
  },
  {
   "cell_type": "markdown",
   "metadata": {},
   "source": [
    "# Visualize the result"
   ]
  },
  {
   "cell_type": "code",
   "execution_count": 224,
   "metadata": {
    "collapsed": true
   },
   "outputs": [],
   "source": [
    "#but we gonna use this DataFrame\n",
    "table = pd.DataFrame({'word': important_words, \n",
    "                      'l2_penalty_0': model_0_penalty.coefficients[1:],\n",
    "                      'l2_penalty_5': model_5_penalty.coefficients[1:],\n",
    "                      'l2_penalty_10': model_10_penalty.coefficients[1:],\n",
    "                      'l2_penalty_1e2': model_1e2_penalty.coefficients[1:],\n",
    "                      'l2_penalty_1e3': model_1e3_penalty.coefficients[1:],\n",
    "                      'l2_penalty_1e5': model_1e5_penalty.coefficients[1:]})"
   ]
  },
  {
   "cell_type": "code",
   "execution_count": 228,
   "metadata": {},
   "outputs": [
    {
     "name": "stdout",
     "output_type": "stream",
     "text": [
      "Positive words : \n",
      " 3        love\n",
      "7        easy\n",
      "2       great\n",
      "33    perfect\n",
      "82      happy\n",
      "Name: word, dtype: object\n",
      "Negative words : \n",
      " 99          thought\n",
      "96            money\n",
      "168        returned\n",
      "105    disappointed\n",
      "113          return\n",
      "Name: word, dtype: object\n"
     ]
    }
   ],
   "source": [
    "table = table.sort_values(['l2_penalty_0'], ascending=[0])\n",
    "table = table[['word', 'l2_penalty_0', 'l2_penalty_5', 'l2_penalty_10', 'l2_penalty_1e2', 'l2_penalty_1e3', 'l2_penalty_1e5']]\n",
    "positive_words = table[1:6]['word']\n",
    "negative_words = table[-6:-1]['word']\n",
    "print ('Positive words : \\n', positive_words)\n",
    "print ('Negative words : \\n', negative_words)"
   ]
  },
  {
   "cell_type": "code",
   "execution_count": 229,
   "metadata": {},
   "outputs": [
    {
     "data": {
      "text/html": [
       "<div>\n",
       "<style>\n",
       "    .dataframe thead tr:only-child th {\n",
       "        text-align: right;\n",
       "    }\n",
       "\n",
       "    .dataframe thead th {\n",
       "        text-align: left;\n",
       "    }\n",
       "\n",
       "    .dataframe tbody tr th {\n",
       "        vertical-align: top;\n",
       "    }\n",
       "</style>\n",
       "<table border=\"1\" class=\"dataframe\">\n",
       "  <thead>\n",
       "    <tr style=\"text-align: right;\">\n",
       "      <th></th>\n",
       "      <th>word</th>\n",
       "      <th>l2_penalty_0</th>\n",
       "      <th>l2_penalty_5</th>\n",
       "      <th>l2_penalty_10</th>\n",
       "      <th>l2_penalty_1e2</th>\n",
       "      <th>l2_penalty_1e3</th>\n",
       "      <th>l2_penalty_1e5</th>\n",
       "    </tr>\n",
       "  </thead>\n",
       "  <tbody>\n",
       "    <tr>\n",
       "      <th>22</th>\n",
       "      <td>loves</td>\n",
       "      <td>1.079773</td>\n",
       "      <td>1.068865</td>\n",
       "      <td>1.058152</td>\n",
       "      <td>0.894294</td>\n",
       "      <td>0.006031</td>\n",
       "      <td>0.006031</td>\n",
       "    </tr>\n",
       "    <tr>\n",
       "      <th>3</th>\n",
       "      <td>love</td>\n",
       "      <td>1.073764</td>\n",
       "      <td>1.064262</td>\n",
       "      <td>1.054938</td>\n",
       "      <td>0.913068</td>\n",
       "      <td>0.008937</td>\n",
       "      <td>0.008937</td>\n",
       "    </tr>\n",
       "    <tr>\n",
       "      <th>7</th>\n",
       "      <td>easy</td>\n",
       "      <td>1.032797</td>\n",
       "      <td>1.023669</td>\n",
       "      <td>1.014713</td>\n",
       "      <td>0.878385</td>\n",
       "      <td>0.008436</td>\n",
       "      <td>0.008436</td>\n",
       "    </tr>\n",
       "    <tr>\n",
       "      <th>2</th>\n",
       "      <td>great</td>\n",
       "      <td>0.765449</td>\n",
       "      <td>0.759323</td>\n",
       "      <td>0.753307</td>\n",
       "      <td>0.661158</td>\n",
       "      <td>0.006930</td>\n",
       "      <td>0.006930</td>\n",
       "    </tr>\n",
       "    <tr>\n",
       "      <th>33</th>\n",
       "      <td>perfect</td>\n",
       "      <td>0.714365</td>\n",
       "      <td>0.706664</td>\n",
       "      <td>0.699097</td>\n",
       "      <td>0.582801</td>\n",
       "      <td>0.003026</td>\n",
       "      <td>0.003026</td>\n",
       "    </tr>\n",
       "  </tbody>\n",
       "</table>\n",
       "</div>"
      ],
      "text/plain": [
       "       word  l2_penalty_0  l2_penalty_5  l2_penalty_10  l2_penalty_1e2  \\\n",
       "22    loves      1.079773      1.068865       1.058152        0.894294   \n",
       "3      love      1.073764      1.064262       1.054938        0.913068   \n",
       "7      easy      1.032797      1.023669       1.014713        0.878385   \n",
       "2     great      0.765449      0.759323       0.753307        0.661158   \n",
       "33  perfect      0.714365      0.706664       0.699097        0.582801   \n",
       "\n",
       "    l2_penalty_1e3  l2_penalty_1e5  \n",
       "22        0.006031        0.006031  \n",
       "3         0.008937        0.008937  \n",
       "7         0.008436        0.008436  \n",
       "2         0.006930        0.006930  \n",
       "33        0.003026        0.003026  "
      ]
     },
     "execution_count": 229,
     "metadata": {},
     "output_type": "execute_result"
    }
   ],
   "source": [
    "table.head()"
   ]
  },
  {
   "cell_type": "code",
   "execution_count": 230,
   "metadata": {},
   "outputs": [
    {
     "data": {
      "image/png": "[encoded data removed]",
      "text/plain": [
       "<matplotlib.figure.Figure at 0x11e0bb208>"
      ]
     },
     "metadata": {},
     "output_type": "display_data"
    }
   ],
   "source": [
    "plt.rcParams['figure.figsize'] = 10, 6\n",
    "\n",
    "def make_coefficient_plot(table, positive_words, negative_words, l2_penalty_list):\n",
    "    cmap_positive = plt.get_cmap('Reds')\n",
    "    cmap_negative = plt.get_cmap('Blues')\n",
    "    \n",
    "    xx = l2_penalty_list\n",
    "    plt.plot(xx, [0.]*len(xx), '--', lw=1, color='k')\n",
    "    \n",
    "    table_positive_words = table[table['word'].isin(positive_words)]\n",
    "    table_negative_words = table[table['word'].isin(negative_words)]\n",
    "    del table_positive_words['word']\n",
    "    del table_negative_words['word']\n",
    "    \n",
    "    for i in range(len(positive_words)):\n",
    "        color = cmap_positive(0.8*((i+1)/(len(positive_words)*1.2)+0.15))\n",
    "        plt.plot(xx, table_positive_words[i:i+1].as_matrix().flatten(),\n",
    "                 '-', label=positive_words.iloc[i], linewidth=4.0, color=color)\n",
    "        \n",
    "    for i in range(len(negative_words)):\n",
    "        color = cmap_negative(0.8*((i+1)/(len(negative_words)*1.2)+0.15))\n",
    "        plt.plot(xx, table_negative_words[i:i+1].as_matrix().flatten(),\n",
    "                 '-', label=negative_words.iloc[i], linewidth=4.0, color=color)\n",
    "        \n",
    "    plt.legend(loc='best', ncol=3, prop={'size':16}, columnspacing=0.5)\n",
    "    plt.axis([1, 1e5, -1, 2])\n",
    "    plt.title('Coefficient path')\n",
    "    plt.xlabel('L2 penalty ($\\lambda$)')\n",
    "    plt.ylabel('Coefficient value')\n",
    "    plt.xscale('log')\n",
    "    plt.rcParams.update({'font.size': 18})\n",
    "    plt.tight_layout()\n",
    "\n",
    "\n",
    "make_coefficient_plot(table, positive_words, negative_words, l2_penalty_list=[0, 5, 10, 1e2, 1e3, 1e5])"
   ]
  },
  {
   "cell_type": "code",
   "execution_count": 236,
   "metadata": {
    "collapsed": true
   },
   "outputs": [],
   "source": [
    "def get_accuracy(feature_matrix, coefficients, sentiment):\n",
    "    #compute scores using feature_matrix, coefficients\n",
    "    scores = np.dot(feature_matrix, coefficients)\n",
    "    #threshold scores by 0\n",
    "    positive = scores > 0\n",
    "    negative = scores <= 0\n",
    "    scores[positive] = 1\n",
    "    scores[negative] = -1\n",
    "\n",
    "    correct = float((scores == sentiment).sum())\n",
    "    total = float(len(sentiment))\n",
    "    accuracy = float(correct / total)\n",
    "    return accuracy"
   ]
  },
  {
   "cell_type": "code",
   "execution_count": 240,
   "metadata": {},
   "outputs": [
    {
     "name": "stdout",
     "output_type": "stream",
     "text": [
      "{0: 0.7699844552263413, 5: 0.7699844552263413, 10: 0.7699137971642565, 100.0: 0.7690894531065995, 1000.0: 0.7244571105563145, 100000.0: 0.7244571105563145}\n"
     ]
    }
   ],
   "source": [
    "train_accuracy = {}\n",
    "train_accuracy[0] = model_0_penalty.get_accuracy(feature_matrix_train, sentiment_train)\n",
    "train_accuracy[5] = model_5_penalty.get_accuracy(feature_matrix_train, sentiment_train)\n",
    "train_accuracy[10] = model_10_penalty.get_accuracy(feature_matrix_train, sentiment_train)\n",
    "train_accuracy[1e2] = model_1e2_penalty.get_accuracy(feature_matrix_train, sentiment_train)\n",
    "train_accuracy[1e3] = model_1e3_penalty.get_accuracy(feature_matrix_train, sentiment_train)\n",
    "train_accuracy[1e5] = model_1e5_penalty.get_accuracy(feature_matrix_train, sentiment_train)\n",
    "print (train_accuracy)"
   ]
  },
  {
   "cell_type": "code",
   "execution_count": 241,
   "metadata": {},
   "outputs": [
    {
     "name": "stdout",
     "output_type": "stream",
     "text": [
      "{0: 0.7658752590917656, 5: 0.7654983983418127, 10: 0.7654041831543245, 100.0: 0.7634256642170718, 1000.0: 0.7218767665347654, 100000.0: 0.7218767665347654}\n"
     ]
    }
   ],
   "source": [
    "validation_accuracy = {}\n",
    "validation_accuracy[0] = model_0_penalty.get_accuracy(feature_matrix_valid, sentiment_valid)\n",
    "validation_accuracy[5] = model_5_penalty.get_accuracy(feature_matrix_valid, sentiment_valid)\n",
    "validation_accuracy[10] = model_10_penalty.get_accuracy(feature_matrix_valid, sentiment_valid)\n",
    "validation_accuracy[1e2] = model_1e2_penalty.get_accuracy(feature_matrix_valid, sentiment_valid)\n",
    "validation_accuracy[1e3] = model_1e3_penalty.get_accuracy(feature_matrix_valid, sentiment_valid)\n",
    "validation_accuracy[1e5] = model_1e5_penalty.get_accuracy(feature_matrix_valid, sentiment_valid)\n",
    "print (validation_accuracy)"
   ]
  },
  {
   "cell_type": "code",
   "execution_count": 243,
   "metadata": {},
   "outputs": [
    {
     "data": {
      "text/plain": [
       "<function matplotlib.pyplot.tight_layout>"
      ]
     },
     "execution_count": 243,
     "metadata": {},
     "output_type": "execute_result"
    },
    {
     "data": {
      "image/png": "[encoded data removed]",
      "text/plain": [
       "<matplotlib.figure.Figure at 0x1198df978>"
      ]
     },
     "metadata": {},
     "output_type": "display_data"
    }
   ],
   "source": [
    "# Optional. Plot accuracy on training and validation sets over choice of L2 penalty.\n",
    "plt.rcParams['figure.figsize'] = 10, 6\n",
    "\n",
    "sorted_list = sorted(train_accuracy.items(), key=lambda x:x[0])\n",
    "plt.plot([p[0] for p in sorted_list], [p[1] for p in sorted_list], 'bo-', linewidth=4, label='Training accuracy')\n",
    "sorted_list = sorted(validation_accuracy.items(), key=lambda x:x[0])\n",
    "plt.plot([p[0] for p in sorted_list], [p[1] for p in sorted_list], 'ro-', linewidth=4, label='Validation accuracy')\n",
    "plt.xscale('symlog')\n",
    "plt.axis([0, 1e5, 0.70, 0.78])\n",
    "plt.legend(loc='lower left')\n",
    "plt.rcParams.update({'font.size': 18})\n",
    "plt.tight_layout"
   ]
  },
  {
   "cell_type": "code",
   "execution_count": null,
   "metadata": {
    "collapsed": true
   },
   "outputs": [],
   "source": []
  },
  {
   "cell_type": "code",
   "execution_count": null,
   "metadata": {
    "collapsed": true
   },
   "outputs": [],
   "source": []
  }
 ],
 "metadata": {
  "kernelspec": {
   "display_name": "Python 3",
   "language": "python",
   "name": "python3"
  },
  "language_info": {
   "codemirror_mode": {
    "name": "ipython",
    "version": 3
   },
   "file_extension": ".py",
   "mimetype": "text/x-python",
   "name": "python",
   "nbconvert_exporter": "python",
   "pygments_lexer": "ipython3",
   "version": "3.6.0"
  }
 },
 "nbformat": 4,
 "nbformat_minor": 1
}
