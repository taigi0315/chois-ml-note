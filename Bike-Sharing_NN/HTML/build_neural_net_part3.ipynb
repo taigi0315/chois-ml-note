{
 "cells": [
  {
   "cell_type": "markdown",
   "metadata": {},
   "source": [
    "## Actual prediction on 'Test' data set using the model we trained & submit on Kaggle\n",
    "### Don't forget to run codes from part_1, part_2 if you restarted kernel !\n",
    "*** "
   ]
  },
  {
   "cell_type": "markdown",
   "metadata": {},
   "source": [
    "We are going to do exactly same data-prep we did on part_1 with 'Test' data "
   ]
  },
  {
   "cell_type": "code",
   "execution_count": 34,
   "metadata": {
    "collapsed": true
   },
   "outputs": [],
   "source": [
    "# load test data\n",
    "test = pd.read_csv('data/test.csv')"
   ]
  },
  {
   "cell_type": "code",
   "execution_count": 35,
   "metadata": {
    "collapsed": true
   },
   "outputs": [],
   "source": [
    "# extract month, and hour features from datetime\n",
    "test.datetime = test.datetime.apply(pd.to_datetime)\n",
    "test['month'] = test.datetime.apply(lambda x: x.month)\n",
    "test['hour'] = test.datetime.apply(lambda x : x.hour)"
   ]
  },
  {
   "cell_type": "code",
   "execution_count": 36,
   "metadata": {
    "collapsed": true
   },
   "outputs": [],
   "source": [
    "# Apply One-Hot-Encoding\n",
    "dummy_fields = ['season', 'weather', 'workingday', 'holiday', 'hour', 'month']\n",
    "for field in dummy_fields:\n",
    "    dummy = pd.get_dummies(test[field], prefix=field, drop_first=False)\n",
    "    test = pd.concat([test, dummy], axis=1)\n",
    "# Drop the fields we don't need\n",
    "drop_fields = ['datetime', 'season', 'weather', 'workingday', 'holiday', 'atemp', 'hour', 'month']\n",
    "test = test.drop(drop_fields, axis=1)"
   ]
  },
  {
   "cell_type": "code",
   "execution_count": 37,
   "metadata": {
    "collapsed": true
   },
   "outputs": [],
   "source": [
    "# Normalize continuous variable\n",
    "# Remember, we use mean/std from 'Train' data, not 'Test' data\n",
    "test_quant_features = ['temp', 'humidity', 'windspeed']\n",
    "for each in test_quant_features:\n",
    "    mean, std = scaled_features[each]\n",
    "    test.loc[:, each] = (test[each] - mean)/std"
   ]
  },
  {
   "cell_type": "code",
   "execution_count": 38,
   "metadata": {
    "collapsed": true
   },
   "outputs": [],
   "source": [
    "# Calculate Prediction using 'Test' data\n",
    "mean, std = scaled_features['count']\n",
    "test_predict = network.run(test).T*std + mean"
   ]
  },
  {
   "cell_type": "code",
   "execution_count": 40,
   "metadata": {
    "collapsed": true
   },
   "outputs": [],
   "source": [
    "submit = pd.read_csv('data/test.csv')\n",
    "submit['count'] = test_predict.T\n",
    "submit = submit[['datetime', 'count']]\n",
    "# There are some negative prediction values which Kaggle does not accept as prediction \n",
    "# We will replace those with zeros\n",
    "submit['count'].loc[submit['count'] < 0] = 0\n",
    "# Save the result as csv file\n",
    "submit.to_csv('submit.csv', index=False)"
   ]
  },
  {
   "cell_type": "markdown",
   "metadata": {},
   "source": [
    "## Alright, ready to submit !\n",
    "***"
   ]
  },
  {
   "cell_type": "code",
   "execution_count": null,
   "metadata": {
    "collapsed": true
   },
   "outputs": [],
   "source": []
  }
 ],
 "metadata": {
  "kernelspec": {
   "display_name": "Python 3",
   "language": "python",
   "name": "python3"
  },
  "language_info": {
   "codemirror_mode": {
    "name": "ipython",
    "version": 3
   },
   "file_extension": ".py",
   "mimetype": "text/x-python",
   "name": "python",
   "nbconvert_exporter": "python",
   "pygments_lexer": "ipython3",
   "version": "3.5.4"
  }
 },
 "nbformat": 4,
 "nbformat_minor": 2
}
